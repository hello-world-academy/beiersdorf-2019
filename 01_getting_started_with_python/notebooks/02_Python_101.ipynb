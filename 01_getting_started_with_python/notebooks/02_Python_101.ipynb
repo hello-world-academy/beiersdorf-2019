{
 "cells": [
  {
   "cell_type": "markdown",
   "metadata": {},
   "source": [
    "# Python 101 - An Introduction to Python"
   ]
  },
  {
   "cell_type": "markdown",
   "metadata": {},
   "source": [
    "## 1. Objects\n",
    "\n",
    "The most basic component of any programming language are \"things\", also called variables or\n",
    "(in special cases) objects.\n",
    "\n",
    "The most common basic \"things\" in Python are integers, floats, strings, booleans, and\n",
    "some special objects of various types. We'll meet many of these as we go through the lesson."
   ]
  },
  {
   "cell_type": "markdown",
   "metadata": {},
   "source": [
    "__TIP:__ To run the code in a cell quickly, press Ctrl-Enter."
   ]
  },
  {
   "cell_type": "markdown",
   "metadata": {},
   "source": [
    "__TIP:__ To run the code in a cell and go to next cell, press Shift-Enter."
   ]
  },
  {
   "cell_type": "code",
   "execution_count": 1,
   "metadata": {},
   "outputs": [
    {
     "data": {
      "text/plain": [
       "2"
      ]
     },
     "execution_count": 1,
     "metadata": {},
     "output_type": "execute_result"
    }
   ],
   "source": [
    "# A thing\n",
    "2"
   ]
  },
  {
   "cell_type": "code",
   "execution_count": 2,
   "metadata": {
    "scrolled": true
   },
   "outputs": [
    {
     "name": "stdout",
     "output_type": "stream",
     "text": [
      "2\n",
      "5\n",
      "Hello\n"
     ]
    }
   ],
   "source": [
    "# Use print to show multiple things in the same cell\n",
    "# Note that you can use single or double quotes for strings\n",
    "print(2)\n",
    "print(5)\n",
    "print(\"Hello\")"
   ]
  },
  {
   "cell_type": "code",
   "execution_count": 3,
   "metadata": {},
   "outputs": [
    {
     "name": "stdout",
     "output_type": "stream",
     "text": [
      "2 Hello True 2.0 [2, True, 2.0]\n"
     ]
    }
   ],
   "source": [
    "a = 2\n",
    "b = \"Hello\"\n",
    "c = True\n",
    "d = 2.0\n",
    "e = [a,c,d]\n",
    "print(a,b,c,d,e)"
   ]
  },
  {
   "cell_type": "code",
   "execution_count": 4,
   "metadata": {},
   "outputs": [
    {
     "name": "stdout",
     "output_type": "stream",
     "text": [
      "<class 'int'> <class 'str'> <class 'bool'> <class 'float'> <class 'list'>\n"
     ]
    }
   ],
   "source": [
    "print(\n",
    "    type(a),\n",
    "    type(b),\n",
    "    type(c),\n",
    "    type(d),\n",
    "    type(e),\n",
    "     )"
   ]
  },
  {
   "cell_type": "markdown",
   "metadata": {},
   "source": [
    "## 2. Commands that operate on things\n",
    "\n",
    "Just storing data in variables isn't much use to us. Right away, we'd like to start performing\n",
    "operations and manipulations on data and variables.\n",
    "\n",
    "There are three very common means of performing an operation on a thing."
   ]
  },
  {
   "cell_type": "markdown",
   "metadata": {},
   "source": [
    "### 2.1 Use an operator\n",
    "\n",
    "All of the basic math operators work like you think they should for numbers. They can also\n",
    "do some useful operations on other things, like strings. There are also boolean operators that\n",
    "compare quantities and give back a `bool` variable as a result."
   ]
  },
  {
   "cell_type": "code",
   "execution_count": 5,
   "metadata": {
    "collapsed": true
   },
   "outputs": [],
   "source": [
    "a = 2 \n",
    "b = 3"
   ]
  },
  {
   "cell_type": "code",
   "execution_count": 6,
   "metadata": {},
   "outputs": [
    {
     "name": "stdout",
     "output_type": "stream",
     "text": [
      "5 6 8 0.6666666666666666 0\n"
     ]
    }
   ],
   "source": [
    "# this is a comment\n",
    "print(\n",
    "    a+b, # this is a comment\n",
    "    a*b, # this is a comment\n",
    "    a**b, # this is a comment\n",
    "    a/b,\n",
    "    a//b\n",
    ")"
   ]
  },
  {
   "cell_type": "code",
   "execution_count": 7,
   "metadata": {},
   "outputs": [
    {
     "data": {
      "text/plain": [
       "'Hello World'"
      ]
     },
     "execution_count": 7,
     "metadata": {},
     "output_type": "execute_result"
    }
   ],
   "source": [
    "\"Hello\" + \" World\""
   ]
  },
  {
   "cell_type": "code",
   "execution_count": 8,
   "metadata": {},
   "outputs": [
    {
     "data": {
      "text/plain": [
       "'Hello Hello Hello Hello '"
      ]
     },
     "execution_count": 8,
     "metadata": {},
     "output_type": "execute_result"
    }
   ],
   "source": [
    "\"Hello \" * 4"
   ]
  },
  {
   "cell_type": "code",
   "execution_count": 9,
   "metadata": {
    "collapsed": true,
    "scrolled": true
   },
   "outputs": [],
   "source": [
    "#\"Hello \"**4"
   ]
  },
  {
   "cell_type": "code",
   "execution_count": 10,
   "metadata": {},
   "outputs": [
    {
     "name": "stdout",
     "output_type": "stream",
     "text": [
      "False True\n"
     ]
    }
   ],
   "source": [
    "# Boolean operators compare two things\n",
    "a = (1 > 3)\n",
    "b = (3 == 3)\n",
    "print(a, b)"
   ]
  },
  {
   "cell_type": "code",
   "execution_count": 11,
   "metadata": {},
   "outputs": [
    {
     "name": "stdout",
     "output_type": "stream",
     "text": [
      "1  True\n",
      "2  False\n",
      "3  True\n"
     ]
    }
   ],
   "source": [
    "c = True\n",
    "\n",
    "print(\"1 \", a or b) #1\n",
    "print(\"2 \", a and b) #2\n",
    "print(\"3 \", b and c) #3"
   ]
  },
  {
   "cell_type": "markdown",
   "metadata": {},
   "source": [
    "### 2.2 Use a function\n",
    "\n",
    "These will be very familiar to anyone who has programmed in any language, and work like you\n",
    "would expect."
   ]
  },
  {
   "cell_type": "code",
   "execution_count": 12,
   "metadata": {
    "collapsed": true
   },
   "outputs": [],
   "source": [
    "a = \"hello world\""
   ]
  },
  {
   "cell_type": "code",
   "execution_count": 13,
   "metadata": {},
   "outputs": [
    {
     "data": {
      "text/plain": [
       "str"
      ]
     },
     "execution_count": 13,
     "metadata": {},
     "output_type": "execute_result"
    }
   ],
   "source": [
    "type(a)"
   ]
  },
  {
   "cell_type": "markdown",
   "metadata": {},
   "source": [
    "Only very few functions are available by default in the Python interpreter (``print()``, ``len()``, ``type()``, ``round()``, ...).\n",
    "All other functions must be imported from modules. "
   ]
  },
  {
   "cell_type": "code",
   "execution_count": 14,
   "metadata": {},
   "outputs": [
    {
     "name": "stdout",
     "output_type": "stream",
     "text": [
      "5\n",
      "3\n"
     ]
    }
   ],
   "source": [
    "print(len('hello'))\n",
    "print(round(3.3))"
   ]
  },
  {
   "cell_type": "code",
   "execution_count": 15,
   "metadata": {
    "collapsed": true
   },
   "outputs": [],
   "source": [
    "#?round"
   ]
  },
  {
   "cell_type": "code",
   "execution_count": 16,
   "metadata": {},
   "outputs": [
    {
     "data": {
      "text/plain": [
       "3.142"
      ]
     },
     "execution_count": 16,
     "metadata": {},
     "output_type": "execute_result"
    }
   ],
   "source": [
    "round(3.14159,3)"
   ]
  },
  {
   "cell_type": "code",
   "execution_count": 17,
   "metadata": {
    "collapsed": true
   },
   "outputs": [],
   "source": [
    "dir(__builtins__);"
   ]
  },
  {
   "cell_type": "code",
   "execution_count": 18,
   "metadata": {
    "collapsed": true
   },
   "outputs": [],
   "source": [
    "import math"
   ]
  },
  {
   "cell_type": "code",
   "execution_count": 19,
   "metadata": {},
   "outputs": [
    {
     "data": {
      "text/plain": [
       "3.141592653589793"
      ]
     },
     "execution_count": 19,
     "metadata": {},
     "output_type": "execute_result"
    }
   ],
   "source": [
    "math.pi"
   ]
  },
  {
   "cell_type": "code",
   "execution_count": 20,
   "metadata": {
    "collapsed": true
   },
   "outputs": [],
   "source": [
    "import math as m"
   ]
  },
  {
   "cell_type": "code",
   "execution_count": 21,
   "metadata": {},
   "outputs": [
    {
     "data": {
      "text/plain": [
       "3.141592653589793"
      ]
     },
     "execution_count": 21,
     "metadata": {},
     "output_type": "execute_result"
    }
   ],
   "source": [
    "m.pi"
   ]
  },
  {
   "cell_type": "code",
   "execution_count": 22,
   "metadata": {
    "collapsed": true
   },
   "outputs": [],
   "source": [
    "from math import pi"
   ]
  },
  {
   "cell_type": "code",
   "execution_count": 23,
   "metadata": {},
   "outputs": [
    {
     "data": {
      "text/plain": [
       "3.141592653589793"
      ]
     },
     "execution_count": 23,
     "metadata": {},
     "output_type": "execute_result"
    }
   ],
   "source": [
    "pi"
   ]
  },
  {
   "cell_type": "code",
   "execution_count": 24,
   "metadata": {
    "collapsed": true
   },
   "outputs": [],
   "source": [
    "from math import *"
   ]
  },
  {
   "cell_type": "code",
   "execution_count": 25,
   "metadata": {},
   "outputs": [
    {
     "data": {
      "text/plain": [
       "2.0"
      ]
     },
     "execution_count": 25,
     "metadata": {},
     "output_type": "execute_result"
    }
   ],
   "source": [
    "math.sqrt(4)"
   ]
  },
  {
   "cell_type": "code",
   "execution_count": 26,
   "metadata": {},
   "outputs": [
    {
     "data": {
      "text/plain": [
       "2.0"
      ]
     },
     "execution_count": 26,
     "metadata": {},
     "output_type": "execute_result"
    }
   ],
   "source": [
    "sqrt(4)"
   ]
  },
  {
   "cell_type": "markdown",
   "metadata": {},
   "source": [
    "### 2.3 Use a method\n",
    "\n",
    "Before we get any farther into the Python language, we have to say a word about \"objects\". We\n",
    "will not be teaching object oriented programming in this workshop, but you will encounter objects\n",
    "throughout Python (in fact, even seemingly simple things like ints and strings are actually\n",
    "objects in Python).\n",
    "\n",
    "In the simplest terms, you can think of an object as a small bundled \"thing\" that contains within\n",
    "itself both data and functions that operate on that data. For example, strings in Python are\n",
    "objects that contain a set of characters and also various functions that operate on the set of\n",
    "characters. When bundled in an object, these functions are called \"methods\".\n",
    "\n",
    "Instead of the \"normal\" `function(arguments)` syntax, methods are called using the\n",
    "syntax `variable.method(arguments)`."
   ]
  },
  {
   "cell_type": "code",
   "execution_count": 27,
   "metadata": {},
   "outputs": [
    {
     "name": "stdout",
     "output_type": "stream",
     "text": [
      "Hello world\n",
      "Hello World\n",
      "HELLO WORLD\n",
      "hell-- w--rld\n"
     ]
    }
   ],
   "source": [
    "print(a.capitalize())\n",
    "print(a.title())\n",
    "print(a.upper())\n",
    "print(a.replace(\"o\", \"--\"))"
   ]
  },
  {
   "cell_type": "markdown",
   "metadata": {},
   "source": [
    "__TIP:__ To find out what a function does, you can type it's name and then a question mark to\n",
    "get a pop up help window. Shift-Tab for a tool-tip."
   ]
  },
  {
   "cell_type": "markdown",
   "metadata": {},
   "source": [
    "## 3. Indexing and Slicing"
   ]
  },
  {
   "cell_type": "code",
   "execution_count": 28,
   "metadata": {},
   "outputs": [
    {
     "data": {
      "text/plain": [
       "'HELLO WORLD'"
      ]
     },
     "execution_count": 28,
     "metadata": {},
     "output_type": "execute_result"
    }
   ],
   "source": [
    "a = a.upper()\n",
    "a"
   ]
  },
  {
   "cell_type": "code",
   "execution_count": 29,
   "metadata": {},
   "outputs": [
    {
     "data": {
      "text/plain": [
       "'HE'"
      ]
     },
     "execution_count": 29,
     "metadata": {},
     "output_type": "execute_result"
    }
   ],
   "source": [
    "a[0:2]"
   ]
  },
  {
   "cell_type": "code",
   "execution_count": 30,
   "metadata": {},
   "outputs": [
    {
     "data": {
      "text/plain": [
       "'LLO WORLD'"
      ]
     },
     "execution_count": 30,
     "metadata": {},
     "output_type": "execute_result"
    }
   ],
   "source": [
    "a[2:]"
   ]
  },
  {
   "cell_type": "code",
   "execution_count": 31,
   "metadata": {},
   "outputs": [
    {
     "data": {
      "text/plain": [
       "'HELL'"
      ]
     },
     "execution_count": 31,
     "metadata": {},
     "output_type": "execute_result"
    }
   ],
   "source": [
    "a[:4]"
   ]
  },
  {
   "cell_type": "code",
   "execution_count": 32,
   "metadata": {},
   "outputs": [
    {
     "data": {
      "text/plain": [
       "'HLWL'"
      ]
     },
     "execution_count": 32,
     "metadata": {},
     "output_type": "execute_result"
    }
   ],
   "source": [
    "a[::3]"
   ]
  },
  {
   "cell_type": "code",
   "execution_count": 33,
   "metadata": {},
   "outputs": [
    {
     "data": {
      "text/plain": [
       "'WORLD'"
      ]
     },
     "execution_count": 33,
     "metadata": {},
     "output_type": "execute_result"
    }
   ],
   "source": [
    "a[-5:]"
   ]
  },
  {
   "cell_type": "code",
   "execution_count": 34,
   "metadata": {},
   "outputs": [
    {
     "data": {
      "text/plain": [
       "'D'"
      ]
     },
     "execution_count": 34,
     "metadata": {},
     "output_type": "execute_result"
    }
   ],
   "source": [
    "a[-1]"
   ]
  },
  {
   "cell_type": "code",
   "execution_count": 35,
   "metadata": {},
   "outputs": [
    {
     "data": {
      "text/plain": [
       "'DLROW OLLEH'"
      ]
     },
     "execution_count": 35,
     "metadata": {},
     "output_type": "execute_result"
    }
   ],
   "source": [
    "a[::-1]"
   ]
  },
  {
   "cell_type": "code",
   "execution_count": 36,
   "metadata": {},
   "outputs": [
    {
     "data": {
      "text/plain": [
       "True"
      ]
     },
     "execution_count": 36,
     "metadata": {},
     "output_type": "execute_result"
    }
   ],
   "source": [
    "\"HELL\" in a"
   ]
  },
  {
   "cell_type": "code",
   "execution_count": 37,
   "metadata": {},
   "outputs": [
    {
     "data": {
      "text/plain": [
       "False"
      ]
     },
     "execution_count": 37,
     "metadata": {},
     "output_type": "execute_result"
    }
   ],
   "source": [
    "\"DO\" in a"
   ]
  },
  {
   "cell_type": "markdown",
   "metadata": {},
   "source": [
    "## 4. Collections of things\n",
    "\n",
    "While it is interesting to explore your own height, in science we work with larger  slightly more complex datasets. In this example, we are interested in the characteristics and distribution of heights. Python provides us with a number of objects to handle collections of things.\n",
    "\n",
    "Probably 99% of your work in scientific Python will use one of four types of collections:\n",
    "`lists`, `tuples`, `dictionaries`, and `numpy arrays`. We'll look quickly at each of these and what\n",
    "they can do for you."
   ]
  },
  {
   "cell_type": "markdown",
   "metadata": {},
   "source": [
    "### 4.1 Lists\n",
    "\n",
    "Lists are probably the handiest and most flexible type of container. \n",
    "\n",
    "Lists are declared with square brackets []. \n",
    "\n",
    "Individual elements of a list can be selected using the syntax `a[ind]`."
   ]
  },
  {
   "cell_type": "code",
   "execution_count": 38,
   "metadata": {},
   "outputs": [
    {
     "data": {
      "text/plain": [
       "list"
      ]
     },
     "execution_count": 38,
     "metadata": {},
     "output_type": "execute_result"
    }
   ],
   "source": [
    "a = [\"blueberry\", \"strawberry\", \"pineapple\", 1, True]\n",
    "type(a)"
   ]
  },
  {
   "cell_type": "code",
   "execution_count": 41,
   "metadata": {},
   "outputs": [
    {
     "data": {
      "text/plain": [
       "'strawberry'"
      ]
     },
     "execution_count": 41,
     "metadata": {},
     "output_type": "execute_result"
    }
   ],
   "source": [
    "a[1]"
   ]
  },
  {
   "cell_type": "code",
   "execution_count": 40,
   "metadata": {},
   "outputs": [
    {
     "data": {
      "text/plain": [
       "True"
      ]
     },
     "execution_count": 40,
     "metadata": {},
     "output_type": "execute_result"
    }
   ],
   "source": [
    "a[-1]"
   ]
  },
  {
   "cell_type": "code",
   "execution_count": 39,
   "metadata": {},
   "outputs": [
    {
     "data": {
      "text/plain": [
       "[True, 1, 'pineapple', 'strawberry', 'blueberry']"
      ]
     },
     "execution_count": 39,
     "metadata": {},
     "output_type": "execute_result"
    }
   ],
   "source": [
    "a[::-1]"
   ]
  },
  {
   "cell_type": "code",
   "execution_count": 42,
   "metadata": {},
   "outputs": [
    {
     "data": {
      "text/plain": [
       "['blueberry', 'strawberry', 'pineapple', 1, True]"
      ]
     },
     "execution_count": 42,
     "metadata": {},
     "output_type": "execute_result"
    }
   ],
   "source": [
    "a"
   ]
  },
  {
   "cell_type": "code",
   "execution_count": 43,
   "metadata": {
    "collapsed": true
   },
   "outputs": [],
   "source": [
    "a[0] = \"new fruit\""
   ]
  },
  {
   "cell_type": "code",
   "execution_count": 44,
   "metadata": {},
   "outputs": [
    {
     "name": "stdout",
     "output_type": "stream",
     "text": [
      "['new fruit', 'strawberry', 'pineapple', 1, True]\n"
     ]
    }
   ],
   "source": [
    "print(a)"
   ]
  },
  {
   "cell_type": "code",
   "execution_count": 45,
   "metadata": {
    "collapsed": true
   },
   "outputs": [],
   "source": [
    "a.append(\"a new thing\")"
   ]
  },
  {
   "cell_type": "code",
   "execution_count": 46,
   "metadata": {},
   "outputs": [
    {
     "data": {
      "text/plain": [
       "['new fruit', 'strawberry', 'pineapple', 1, True, 'a new thing']"
      ]
     },
     "execution_count": 46,
     "metadata": {},
     "output_type": "execute_result"
    }
   ],
   "source": [
    "a"
   ]
  },
  {
   "cell_type": "code",
   "execution_count": 47,
   "metadata": {},
   "outputs": [
    {
     "data": {
      "text/plain": [
       "1"
      ]
     },
     "execution_count": 47,
     "metadata": {},
     "output_type": "execute_result"
    }
   ],
   "source": [
    "a.pop()\n",
    "a.pop()\n",
    "a.pop()"
   ]
  },
  {
   "cell_type": "code",
   "execution_count": 48,
   "metadata": {},
   "outputs": [
    {
     "data": {
      "text/plain": [
       "['new fruit', 'strawberry', 'pineapple']"
      ]
     },
     "execution_count": 48,
     "metadata": {},
     "output_type": "execute_result"
    }
   ],
   "source": [
    "a"
   ]
  },
  {
   "cell_type": "code",
   "execution_count": 49,
   "metadata": {
    "collapsed": true
   },
   "outputs": [],
   "source": [
    "a.sort()"
   ]
  },
  {
   "cell_type": "code",
   "execution_count": 50,
   "metadata": {},
   "outputs": [
    {
     "data": {
      "text/plain": [
       "['new fruit', 'pineapple', 'strawberry']"
      ]
     },
     "execution_count": 50,
     "metadata": {},
     "output_type": "execute_result"
    }
   ],
   "source": [
    "a"
   ]
  },
  {
   "cell_type": "code",
   "execution_count": 51,
   "metadata": {
    "collapsed": true
   },
   "outputs": [],
   "source": [
    "a.reverse()"
   ]
  },
  {
   "cell_type": "code",
   "execution_count": 52,
   "metadata": {},
   "outputs": [
    {
     "data": {
      "text/plain": [
       "['strawberry', 'pineapple', 'new fruit']"
      ]
     },
     "execution_count": 52,
     "metadata": {},
     "output_type": "execute_result"
    }
   ],
   "source": [
    "a"
   ]
  },
  {
   "cell_type": "code",
   "execution_count": 53,
   "metadata": {
    "collapsed": true
   },
   "outputs": [],
   "source": [
    "a = sorted(a)"
   ]
  },
  {
   "cell_type": "code",
   "execution_count": 54,
   "metadata": {},
   "outputs": [
    {
     "data": {
      "text/plain": [
       "['new fruit', 'pineapple', 'strawberry']"
      ]
     },
     "execution_count": 54,
     "metadata": {},
     "output_type": "execute_result"
    }
   ],
   "source": [
    "a"
   ]
  },
  {
   "cell_type": "code",
   "execution_count": 55,
   "metadata": {
    "collapsed": true
   },
   "outputs": [],
   "source": [
    "a.sort()"
   ]
  },
  {
   "cell_type": "code",
   "execution_count": 56,
   "metadata": {
    "scrolled": true
   },
   "outputs": [
    {
     "data": {
      "text/plain": [
       "['new fruit', 'pineapple', 'strawberry']"
      ]
     },
     "execution_count": 56,
     "metadata": {},
     "output_type": "execute_result"
    }
   ],
   "source": [
    "a"
   ]
  },
  {
   "cell_type": "markdown",
   "metadata": {},
   "source": [
    "> **Challenge:** Store a bunch of heights (in metres) in a list\n",
    "1. Ask five people around you for their heights (in metres).\n",
    "2. Store these in a list called `heights`.\n",
    "3. Append your own height to the list.\n",
    "4. Get the first height from the list and print it.\n"
   ]
  },
  {
   "cell_type": "code",
   "execution_count": 57,
   "metadata": {},
   "outputs": [
    {
     "data": {
      "text/plain": [
       "1.72"
      ]
     },
     "execution_count": 57,
     "metadata": {},
     "output_type": "execute_result"
    }
   ],
   "source": [
    "# Solution\n",
    "heights = [1.72, 1.55, 1.98, 1.66, 1.78]\n",
    "heights.append(1.88)\n",
    "heights[0]"
   ]
  },
  {
   "cell_type": "markdown",
   "metadata": {},
   "source": [
    "### 4.2 Tuples\n",
    "\n",
    "We won't say a whole lot about tuples except to mention that they basically work just like lists, with\n",
    "two major exceptions:\n",
    "\n",
    "1. You declare tuples using () instead of []\n",
    "1. Once you make a tuple, you can't change what's in it (referred to as immutable)\n",
    "\n",
    "You'll see tuples come up throughout the Python language, and over time you'll develop a feel for when\n",
    "to use them. \n",
    "\n",
    "In general, they're often used instead of lists:\n",
    "\n",
    "1. to group items when the position in the collection is critical, such as coord = (x, y)\n",
    "1. when you want to make prevent accidental modification of the items, e.g. shape = (12, 23)\n",
    "1. when we need a *hashable* object (as key in a mapping/dict) (explained later)"
   ]
  },
  {
   "cell_type": "code",
   "execution_count": 58,
   "metadata": {},
   "outputs": [
    {
     "data": {
      "text/plain": [
       "tuple"
      ]
     },
     "execution_count": 58,
     "metadata": {},
     "output_type": "execute_result"
    }
   ],
   "source": [
    "b = (1,2,3,4,5)\n",
    "type(b)"
   ]
  },
  {
   "cell_type": "code",
   "execution_count": 59,
   "metadata": {},
   "outputs": [
    {
     "data": {
      "text/plain": [
       "list"
      ]
     },
     "execution_count": 59,
     "metadata": {},
     "output_type": "execute_result"
    }
   ],
   "source": [
    "b1 = [1,2,3,4,5]\n",
    "type(b1)"
   ]
  },
  {
   "cell_type": "code",
   "execution_count": 60,
   "metadata": {},
   "outputs": [
    {
     "data": {
      "text/plain": [
       "[2, 2, 3, 4, 5]"
      ]
     },
     "execution_count": 60,
     "metadata": {},
     "output_type": "execute_result"
    }
   ],
   "source": [
    "b1[0] = 2\n",
    "b1"
   ]
  },
  {
   "cell_type": "code",
   "execution_count": 61,
   "metadata": {
    "collapsed": true
   },
   "outputs": [],
   "source": [
    "#b[0] = 2"
   ]
  },
  {
   "cell_type": "markdown",
   "metadata": {},
   "source": [
    "### 4.3 Dictionaries\n",
    "\n",
    "Dictionaries are the collection to use when you want to store and retrieve things by their names\n",
    "(or some other kind of key) instead of by their position in the collection. A good example is a set\n",
    "of model parameters, each of which has a name and a value. Dictionaries are declared using {}.\n",
    "\n",
    "`key` $\\to$ `value` pairs"
   ]
  },
  {
   "cell_type": "code",
   "execution_count": 62,
   "metadata": {
    "collapsed": true
   },
   "outputs": [],
   "source": [
    "my_dict = {\"Marry\" : 22 , \"Frank\" : 33  }"
   ]
  },
  {
   "cell_type": "code",
   "execution_count": 63,
   "metadata": {},
   "outputs": [
    {
     "data": {
      "text/plain": [
       "{'Marry': 22, 'Frank': 33}"
      ]
     },
     "execution_count": 63,
     "metadata": {},
     "output_type": "execute_result"
    }
   ],
   "source": [
    "my_dict"
   ]
  },
  {
   "cell_type": "code",
   "execution_count": 64,
   "metadata": {},
   "outputs": [
    {
     "data": {
      "text/plain": [
       "22"
      ]
     },
     "execution_count": 64,
     "metadata": {},
     "output_type": "execute_result"
    }
   ],
   "source": [
    "my_dict[\"Marry\"]"
   ]
  },
  {
   "cell_type": "code",
   "execution_count": 65,
   "metadata": {},
   "outputs": [
    {
     "data": {
      "text/plain": [
       "33"
      ]
     },
     "execution_count": 65,
     "metadata": {},
     "output_type": "execute_result"
    }
   ],
   "source": [
    "my_dict[\"Frank\"]"
   ]
  },
  {
   "cell_type": "code",
   "execution_count": 66,
   "metadata": {
    "collapsed": true
   },
   "outputs": [],
   "source": [
    "my_dict[\"Anne\"] = 13"
   ]
  },
  {
   "cell_type": "code",
   "execution_count": 67,
   "metadata": {},
   "outputs": [
    {
     "data": {
      "text/plain": [
       "{'Marry': 22, 'Frank': 33, 'Anne': 13}"
      ]
     },
     "execution_count": 67,
     "metadata": {},
     "output_type": "execute_result"
    }
   ],
   "source": [
    "my_dict"
   ]
  },
  {
   "cell_type": "code",
   "execution_count": 68,
   "metadata": {},
   "outputs": [
    {
     "data": {
      "text/plain": [
       "13"
      ]
     },
     "execution_count": 68,
     "metadata": {},
     "output_type": "execute_result"
    }
   ],
   "source": [
    "my_dict[\"Anne\"]"
   ]
  },
  {
   "cell_type": "code",
   "execution_count": 69,
   "metadata": {},
   "outputs": [],
   "source": [
    "#my_dict[\"Heidi\"]"
   ]
  },
  {
   "cell_type": "code",
   "execution_count": 70,
   "metadata": {},
   "outputs": [
    {
     "data": {
      "text/plain": [
       "'Danger no entry found!'"
      ]
     },
     "execution_count": 70,
     "metadata": {},
     "output_type": "execute_result"
    }
   ],
   "source": [
    "my_dict.get(\"Heidi\", \"Danger no entry found!\")"
   ]
  },
  {
   "cell_type": "code",
   "execution_count": 71,
   "metadata": {},
   "outputs": [
    {
     "data": {
      "text/plain": [
       "dict_items([('Marry', 22), ('Frank', 33), ('Anne', 13)])"
      ]
     },
     "execution_count": 71,
     "metadata": {},
     "output_type": "execute_result"
    }
   ],
   "source": [
    "my_dict.items()"
   ]
  },
  {
   "cell_type": "code",
   "execution_count": 72,
   "metadata": {},
   "outputs": [
    {
     "data": {
      "text/plain": [
       "dict_keys(['Marry', 'Frank', 'Anne'])"
      ]
     },
     "execution_count": 72,
     "metadata": {},
     "output_type": "execute_result"
    }
   ],
   "source": [
    "my_dict.keys()"
   ]
  },
  {
   "cell_type": "code",
   "execution_count": 73,
   "metadata": {},
   "outputs": [
    {
     "data": {
      "text/plain": [
       "dict_values([22, 33, 13])"
      ]
     },
     "execution_count": 73,
     "metadata": {},
     "output_type": "execute_result"
    }
   ],
   "source": [
    "my_dict.values()"
   ]
  },
  {
   "cell_type": "markdown",
   "metadata": {},
   "source": [
    "## 5. Repeating yourself\n",
    "\n",
    "So far, everything that we've done could, in principle, be done by hand calculation. In this section\n",
    "and the next, we really start to take advantage of the power of programming languages to do things\n",
    "for us automatically.\n",
    "\n",
    "We start here with ways to repeat yourself. The two most common ways of doing this are known as for\n",
    "loops and while loops. For loops in Python are useful when you want to cycle over all of the items\n",
    "in a collection (such as all of the elements of an array), and while loops are useful when you want to\n",
    "cycle for an indefinite amount of time until some condition is met.\n",
    "\n",
    "The basic examples below will work for looping over lists, tuples, and arrays. Looping over dictionaries\n",
    "is a bit different, since there is a key and a value for each item in a dictionary. Have a look at the\n",
    "Python docs for more information."
   ]
  },
  {
   "cell_type": "markdown",
   "metadata": {},
   "source": [
    "### 5.1 __`for` Loops__"
   ]
  },
  {
   "cell_type": "code",
   "execution_count": 74,
   "metadata": {
    "collapsed": true
   },
   "outputs": [],
   "source": [
    "wordlist = [\"hi\", \"hello\", \"by\"]"
   ]
  },
  {
   "cell_type": "code",
   "execution_count": 75,
   "metadata": {},
   "outputs": [
    {
     "name": "stdout",
     "output_type": "stream",
     "text": [
      "hi!\n",
      "-----------\n",
      "hello!\n",
      "-----------\n",
      "by!\n",
      "-----------\n",
      "Done\n"
     ]
    }
   ],
   "source": [
    "import time\n",
    "for word in wordlist:\n",
    "    print(word + \"!\")\n",
    "    time.sleep(1)\n",
    "    print(\"-----------\")\n",
    "print(\"Done\")"
   ]
  },
  {
   "cell_type": "code",
   "execution_count": 76,
   "metadata": {},
   "outputs": [
    {
     "name": "stdout",
     "output_type": "stream",
     "text": [
      "0 hi\n",
      "-----\n",
      "1 hello\n",
      "-----\n",
      "2 by\n",
      "-----\n"
     ]
    }
   ],
   "source": [
    "for e, word in enumerate(wordlist):\n",
    "    print(e, word)\n",
    "    print(\"-----\")"
   ]
  },
  {
   "cell_type": "markdown",
   "metadata": {},
   "source": [
    "**Note on indentation**: Notice the indentation once we enter the for loop.  Every idented statement after the for loop declaration is part of the for loop.  This rule holds true for while loops, if statements, functions, etc. Required identation is one of the reasons Python is such a beautiful language to read.\n",
    "\n",
    "If you do not have consistent indentation you will get an `IndentationError`.  Fortunately, most code editors will ensure your indentation is correction.\n",
    "\n",
    "__NOTE__ In Python the default is to use four (4) spaces for each indentation, most editros can be configured to follow this guide."
   ]
  },
  {
   "cell_type": "markdown",
   "metadata": {},
   "source": [
    "> **Challenge**\n",
    "* Sum all of the values in a collection using a for loop\n",
    "`numlist = [1, 4, 77, 3]`"
   ]
  },
  {
   "cell_type": "code",
   "execution_count": 77,
   "metadata": {},
   "outputs": [
    {
     "name": "stdout",
     "output_type": "stream",
     "text": [
      "85\n"
     ]
    }
   ],
   "source": [
    "# solution\n",
    "numlist = [1, 4, 77, 3]\n",
    "total = 0\n",
    "for mymother in numlist:\n",
    "    total = total + mymother\n",
    "print(total)"
   ]
  },
  {
   "cell_type": "markdown",
   "metadata": {},
   "source": [
    "> **Challenge**\n",
    "* Combine items from two lists and print them as one string to the console   \n",
    "`name = [\"John\", \"Ringo\", \"Paul\", \"George\"]`   \n",
    "`surname = [\"Lennon\", \"Star\", \"McCartney\", \"Harrison\"]`"
   ]
  },
  {
   "cell_type": "code",
   "execution_count": 78,
   "metadata": {
    "collapsed": true
   },
   "outputs": [],
   "source": [
    "name = [\"John\", \"Ringo\", \"Paul\", \"George\"]\n",
    "surname = [\"Lennon\", \"Star\", \"McCartney\", \"Harrison\"]"
   ]
  },
  {
   "cell_type": "code",
   "execution_count": 79,
   "metadata": {},
   "outputs": [
    {
     "name": "stdout",
     "output_type": "stream",
     "text": [
      "0 John\n",
      "John Lennon\n",
      "-----\n",
      "1 Ringo\n",
      "Ringo Star\n",
      "-----\n",
      "2 Paul\n",
      "Paul McCartney\n",
      "-----\n",
      "3 George\n",
      "George Harrison\n",
      "-----\n"
     ]
    }
   ],
   "source": [
    "# Solution 1\n",
    "for e, n in enumerate(name):\n",
    "    print(e, n)\n",
    "    print(n, surname[e])\n",
    "    print(\"-----\")"
   ]
  },
  {
   "cell_type": "code",
   "execution_count": 80,
   "metadata": {},
   "outputs": [
    {
     "name": "stdout",
     "output_type": "stream",
     "text": [
      "John Lennon\n",
      "Ringo Star\n",
      "Paul McCartney\n",
      "George Harrison\n"
     ]
    }
   ],
   "source": [
    "# Solution 2\n",
    "for i in zip(name, surname):\n",
    "    print(i[0], i[1])"
   ]
  },
  {
   "cell_type": "markdown",
   "metadata": {},
   "source": [
    "### List comprehensions"
   ]
  },
  {
   "cell_type": "code",
   "execution_count": 81,
   "metadata": {},
   "outputs": [
    {
     "data": {
      "text/plain": [
       "['John Lennon', 'Ringo Star', 'Paul McCartney', 'George Harrison']"
      ]
     },
     "execution_count": 81,
     "metadata": {},
     "output_type": "execute_result"
    }
   ],
   "source": [
    "# Solution 3\n",
    "[f'{x} {y}' for x,y in zip(name, surname)]"
   ]
  },
  {
   "cell_type": "markdown",
   "metadata": {},
   "source": [
    "### 5.2 **`while` loop**"
   ]
  },
  {
   "cell_type": "code",
   "execution_count": 82,
   "metadata": {},
   "outputs": [
    {
     "name": "stdout",
     "output_type": "stream",
     "text": [
      "1 2\n",
      "2 4\n",
      "3 8\n",
      "4 16\n",
      "5 32\n",
      "6 64\n",
      "7 128\n",
      "Reached a product of 128 at step number 7\n"
     ]
    }
   ],
   "source": [
    "# and want to stop once a certain condition is met.\n",
    "step = 0\n",
    "prod = 1\n",
    "while prod < 100:\n",
    "    step = step + 1\n",
    "    prod = prod * 2\n",
    "    print(step, prod)\n",
    "    time.sleep(0.3)\n",
    "    \n",
    "print('Reached a product of', prod, 'at step number', step)"
   ]
  },
  {
   "cell_type": "markdown",
   "metadata": {},
   "source": [
    "## 6. Making choices\n",
    "\n",
    "Often we want to check if a condition is True and take one action if it is, and another action if the\n",
    "condition is False. We can achieve this in Python with an if statement.\n",
    "\n",
    "__TIP:__ You can use any expression that returns a boolean value (True or False) in an if statement.\n",
    "Common boolean operators are ==, !=, <, <=, >, >=. You can also use `is` and `is not` if you want to\n",
    "check if two variables are identical in the sense that they are stored in the same location in memory."
   ]
  },
  {
   "cell_type": "code",
   "execution_count": 83,
   "metadata": {},
   "outputs": [
    {
     "name": "stdout",
     "output_type": "stream",
     "text": [
      "x is zero\n"
     ]
    }
   ],
   "source": [
    "x = 0\n",
    "\n",
    "if x > 0:\n",
    "    print(\"x is positive\")\n",
    "elif x < 0:\n",
    "    print(\"x is negative\")\n",
    "else:\n",
    "    print(\"x is zero\")"
   ]
  },
  {
   "cell_type": "markdown",
   "metadata": {},
   "source": [
    "> **Challenge**\n",
    "Write a countdown!"
   ]
  },
  {
   "cell_type": "code",
   "execution_count": 84,
   "metadata": {},
   "outputs": [
    {
     "data": {
      "text/plain": [
       "range(0, 10)"
      ]
     },
     "execution_count": 84,
     "metadata": {},
     "output_type": "execute_result"
    }
   ],
   "source": [
    "range(10)"
   ]
  },
  {
   "cell_type": "code",
   "execution_count": 85,
   "metadata": {},
   "outputs": [
    {
     "name": "stdout",
     "output_type": "stream",
     "text": [
      "10\n",
      "9\n",
      "8\n",
      "7\n",
      "6\n",
      "5\n",
      "4\n",
      "3\n",
      "2\n",
      "1\n",
      "Engine start!\n"
     ]
    }
   ],
   "source": [
    "for number in range(10):\n",
    "    count = 10-number\n",
    "    print(count)\n",
    "    time.sleep(1)\n",
    "    if  count == 1:\n",
    "        print(\"Engine start!\")"
   ]
  },
  {
   "cell_type": "markdown",
   "metadata": {},
   "source": [
    "## 7. IO"
   ]
  },
  {
   "cell_type": "markdown",
   "metadata": {},
   "source": [
    "Write a text file"
   ]
  },
  {
   "cell_type": "code",
   "execution_count": 86,
   "metadata": {
    "collapsed": true
   },
   "outputs": [],
   "source": [
    "f = open(\"../data/interim/my_file.txt\", \"w\")   \n",
    "for i in range(5):\n",
    "    f.write(\"Line {}\\n\".format(i))\n",
    "f.close()"
   ]
  },
  {
   "cell_type": "code",
   "execution_count": 87,
   "metadata": {
    "collapsed": true
   },
   "outputs": [],
   "source": [
    "# using a context manager\n",
    "with open(\"../data/interim/my_file.txt\", \"a\") as f:   \n",
    "    for i in range(100,105):\n",
    "        f.write(\"LINE {}\\n\".format(i))"
   ]
  },
  {
   "cell_type": "markdown",
   "metadata": {},
   "source": [
    "Read a file"
   ]
  },
  {
   "cell_type": "code",
   "execution_count": 88,
   "metadata": {},
   "outputs": [
    {
     "name": "stdout",
     "output_type": "stream",
     "text": [
      "Line 0\n",
      "Line 1\n",
      "Line 2\n",
      "Line 3\n",
      "Line 4\n",
      "LINE 100\n",
      "LINE 101\n",
      "LINE 102\n",
      "LINE 103\n",
      "LINE 104\n",
      "\n"
     ]
    }
   ],
   "source": [
    "with open (\"../data/interim/my_file.txt\", \"r\") as f:\n",
    "    print(f.read())"
   ]
  },
  {
   "cell_type": "markdown",
   "metadata": {},
   "source": [
    ">**Challenge** \n",
    "* Extract the numerical values of the file `my_file.txt` into a list of floating point values."
   ]
  },
  {
   "cell_type": "code",
   "execution_count": 89,
   "metadata": {},
   "outputs": [
    {
     "data": {
      "text/plain": [
       "[0.0, 1.0, 2.0, 3.0, 4.0, 100.0, 101.0, 102.0, 103.0, 104.0]"
      ]
     },
     "execution_count": 89,
     "metadata": {},
     "output_type": "execute_result"
    }
   ],
   "source": [
    "my_storage = [] #list()\n",
    "with open (\"../data/interim/my_file.txt\", \"r\") as f:\n",
    "    for line in f:\n",
    "        number = float(line.split()[1]) \n",
    "        my_storage.append(number)\n",
    "my_storage"
   ]
  },
  {
   "cell_type": "code",
   "execution_count": 90,
   "metadata": {},
   "outputs": [
    {
     "data": {
      "text/plain": [
       "['LINE', '0']"
      ]
     },
     "execution_count": 90,
     "metadata": {},
     "output_type": "execute_result"
    }
   ],
   "source": [
    "\"LINE 0\".split()"
   ]
  },
  {
   "cell_type": "code",
   "execution_count": 91,
   "metadata": {},
   "outputs": [
    {
     "data": {
      "text/plain": [
       "'0'"
      ]
     },
     "execution_count": 91,
     "metadata": {},
     "output_type": "execute_result"
    }
   ],
   "source": [
    "\"LINE 0\".split()[1]"
   ]
  },
  {
   "cell_type": "code",
   "execution_count": 92,
   "metadata": {},
   "outputs": [
    {
     "data": {
      "text/plain": [
       "0.0"
      ]
     },
     "execution_count": 92,
     "metadata": {},
     "output_type": "execute_result"
    }
   ],
   "source": [
    "float(\"LINE 0\".split()[1])"
   ]
  },
  {
   "cell_type": "markdown",
   "metadata": {},
   "source": [
    "## 8 Functions (UDFs)"
   ]
  },
  {
   "cell_type": "code",
   "execution_count": 93,
   "metadata": {
    "collapsed": true
   },
   "outputs": [],
   "source": [
    "def my_func(a,b,c=10):\n",
    "    rv = (a-b)*c\n",
    "    return rv"
   ]
  },
  {
   "cell_type": "code",
   "execution_count": 94,
   "metadata": {},
   "outputs": [
    {
     "data": {
      "text/plain": [
       "-10"
      ]
     },
     "execution_count": 94,
     "metadata": {},
     "output_type": "execute_result"
    }
   ],
   "source": [
    "my_result = my_func(a=1,  b=2)\n",
    "my_result"
   ]
  },
  {
   "cell_type": "markdown",
   "metadata": {},
   "source": [
    "> **Challenge** \n",
    "* Write a function that computes Kelvin from Fahrenheit (`fahrenheit_to_kelvin`)\n",
    "* Write a function that computes Celsius from Kelvin (`kelvin_to_celsius`)\n",
    "* Write a function that computes Celsius form Fahrenheit (`fahrenheit_to_celsius`); Resue the two functions from above.\n",
    "\n",
    "\n",
    "`fahrenheit_to_kelvin` $$K = (°F - 32.0) \\times \\frac{5}{9} + 273.15  $$\n",
    "\n",
    "`kelvin_to_celsius` $$°C = K - 273.15  $$"
   ]
  },
  {
   "cell_type": "markdown",
   "metadata": {},
   "source": [
    "#### @1\n"
   ]
  },
  {
   "cell_type": "code",
   "execution_count": 95,
   "metadata": {
    "collapsed": true
   },
   "outputs": [],
   "source": [
    "def fahrenheit_to_kelvin(a):\n",
    "    \"\"\"\n",
    "    Function to compute Fahrenheit from Kelvin\n",
    "    \"\"\"\n",
    "    kelvin = (a-32.0)*5/9 + 273.15\n",
    "    return kelvin"
   ]
  },
  {
   "cell_type": "code",
   "execution_count": 96,
   "metadata": {},
   "outputs": [
    {
     "data": {
      "text/plain": [
       "227.59444444444443"
      ]
     },
     "execution_count": 96,
     "metadata": {},
     "output_type": "execute_result"
    }
   ],
   "source": [
    "fahrenheit_to_kelvin(-50)"
   ]
  },
  {
   "cell_type": "markdown",
   "metadata": {},
   "source": [
    "#### @2"
   ]
  },
  {
   "cell_type": "code",
   "execution_count": 97,
   "metadata": {
    "collapsed": true
   },
   "outputs": [],
   "source": [
    "def kelvin_to_celsius(temperature_K):\n",
    "    '''\n",
    "    Function to compute Celsius from Kelvin\n",
    "    '''\n",
    "    rv = temperature_K - 273.15\n",
    "    return rv"
   ]
  },
  {
   "cell_type": "code",
   "execution_count": 98,
   "metadata": {},
   "outputs": [
    {
     "data": {
      "text/plain": [
       "-273.15"
      ]
     },
     "execution_count": 98,
     "metadata": {},
     "output_type": "execute_result"
    }
   ],
   "source": [
    "kelvin_to_celsius(0)"
   ]
  },
  {
   "cell_type": "markdown",
   "metadata": {},
   "source": [
    "#### @3"
   ]
  },
  {
   "cell_type": "code",
   "execution_count": 99,
   "metadata": {
    "collapsed": true
   },
   "outputs": [],
   "source": [
    "def fahrenheit_to_celsius(temperature_F):\n",
    "    '''\n",
    "    Function to compite Celsius from Fahrenheit\n",
    "    '''\n",
    "    temp_K = fahrenheit_to_kelvin(temperature_F)\n",
    "    temp_C = kelvin_to_celsius(temp_K)\n",
    "    return temp_C"
   ]
  },
  {
   "cell_type": "markdown",
   "metadata": {},
   "source": [
    "### Code refactoring"
   ]
  },
  {
   "cell_type": "code",
   "execution_count": 100,
   "metadata": {},
   "outputs": [
    {
     "name": "stdout",
     "output_type": "stream",
     "text": [
      "Overwriting ../src/temperature_module.py\n"
     ]
    }
   ],
   "source": [
    "%%writefile ../src/temperature_module.py\n",
    "\n",
    "def kelvin_to_celsius(temperature_K):\n",
    "    '''\n",
    "    Function to compute Celsius from Kelvin\n",
    "    '''\n",
    "    rv = temperature_K - 273.15\n",
    "    return rv\n",
    "\n",
    "def fahrenheit_to_celsius(temperature_F):\n",
    "    '''\n",
    "    Function to compite Celsius from Fahrenheit\n",
    "    '''\n",
    "    temp_K = fahrenheit_to_kelvin(temperature_F)\n",
    "    temp_C = kelvin_to_celsius(temp_K)\n",
    "    return temp_C\n",
    "    \n",
    "def fahrenheit_to_kelvin(a):\n",
    "    \"\"\"\n",
    "    Function to compute Fahrenheit from Kelvin\n",
    "    \"\"\"\n",
    "    kelvin = (a-32.0)*5/9 + 273.15\n",
    "    return kelvin\n"
   ]
  },
  {
   "cell_type": "markdown",
   "metadata": {},
   "source": [
    "#### Add path to look for modules"
   ]
  },
  {
   "cell_type": "code",
   "execution_count": 101,
   "metadata": {},
   "outputs": [],
   "source": [
    "import sys\n",
    "sys.path.append(\"../src\")"
   ]
  },
  {
   "cell_type": "markdown",
   "metadata": {},
   "source": [
    "#### Load own module"
   ]
  },
  {
   "cell_type": "code",
   "execution_count": 102,
   "metadata": {
    "collapsed": true
   },
   "outputs": [],
   "source": [
    "import temperature_module as tm"
   ]
  },
  {
   "cell_type": "code",
   "execution_count": 103,
   "metadata": {},
   "outputs": [
    {
     "data": {
      "text/plain": [
       "-173.14999999999998"
      ]
     },
     "execution_count": 103,
     "metadata": {},
     "output_type": "execute_result"
    }
   ],
   "source": [
    "tm.kelvin_to_celsius(100)"
   ]
  },
  {
   "cell_type": "code",
   "execution_count": 104,
   "metadata": {},
   "outputs": [
    {
     "data": {
      "text/plain": [
       "37.77777777777777"
      ]
     },
     "execution_count": 104,
     "metadata": {},
     "output_type": "execute_result"
    }
   ],
   "source": [
    "tm.fahrenheit_to_celsius(100)"
   ]
  },
  {
   "cell_type": "code",
   "execution_count": 105,
   "metadata": {},
   "outputs": [
    {
     "data": {
      "text/plain": [
       "310.92777777777775"
      ]
     },
     "execution_count": 105,
     "metadata": {},
     "output_type": "execute_result"
    }
   ],
   "source": [
    "tm.fahrenheit_to_kelvin(100)"
   ]
  },
  {
   "cell_type": "markdown",
   "metadata": {},
   "source": [
    "## 9. Final challenge \n",
    "\n",
    "### Build rock sciscors paper\n",
    "\n",
    "> __Task__ \n",
    "Implement the classic children's game Rock-paper-scissors, as well as a simple predictive AI (artificial intelligence) player.   \n",
    "\n",
    "> Rock Paper Scissors is a two player game.    \n",
    "> Each player chooses one of rock, paper or scissors, without knowing the other player's choice.  \n",
    "\n",
    "> The winner is decided by a set of rules:   \n",
    ">  * Rock beats scissors   \n",
    ">  * Scissors beat paper   \n",
    ">  * Paper beats rock   \n",
    "\n",
    "> If both players choose the same thing, there is no winner for that round. If you don't konw the rules you may finde them [here](https://en.wikipedia.org/wiki/Rock%E2%80%93paper%E2%80%93scissors).\n",
    "> For this task, the computer will be one of the players.\n",
    "\n",
    "> The operator will select Rock, Paper or Scissors and the computer will keep a record of the choice frequency, and use that information to make a weighted random choice in an attempt to defeat its opponent.\n",
    "> Consider the function `input()` to ask for user input. Try to implement an exit rule as well.\n"
   ]
  },
  {
   "cell_type": "code",
   "execution_count": 106,
   "metadata": {},
   "outputs": [
    {
     "name": "stdin",
     "output_type": "stream",
     "text": [
      "\n",
      "choose your weapon:  quit\n"
     ]
    }
   ],
   "source": [
    "from random import choice\n",
    " \n",
    "rules = {'rock': 'paper', 'scissors': 'rock', 'paper': 'scissors'}\n",
    "previous = ['rock', 'paper', 'scissors']\n",
    " \n",
    "while True:\n",
    "    human = input('\\nchoose your weapon: ')\n",
    "    computer = rules[choice(previous)]  # choose the weapon which beats a randomly chosen weapon from \"previous\"\n",
    "    if human in ('quit', 'exit'):\n",
    "        break\n",
    " \n",
    "    elif human in rules:\n",
    "        print('the computer played', computer, end='; ')\n",
    " \n",
    "        if rules[computer] == human:  # if what beats the computer's choice is the human's choice...\n",
    "            print('yay you win!')\n",
    "        elif rules[human] == computer:  # if what beats the human's choice is the computer's choice...\n",
    "            print('the computer beat you... :(')\n",
    "        else: print(\"it's a tie!\")\n",
    " \n",
    "    else: print(\"that's not a valid choice\")"
   ]
  },
  {
   "cell_type": "markdown",
   "metadata": {},
   "source": [
    "***"
   ]
  }
 ],
 "metadata": {
  "kernelspec": {
   "display_name": "Python 3",
   "language": "python",
   "name": "python3"
  },
  "language_info": {
   "codemirror_mode": {
    "name": "ipython",
    "version": 3
   },
   "file_extension": ".py",
   "mimetype": "text/x-python",
   "name": "python",
   "nbconvert_exporter": "python",
   "pygments_lexer": "ipython3",
   "version": "3.6.7"
  }
 },
 "nbformat": 4,
 "nbformat_minor": 2
}
