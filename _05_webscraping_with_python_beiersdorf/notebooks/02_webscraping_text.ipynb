{
 "cells": [
  {
   "cell_type": "code",
   "execution_count": 1,
   "metadata": {},
   "outputs": [],
   "source": [
    "%load_ext autoreload\n",
    "%autoreload 2"
   ]
  },
  {
   "cell_type": "markdown",
   "metadata": {},
   "source": [
    "# Web Scraping mit [Python](https://www.python.org/) mit [`BeautifulSoup`](https://www.crummy.com/software/BeautifulSoup/bs4/doc/) und [`requests`](https://2.python-requests.org/en/master/)"
   ]
  },
  {
   "cell_type": "markdown",
   "metadata": {},
   "source": [
    "## Extrahieren der Texte der Blogeinträge"
   ]
  },
  {
   "cell_type": "markdown",
   "metadata": {},
   "source": [
    "__Importieren von Python Bibliotheken__"
   ]
  },
  {
   "cell_type": "code",
   "execution_count": 2,
   "metadata": {},
   "outputs": [],
   "source": [
    "from bs4 import BeautifulSoup\n",
    "import requests\n",
    "import sys"
   ]
  },
  {
   "cell_type": "markdown",
   "metadata": {},
   "source": [
    "**Add path to look for modules**"
   ]
  },
  {
   "cell_type": "code",
   "execution_count": 3,
   "metadata": {},
   "outputs": [],
   "source": [
    "import sys\n",
    "sys.path.append(\"../src\")"
   ]
  },
  {
   "cell_type": "code",
   "execution_count": 4,
   "metadata": {},
   "outputs": [],
   "source": [
    "import get_blog_urls"
   ]
  },
  {
   "cell_type": "markdown",
   "metadata": {},
   "source": [
    "### Festlegen der URL"
   ]
  },
  {
   "cell_type": "code",
   "execution_count": 5,
   "metadata": {},
   "outputs": [],
   "source": [
    "base_url = \"https://www.beiersdorf.de/\"\n",
    "blog_url = \"beiersdorf-live/karriere-blog/blog-uebersicht\""
   ]
  },
  {
   "cell_type": "code",
   "execution_count": 6,
   "metadata": {},
   "outputs": [
    {
     "data": {
      "text/plain": [
       "array([ 0, 12, 24, 36, 48, 60, 72, 84, 96])"
      ]
     },
     "execution_count": 6,
     "metadata": {},
     "output_type": "execute_result"
    }
   ],
   "source": [
    "import numpy as np \n",
    "loadCounts = np.arange(0, 100, 12)\n",
    "loadCounts"
   ]
  },
  {
   "cell_type": "code",
   "execution_count": 7,
   "metadata": {},
   "outputs": [
    {
     "data": {
      "text/plain": [
       "['beiersdorf-live/karriere-blog/blog-uebersicht?loadCount=0',\n",
       " 'beiersdorf-live/karriere-blog/blog-uebersicht?loadCount=12',\n",
       " 'beiersdorf-live/karriere-blog/blog-uebersicht?loadCount=24',\n",
       " 'beiersdorf-live/karriere-blog/blog-uebersicht?loadCount=36',\n",
       " 'beiersdorf-live/karriere-blog/blog-uebersicht?loadCount=48',\n",
       " 'beiersdorf-live/karriere-blog/blog-uebersicht?loadCount=60',\n",
       " 'beiersdorf-live/karriere-blog/blog-uebersicht?loadCount=72',\n",
       " 'beiersdorf-live/karriere-blog/blog-uebersicht?loadCount=84',\n",
       " 'beiersdorf-live/karriere-blog/blog-uebersicht?loadCount=96']"
      ]
     },
     "execution_count": 7,
     "metadata": {},
     "output_type": "execute_result"
    }
   ],
   "source": [
    "blog_urls = [blog_url+f'?loadCount={i}' for i in loadCounts]\n",
    "blog_urls"
   ]
  },
  {
   "cell_type": "code",
   "execution_count": 8,
   "metadata": {},
   "outputs": [
    {
     "name": "stdout",
     "output_type": "stream",
     "text": [
      "75 links to articles were found!\n",
      "\n"
     ]
    }
   ],
   "source": [
    "hyper_links = get_blog_urls.get_blog_urls(base_url, blog_urls)"
   ]
  },
  {
   "cell_type": "markdown",
   "metadata": {},
   "source": [
    "> Falls die vorherige Zelle nicht funktioniert, können Sie die folgende Zelle ausführen (von `Raw` auf `Code` ändern):"
   ]
  },
  {
   "cell_type": "raw",
   "metadata": {},
   "source": [
    "import pickle\n",
    "hyper_links = pickle.load(open ('../src/_solutions/hyper_links_02.p', 'rb'))"
   ]
  },
  {
   "cell_type": "code",
   "execution_count": 9,
   "metadata": {},
   "outputs": [
    {
     "data": {
      "text/plain": [
       "['https://www.beiersdorf.de/beiersdorf-live/karriere-blog/blog-uebersicht/2016/08/31-nivea-sun-lotte-und-max',\n",
       " 'https://www.beiersdorf.de/beiersdorf-live/karriere-blog/blog-uebersicht/2019/03/06-die-digitalisierung-fuer-kindergaerten-wertvoll-gestalten',\n",
       " 'https://www.beiersdorf.de/beiersdorf-live/karriere-blog/blog-uebersicht/2016/09/05-sentuhan-ibu-nivea-indonesia',\n",
       " 'https://www.beiersdorf.de/beiersdorf-live/karriere-blog/blog-uebersicht/2015/11/2015-11-20-sao-paolo-november']"
      ]
     },
     "execution_count": 9,
     "metadata": {},
     "output_type": "execute_result"
    }
   ],
   "source": [
    "hyper_links[:4]"
   ]
  },
  {
   "cell_type": "markdown",
   "metadata": {},
   "source": [
    "***"
   ]
  },
  {
   "cell_type": "markdown",
   "metadata": {},
   "source": [
    "### Extrahieren der Textelemente eines Blogartikels\n",
    "\n",
    "* Besuchen Sie die Webseite eines Blogs und machen Sie sich mit deren Struktur vertraut.\n",
    "* Nutzen Sie Web- oder Developer Toolkits und versuchen Sie zu ergründen, wie wir auf die Blogtexte zugreifen können.  "
   ]
  },
  {
   "cell_type": "code",
   "execution_count": 10,
   "metadata": {},
   "outputs": [
    {
     "name": "stdout",
     "output_type": "stream",
     "text": [
      "https://www.beiersdorf.de/beiersdorf-live/karriere-blog/blog-uebersicht/2016/08/31-nivea-sun-lotte-und-max\n"
     ]
    }
   ],
   "source": [
    "print(hyper_links[0])\n",
    "page = requests.get(hyper_links[0])\n",
    "blog = BeautifulSoup(page.content, 'html.parser')"
   ]
  },
  {
   "cell_type": "markdown",
   "metadata": {},
   "source": [
    "> Falls die vorherige Zelle nicht funktioniert, können Sie die folgende Zelle ausführen (von `Raw` auf `Code` ändern):"
   ]
  },
  {
   "cell_type": "raw",
   "metadata": {},
   "source": [
    "import pickle\n",
    "page = pickle.load(open ('../src/_solutions/page_02.p', 'rb'))\n",
    "blog = BeautifulSoup(page.content, 'html.parser')"
   ]
  },
  {
   "cell_type": "code",
   "execution_count": 11,
   "metadata": {},
   "outputs": [],
   "source": [
    "#blog"
   ]
  },
  {
   "cell_type": "code",
   "execution_count": null,
   "metadata": {},
   "outputs": [],
   "source": []
  },
  {
   "cell_type": "markdown",
   "metadata": {},
   "source": [
    "> __Problem:__ \n",
    "* Was ist das Problem mit der Liste `text_segments`?"
   ]
  },
  {
   "cell_type": "code",
   "execution_count": null,
   "metadata": {},
   "outputs": [],
   "source": []
  },
  {
   "cell_type": "markdown",
   "metadata": {},
   "source": [
    "#### Zusammenfügen aller Texte eines Blogartikels"
   ]
  },
  {
   "cell_type": "code",
   "execution_count": null,
   "metadata": {},
   "outputs": [],
   "source": []
  },
  {
   "cell_type": "markdown",
   "metadata": {},
   "source": [
    "### Extrahieren der Textelemente aller Blogartikel"
   ]
  },
  {
   "cell_type": "code",
   "execution_count": null,
   "metadata": {},
   "outputs": [],
   "source": []
  },
  {
   "cell_type": "markdown",
   "metadata": {},
   "source": [
    "> Falls die vorherige Zelle nicht funktioniert, können Sie die folgende Zelle ausführen (von `Raw` auf `Code` ändern):"
   ]
  },
  {
   "cell_type": "raw",
   "metadata": {},
   "source": [
    "import pickle\n",
    "full_texts = pickle.load(open ('../src/_solutions/full_texts_02.p', 'rb'))"
   ]
  },
  {
   "cell_type": "code",
   "execution_count": null,
   "metadata": {},
   "outputs": [],
   "source": []
  },
  {
   "cell_type": "markdown",
   "metadata": {},
   "source": [
    "### Refactoring"
   ]
  },
  {
   "cell_type": "code",
   "execution_count": 23,
   "metadata": {},
   "outputs": [],
   "source": [
    "# %load ../src/get_text.py"
   ]
  },
  {
   "cell_type": "markdown",
   "metadata": {},
   "source": [
    "***"
   ]
  }
 ],
 "metadata": {
  "kernelspec": {
   "display_name": "Python 3",
   "language": "python",
   "name": "python3"
  },
  "language_info": {
   "codemirror_mode": {
    "name": "ipython",
    "version": 3
   },
   "file_extension": ".py",
   "mimetype": "text/x-python",
   "name": "python",
   "nbconvert_exporter": "python",
   "pygments_lexer": "ipython3",
   "version": "3.6.7"
  }
 },
 "nbformat": 4,
 "nbformat_minor": 2
}
