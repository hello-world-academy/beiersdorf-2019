{
 "cells": [
  {
   "cell_type": "code",
   "execution_count": 1,
   "metadata": {},
   "outputs": [],
   "source": [
    "%load_ext autoreload\n",
    "%autoreload 2"
   ]
  },
  {
   "cell_type": "markdown",
   "metadata": {},
   "source": [
    "# Web Scraping mit [Python](https://www.python.org/) mit [`BeautifulSoup`](https://www.crummy.com/software/BeautifulSoup/bs4/doc/) und [`requests`](https://2.python-requests.org/en/master/)"
   ]
  },
  {
   "cell_type": "markdown",
   "metadata": {},
   "source": [
    "## Extrahieren der Texte der Blogeinträge"
   ]
  },
  {
   "cell_type": "markdown",
   "metadata": {},
   "source": [
    "__Importieren von Python Bibliotheken__"
   ]
  },
  {
   "cell_type": "code",
   "execution_count": 2,
   "metadata": {},
   "outputs": [],
   "source": [
    "from bs4 import BeautifulSoup\n",
    "import requests\n",
    "import sys"
   ]
  },
  {
   "cell_type": "markdown",
   "metadata": {},
   "source": [
    "**Add path to look for modules**"
   ]
  },
  {
   "cell_type": "code",
   "execution_count": 3,
   "metadata": {},
   "outputs": [],
   "source": [
    "import sys\n",
    "sys.path.append(\"../src\")"
   ]
  },
  {
   "cell_type": "code",
   "execution_count": 4,
   "metadata": {},
   "outputs": [],
   "source": [
    "import get_blog_urls"
   ]
  },
  {
   "cell_type": "markdown",
   "metadata": {},
   "source": [
    "### Festlegen der URL"
   ]
  },
  {
   "cell_type": "code",
   "execution_count": 5,
   "metadata": {},
   "outputs": [],
   "source": [
    "base_url = \"https://www.beiersdorf.de/\"\n",
    "blog_url = \"beiersdorf-live/karriere-blog/blog-uebersicht\""
   ]
  },
  {
   "cell_type": "code",
   "execution_count": 6,
   "metadata": {},
   "outputs": [
    {
     "data": {
      "text/plain": [
       "array([ 0, 12, 24, 36, 48, 60, 72, 84, 96])"
      ]
     },
     "execution_count": 6,
     "metadata": {},
     "output_type": "execute_result"
    }
   ],
   "source": [
    "import numpy as np \n",
    "loadCounts = np.arange(0, 100, 12)\n",
    "loadCounts"
   ]
  },
  {
   "cell_type": "code",
   "execution_count": 7,
   "metadata": {},
   "outputs": [
    {
     "data": {
      "text/plain": [
       "['beiersdorf-live/karriere-blog/blog-uebersicht?loadCount=0',\n",
       " 'beiersdorf-live/karriere-blog/blog-uebersicht?loadCount=12',\n",
       " 'beiersdorf-live/karriere-blog/blog-uebersicht?loadCount=24',\n",
       " 'beiersdorf-live/karriere-blog/blog-uebersicht?loadCount=36',\n",
       " 'beiersdorf-live/karriere-blog/blog-uebersicht?loadCount=48',\n",
       " 'beiersdorf-live/karriere-blog/blog-uebersicht?loadCount=60',\n",
       " 'beiersdorf-live/karriere-blog/blog-uebersicht?loadCount=72',\n",
       " 'beiersdorf-live/karriere-blog/blog-uebersicht?loadCount=84',\n",
       " 'beiersdorf-live/karriere-blog/blog-uebersicht?loadCount=96']"
      ]
     },
     "execution_count": 7,
     "metadata": {},
     "output_type": "execute_result"
    }
   ],
   "source": [
    "blog_urls = [blog_url+f'?loadCount={i}' for i in loadCounts]\n",
    "blog_urls"
   ]
  },
  {
   "cell_type": "code",
   "execution_count": 8,
   "metadata": {},
   "outputs": [
    {
     "name": "stdout",
     "output_type": "stream",
     "text": [
      "75 links to articles were found!\n",
      "\n"
     ]
    }
   ],
   "source": [
    "hyper_links = get_blog_urls.get_blog_urls(base_url, blog_urls)"
   ]
  },
  {
   "cell_type": "markdown",
   "metadata": {},
   "source": [
    "> Falls die vorherige Zelle nicht funktioniert, können Sie die folgende Zelle ausführen (von `Raw` auf `Code` ändern):"
   ]
  },
  {
   "cell_type": "raw",
   "metadata": {},
   "source": [
    "import pickle\n",
    "hyper_links = pickle.load(open ('../src/_solutions/hyper_links_02.p', 'rb'))"
   ]
  },
  {
   "cell_type": "code",
   "execution_count": 9,
   "metadata": {},
   "outputs": [
    {
     "data": {
      "text/plain": [
       "['https://www.beiersdorf.de/beiersdorf-live/karriere-blog/blog-uebersicht/2016/08/31-nivea-sun-lotte-und-max',\n",
       " 'https://www.beiersdorf.de/beiersdorf-live/karriere-blog/blog-uebersicht/2019/03/06-die-digitalisierung-fuer-kindergaerten-wertvoll-gestalten',\n",
       " 'https://www.beiersdorf.de/beiersdorf-live/karriere-blog/blog-uebersicht/2016/09/05-sentuhan-ibu-nivea-indonesia',\n",
       " 'https://www.beiersdorf.de/beiersdorf-live/karriere-blog/blog-uebersicht/2015/11/2015-11-20-sao-paolo-november']"
      ]
     },
     "execution_count": 9,
     "metadata": {},
     "output_type": "execute_result"
    }
   ],
   "source": [
    "hyper_links[:4]"
   ]
  },
  {
   "cell_type": "markdown",
   "metadata": {},
   "source": [
    "***"
   ]
  },
  {
   "cell_type": "markdown",
   "metadata": {},
   "source": [
    "### Extrahieren der Textelemente eines Blogartikels\n",
    "\n",
    "* Besuchen Sie die Webseite eines Blogs und machen Sie sich mit deren Struktur vertraut.\n",
    "* Nutzen Sie Web- oder Developer Toolkits und versuchen Sie zu ergründen, wie wir auf die Blogtexte zugreifen können.  "
   ]
  },
  {
   "cell_type": "code",
   "execution_count": 10,
   "metadata": {},
   "outputs": [
    {
     "name": "stdout",
     "output_type": "stream",
     "text": [
      "https://www.beiersdorf.de/beiersdorf-live/karriere-blog/blog-uebersicht/2016/08/31-nivea-sun-lotte-und-max\n"
     ]
    }
   ],
   "source": [
    "print(hyper_links[0])\n",
    "page = requests.get(hyper_links[0])\n",
    "blog = BeautifulSoup(page.content, 'html.parser')"
   ]
  },
  {
   "cell_type": "markdown",
   "metadata": {},
   "source": [
    "> Falls die vorherige Zelle nicht funktioniert, können Sie die folgende Zelle ausführen (von `Raw` auf `Code` ändern):"
   ]
  },
  {
   "cell_type": "raw",
   "metadata": {},
   "source": [
    "import pickle\n",
    "page = pickle.load(open ('../src/_solutions/page_02.p', 'rb'))\n",
    "blog = BeautifulSoup(page.content, 'html.parser')"
   ]
  },
  {
   "cell_type": "code",
   "execution_count": 11,
   "metadata": {},
   "outputs": [],
   "source": [
    "#blog"
   ]
  },
  {
   "cell_type": "code",
   "execution_count": 12,
   "metadata": {},
   "outputs": [
    {
     "data": {
      "text/plain": [
       "[<div class=\"text-module-content rte desktop-width-two-quarters\"><div><div class=\"rte\"><p>Bereits im Juni letzten Jahres wurden die NIVEA Sonnenpuppen in Brasilien präsentiert. Die Sonnenschutzkampagne wurde für Beiersdorf Brasilien von einer Kreativagentur aus São Paulo entwickelt und umgesetzt. Durch das ungewöhnliche Projekt schafft NIVEA eine neue emotionale Basis zu einer jüngeren Generation und zukünftigen Zielgruppe.</p>\n",
       " <p>Um die Aufklärungskampagne ins Rollen zu bringen, wurden die Sonnenpuppen, die in Brasilien „NIVEA Dolls“ genannt werden, an den Stränden in Rio de Janeiro an Mütter und Kinder ab drei Jahren verteilt.</p></div></div></div>,\n",
       " <div class=\"rte\"><p>Bereits im Juni letzten Jahres wurden die NIVEA Sonnenpuppen in Brasilien präsentiert. Die Sonnenschutzkampagne wurde für Beiersdorf Brasilien von einer Kreativagentur aus São Paulo entwickelt und umgesetzt. Durch das ungewöhnliche Projekt schafft NIVEA eine neue emotionale Basis zu einer jüngeren Generation und zukünftigen Zielgruppe.</p>\n",
       " <p>Um die Aufklärungskampagne ins Rollen zu bringen, wurden die Sonnenpuppen, die in Brasilien „NIVEA Dolls“ genannt werden, an den Stränden in Rio de Janeiro an Mütter und Kinder ab drei Jahren verteilt.</p></div>,\n",
       " <div class=\"text-module-content rte desktop-width-two-quarters\"><div><div class=\"rte\">Sonnenschutz ist ein Muss – besonders für die zarte Kinderhaut. Aus diesem Grund startete NIVEA SUN diesen Sommer in Deutschland mit einer Aufklärungskampagne der etwas anderen Art: Kinder sollten mit den Sonnenpuppen Lotte und Max spielerisch erlernen, wie wichtig es ist, die Haut vor den UV-Strahlen der Sonne zu schützen. Der Clou bei Lotte und Max: Die Puppen sind aus einem speziellen Kunststoff gefertigt, der auf UV-Licht reagiert. Wenn man sie ungeschützt der Sonne aussetzt, werden sie rot und bekommen einen „Sonnenbrand“. Cremen die Kleinen ihre Begleiter jedoch ein, rötet sich die Haut der Puppen nicht. So verstehen auch Kinder, dass es wichtig ist, sich vor der Sonne zu schützen und die Haut mit Sonnenschutz einzucremen. Um auf die Kampagne aufmerksam zu machen, wurde ein liebevoll gestalteter Stop-Motion-Film mit Lotte und Max über alle Social-Media-Kanäle gespielt.\n",
       " \n",
       " </div></div></div>,\n",
       " <div class=\"rte\">Sonnenschutz ist ein Muss – besonders für die zarte Kinderhaut. Aus diesem Grund startete NIVEA SUN diesen Sommer in Deutschland mit einer Aufklärungskampagne der etwas anderen Art: Kinder sollten mit den Sonnenpuppen Lotte und Max spielerisch erlernen, wie wichtig es ist, die Haut vor den UV-Strahlen der Sonne zu schützen. Der Clou bei Lotte und Max: Die Puppen sind aus einem speziellen Kunststoff gefertigt, der auf UV-Licht reagiert. Wenn man sie ungeschützt der Sonne aussetzt, werden sie rot und bekommen einen „Sonnenbrand“. Cremen die Kleinen ihre Begleiter jedoch ein, rötet sich die Haut der Puppen nicht. So verstehen auch Kinder, dass es wichtig ist, sich vor der Sonne zu schützen und die Haut mit Sonnenschutz einzucremen. Um auf die Kampagne aufmerksam zu machen, wurde ein liebevoll gestalteter Stop-Motion-Film mit Lotte und Max über alle Social-Media-Kanäle gespielt.\n",
       " \n",
       " </div>]"
      ]
     },
     "execution_count": 12,
     "metadata": {},
     "output_type": "execute_result"
    }
   ],
   "source": [
    "text_segments = blog.find_all('div', {\"class\" : 'rte'})\n",
    "text_segments"
   ]
  },
  {
   "cell_type": "markdown",
   "metadata": {},
   "source": [
    "> __Problem:__ \n",
    "* Was ist das Problem mit der Liste `text_segments`?"
   ]
  },
  {
   "cell_type": "code",
   "execution_count": 13,
   "metadata": {},
   "outputs": [],
   "source": [
    "text_segments = []\n",
    "for elem in blog.find_all('div', {\"class\" : 'rte'}):\n",
    "    if elem.attrs['class'][0] == 'rte':\n",
    "        text_segments.append(elem)"
   ]
  },
  {
   "cell_type": "code",
   "execution_count": 14,
   "metadata": {},
   "outputs": [
    {
     "data": {
      "text/plain": [
       "[<div class=\"rte\"><p>Bereits im Juni letzten Jahres wurden die NIVEA Sonnenpuppen in Brasilien präsentiert. Die Sonnenschutzkampagne wurde für Beiersdorf Brasilien von einer Kreativagentur aus São Paulo entwickelt und umgesetzt. Durch das ungewöhnliche Projekt schafft NIVEA eine neue emotionale Basis zu einer jüngeren Generation und zukünftigen Zielgruppe.</p>\n",
       " <p>Um die Aufklärungskampagne ins Rollen zu bringen, wurden die Sonnenpuppen, die in Brasilien „NIVEA Dolls“ genannt werden, an den Stränden in Rio de Janeiro an Mütter und Kinder ab drei Jahren verteilt.</p></div>,\n",
       " <div class=\"rte\">Sonnenschutz ist ein Muss – besonders für die zarte Kinderhaut. Aus diesem Grund startete NIVEA SUN diesen Sommer in Deutschland mit einer Aufklärungskampagne der etwas anderen Art: Kinder sollten mit den Sonnenpuppen Lotte und Max spielerisch erlernen, wie wichtig es ist, die Haut vor den UV-Strahlen der Sonne zu schützen. Der Clou bei Lotte und Max: Die Puppen sind aus einem speziellen Kunststoff gefertigt, der auf UV-Licht reagiert. Wenn man sie ungeschützt der Sonne aussetzt, werden sie rot und bekommen einen „Sonnenbrand“. Cremen die Kleinen ihre Begleiter jedoch ein, rötet sich die Haut der Puppen nicht. So verstehen auch Kinder, dass es wichtig ist, sich vor der Sonne zu schützen und die Haut mit Sonnenschutz einzucremen. Um auf die Kampagne aufmerksam zu machen, wurde ein liebevoll gestalteter Stop-Motion-Film mit Lotte und Max über alle Social-Media-Kanäle gespielt.\n",
       " \n",
       " </div>]"
      ]
     },
     "execution_count": 14,
     "metadata": {},
     "output_type": "execute_result"
    }
   ],
   "source": [
    "text_segments"
   ]
  },
  {
   "cell_type": "markdown",
   "metadata": {},
   "source": [
    "#### Zusammenfügen aller Texte eines Blogartikels"
   ]
  },
  {
   "cell_type": "code",
   "execution_count": 15,
   "metadata": {},
   "outputs": [
    {
     "data": {
      "text/plain": [
       "<div class=\"rte\"><p>Bereits im Juni letzten Jahres wurden die NIVEA Sonnenpuppen in Brasilien präsentiert. Die Sonnenschutzkampagne wurde für Beiersdorf Brasilien von einer Kreativagentur aus São Paulo entwickelt und umgesetzt. Durch das ungewöhnliche Projekt schafft NIVEA eine neue emotionale Basis zu einer jüngeren Generation und zukünftigen Zielgruppe.</p>\n",
       "<p>Um die Aufklärungskampagne ins Rollen zu bringen, wurden die Sonnenpuppen, die in Brasilien „NIVEA Dolls“ genannt werden, an den Stränden in Rio de Janeiro an Mütter und Kinder ab drei Jahren verteilt.</p></div>"
      ]
     },
     "execution_count": 15,
     "metadata": {},
     "output_type": "execute_result"
    }
   ],
   "source": [
    "text_segments[0]"
   ]
  },
  {
   "cell_type": "code",
   "execution_count": 16,
   "metadata": {},
   "outputs": [
    {
     "data": {
      "text/plain": [
       "'Bereits im Juni letzten Jahres wurden die NIVEA Sonnenpuppen in Brasilien präsentiert. Die Sonnenschutzkampagne wurde für Beiersdorf Brasilien von einer Kreativagentur aus São Paulo entwickelt und umgesetzt. Durch das ungewöhnliche Projekt schafft NIVEA eine neue emotionale Basis zu einer jüngeren Generation und zukünftigen Zielgruppe.\\nUm die Aufklärungskampagne ins Rollen zu bringen, wurden die Sonnenpuppen, die in Brasilien „NIVEA Dolls“ genannt werden, an den Stränden in Rio de Janeiro an Mütter und Kinder ab drei Jahren verteilt.'"
      ]
     },
     "execution_count": 16,
     "metadata": {},
     "output_type": "execute_result"
    }
   ],
   "source": [
    "text_segments[0].get_text()"
   ]
  },
  {
   "cell_type": "code",
   "execution_count": 17,
   "metadata": {},
   "outputs": [
    {
     "data": {
      "text/plain": [
       "'Bereits im Juni letzten Jahres wurden die NIVEA Sonnenpuppen in Brasilien präsentiert. Die Sonnenschutzkampagne wurde für Beiersdorf Brasilien von einer Kreativagentur aus São Paulo entwickelt und umgesetzt. Durch das ungewöhnliche Projekt schafft NIVEA eine neue emotionale Basis zu einer jüngeren Generation und zukünftigen Zielgruppe.\\nUm die Aufklärungskampagne ins Rollen zu bringen, wurden die Sonnenpuppen, die in Brasilien „NIVEA Dolls“ genannt werden, an den Stränden in Rio de Janeiro an Mütter und Kinder ab drei Jahren verteilt. Sonnenschutz ist ein Muss – besonders für die zarte Kinderhaut. Aus diesem Grund startete NIVEA SUN diesen Sommer in Deutschland mit einer Aufklärungskampagne der etwas anderen Art: Kinder sollten mit den Sonnenpuppen Lotte und Max spielerisch erlernen, wie wichtig es ist, die Haut vor den UV-Strahlen der Sonne zu schützen. Der Clou bei Lotte und Max: Die Puppen sind aus einem speziellen Kunststoff gefertigt, der auf UV-Licht reagiert. Wenn man sie ungeschützt der Sonne aussetzt, werden sie rot und bekommen einen „Sonnenbrand“. Cremen die Kleinen ihre Begleiter jedoch ein, rötet sich die Haut der Puppen nicht. So verstehen auch Kinder, dass es wichtig ist, sich vor der Sonne zu schützen und die Haut mit Sonnenschutz einzucremen. Um auf die Kampagne aufmerksam zu machen, wurde ein liebevoll gestalteter Stop-Motion-Film mit Lotte und Max über alle Social-Media-Kanäle gespielt.\\r\\n\\r\\n'"
      ]
     },
     "execution_count": 17,
     "metadata": {},
     "output_type": "execute_result"
    }
   ],
   "source": [
    "full_text = ' '.join([s.get_text() for s in text_segments])\n",
    "full_text"
   ]
  },
  {
   "cell_type": "markdown",
   "metadata": {},
   "source": [
    "### Extrahieren der Textelemente aller Blogartikel"
   ]
  },
  {
   "cell_type": "code",
   "execution_count": 19,
   "metadata": {},
   "outputs": [
    {
     "name": "stdout",
     "output_type": "stream",
     "text": [
      "https://www.beiersdorf.de/beiersdorf-live/karriere-blog/blog-uebersicht/2016/08/31-nivea-sun-lotte-und-max\n",
      "Exracting https://www.beiersdorf.de/beiersdorf-live/karriere-blog/blog-uebersicht/2016/08/31-nivea-sun-lotte-und-max\n",
      "https://www.beiersdorf.de/beiersdorf-live/karriere-blog/blog-uebersicht/2019/03/06-die-digitalisierung-fuer-kindergaerten-wertvoll-gestalten\n",
      "Exracting https://www.beiersdorf.de/beiersdorf-live/karriere-blog/blog-uebersicht/2019/03/06-die-digitalisierung-fuer-kindergaerten-wertvoll-gestalten\n",
      "https://www.beiersdorf.de/beiersdorf-live/karriere-blog/blog-uebersicht/2016/09/05-sentuhan-ibu-nivea-indonesia\n",
      "Exracting https://www.beiersdorf.de/beiersdorf-live/karriere-blog/blog-uebersicht/2016/09/05-sentuhan-ibu-nivea-indonesia\n"
     ]
    }
   ],
   "source": [
    "full_texts = []\n",
    "for url in hyper_links[0:3]: #hier geben wir uns mit den ersten 3 links zufrienden\n",
    "    print(url)\n",
    "    page = requests.get(url)\n",
    "    blog = BeautifulSoup(page.content, 'html.parser')\n",
    "    print(f'Exracting {url}')\n",
    "    text_segments = []\n",
    "    for elem in blog.find_all('div', {\"class\" : 'rte'}):\n",
    "        if elem.attrs['class'][0] == 'rte':\n",
    "            text_segments.append(elem)\n",
    "    full_text = ' '.join([s.get_text().replace('\\r\\n', ' ').strip() for s in text_segments])\n",
    "    full_texts.append(full_text)"
   ]
  },
  {
   "cell_type": "markdown",
   "metadata": {},
   "source": [
    "> Falls die vorherige Zelle nicht funktioniert, können Sie die folgende Zelle ausführen (von `Raw` auf `Code` ändern):"
   ]
  },
  {
   "cell_type": "raw",
   "metadata": {},
   "source": [
    "import pickle\n",
    "full_texts = pickle.load(open ('../src/_solutions/full_texts_02.p', 'rb'))"
   ]
  },
  {
   "cell_type": "code",
   "execution_count": 20,
   "metadata": {},
   "outputs": [
    {
     "data": {
      "text/plain": [
       "'Die emotionale und körperliche Zuwendung ist für die Entwicklung von Kindern sehr wichtig. Als Zeichen der Liebe, Hinwendung oder auch als Bestärkung in Momenten der Unsicherheit.\\nUnter dem Motto „Sentuhan Ibu”, wörtlich übersetzt „die Berührung der Mutter“, hat NIVEA Indonesien während des Ramadans eine Initiative gestartet, um Mütter von Kindern mit Behinderungen zu unterstützen.\\nBesonders Mütter mit behinderten Kindern sollten eine besondere Anerkennung erhalten. Dies ist nicht in jedem Land selbstverständlich! Für uns war klar – hier muss ein Zeichen für mehr Toleranz gesetzt werden.\\nHolger Welters, General Manager Beiersdorf Indonesien, erläutert: „Das Programm stärkt diese besonders geforderten Mütter und gibt ihnen die Unterstützung, die sie benötigen – denn sie spielen eine entscheidende Rolle für die Entwicklung ihrer Kinder. Mit ‚Sentuhan Ibu‘ stellen wir die emotionalen Kernwerte von NIVEA glaubwürdig in einen sozialen Zusammenhang.“ Die Initiative von NIVEA Indonesien hat in Zusammenarbeit mit Kemuning Kembar, einem Institut für Psychologie, Bildung, Gesundheit und Kultur, ein achtzehnmonatiges Beratungsprogramm entwickelt. Die Mütter treten dort in Kontakt mit Gleichgesinnten, können sich austauschen und werden durch Workshops besonders geschult.\\nDas Kampagnenvideo wurde in nur einem Monat fast eine Million Mal geklickt. Im Fokus stehen die Indonesierin Siti und ihre Tochter Nadila, die von ihrer Mutter liebevoll und engagiert durch den nicht immer einfachen Alltag begleitet wird. „Wir sind sehr stolz auf ‚Sentuhan Ibu‘, denn die Kampagne richtet den Blick auf Menschen, die hier in Indonesien normalerweise wenig Unterstützung und Anerkennung erfahren. Wir möchten mit der Kampagne ein klares Zeichen für mehr Toleranz setzen“, sagt Tomasz Schwarz, Marketing Director Beiersdorf Indonesien.'"
      ]
     },
     "execution_count": 20,
     "metadata": {},
     "output_type": "execute_result"
    }
   ],
   "source": [
    "full_texts[2]"
   ]
  },
  {
   "cell_type": "markdown",
   "metadata": {},
   "source": [
    "### Refactoring"
   ]
  },
  {
   "cell_type": "code",
   "execution_count": 1,
   "metadata": {},
   "outputs": [],
   "source": [
    "# %load ../src/get_text.py"
   ]
  },
  {
   "cell_type": "markdown",
   "metadata": {},
   "source": [
    "***"
   ]
  }
 ],
 "metadata": {
  "kernelspec": {
   "display_name": "Python 3",
   "language": "python",
   "name": "python3"
  },
  "language_info": {
   "codemirror_mode": {
    "name": "ipython",
    "version": 3
   },
   "file_extension": ".py",
   "mimetype": "text/x-python",
   "name": "python",
   "nbconvert_exporter": "python",
   "pygments_lexer": "ipython3",
   "version": "3.6.7"
  }
 },
 "nbformat": 4,
 "nbformat_minor": 2
}
