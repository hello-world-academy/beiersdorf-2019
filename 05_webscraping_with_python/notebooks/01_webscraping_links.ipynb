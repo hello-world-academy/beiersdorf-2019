{
 "cells": [
  {
   "cell_type": "code",
   "execution_count": 1,
   "metadata": {},
   "outputs": [],
   "source": [
    "%load_ext autoreload\n",
    "%autoreload 2"
   ]
  },
  {
   "cell_type": "markdown",
   "metadata": {},
   "source": [
    "# Web Scraping mit [Python](https://www.python.org/) mit [`BeautifulSoup`](https://www.crummy.com/software/BeautifulSoup/bs4/doc/) und [`requests`](https://2.python-requests.org/en/master/)"
   ]
  },
  {
   "cell_type": "markdown",
   "metadata": {},
   "source": [
    "## Extrahieren aller Links zu den Blogeinträgen"
   ]
  },
  {
   "cell_type": "markdown",
   "metadata": {},
   "source": [
    "__Importieren von Python Bibliotheken__"
   ]
  },
  {
   "cell_type": "code",
   "execution_count": 2,
   "metadata": {},
   "outputs": [],
   "source": [
    "from bs4 import BeautifulSoup\n",
    "import requests"
   ]
  },
  {
   "cell_type": "markdown",
   "metadata": {},
   "source": [
    "### Festlegen der URL"
   ]
  },
  {
   "cell_type": "code",
   "execution_count": 3,
   "metadata": {},
   "outputs": [
    {
     "data": {
      "text/plain": [
       "'https://www.beiersdorf.de/beiersdorf-live/karriere-blog/blog-uebersicht'"
      ]
     },
     "execution_count": 3,
     "metadata": {},
     "output_type": "execute_result"
    }
   ],
   "source": [
    "base_url = \"https://www.beiersdorf.de/\"\n",
    "blog_url = \"beiersdorf-live/karriere-blog/blog-uebersicht\"\n",
    "base_url +  blog_url"
   ]
  },
  {
   "cell_type": "markdown",
   "metadata": {},
   "source": [
    "### Laden der Webseiteninhalte"
   ]
  },
  {
   "cell_type": "code",
   "execution_count": 4,
   "metadata": {},
   "outputs": [],
   "source": [
    "page = requests.get(base_url +  blog_url)\n",
    "soup = BeautifulSoup(page.content, 'html.parser')"
   ]
  },
  {
   "cell_type": "markdown",
   "metadata": {},
   "source": [
    "> Falls die vorherige Zelle nicht funktioniert, können Sie die folgende Zelle ausführen (von `Raw` auf `Code` ändern):"
   ]
  },
  {
   "cell_type": "raw",
   "metadata": {},
   "source": [
    "import pickle\n",
    "page = pickle.load(open ('../src/_solutions/page_01.p', 'rb'))\n",
    "soup = BeautifulSoup(page.content, 'html.parser')"
   ]
  },
  {
   "cell_type": "code",
   "execution_count": 5,
   "metadata": {},
   "outputs": [],
   "source": [
    "#soup"
   ]
  },
  {
   "cell_type": "markdown",
   "metadata": {},
   "source": [
    "### Finden des entsprechenden Links "
   ]
  },
  {
   "cell_type": "code",
   "execution_count": 6,
   "metadata": {},
   "outputs": [
    {
     "data": {
      "text/plain": [
       "<article class=\"navigation teaser blog-post\" data-module=\"BlogModule\" data-status-handler-url=\"/HttpHandler/Beiersdorf/LikeHandler.ashx?id=883fe846-707b-4a3b-9a82-07db3450182e&amp;method=getStatus\" id=\"blog-post-883fe846707b4a3b9a8207db3450182e\">\n",
       "<a href=\"/beiersdorf-live/karriere-blog/blog-uebersicht/2019/05/28-freedom-to-innovate-arbeiten-wie-in-einem-start-up\">\n",
       "<div class=\"media\">\n",
       "<img src=\"/~/media/Beiersdorf/career/beiersdorf-live/2019-05-28-freedom-to-innovate-working-in-a-start-up-atmosphere/Beiersdorf-nivea-massage-oil-teaser.jpg?bc=white&amp;w=380&amp;h=220\"/>\n",
       "<div class=\"icon-like like-btn icon-like-liked\">\n",
       "<span class=\"badge\">0</span>\n",
       "</div>\n",
       "</div>\n",
       "<div class=\"description\">\n",
       "<h3>„Freedom to innovate“: Arbeiten wie in einem Start-up</h3>\n",
       "<div class=\"paragraph\">\n",
       "<p>Die Initiative aus der Beiersdorf Forschung &amp; Entwicklung ermöglicht Mitarbeitern, ihre innovativen Ideen umzusetzen.</p>\n",
       "</div>\n",
       "<div class=\"button-wrapper\">\n",
       "<span class=\"teaser-button\">Mehr erfahren <span class=\"icon\"></span></span>\n",
       "</div>\n",
       "</div>\n",
       "</a>\n",
       "</article>"
      ]
     },
     "execution_count": 6,
     "metadata": {},
     "output_type": "execute_result"
    }
   ],
   "source": [
    "article = soup.find('article')\n",
    "article"
   ]
  },
  {
   "cell_type": "code",
   "execution_count": 7,
   "metadata": {},
   "outputs": [
    {
     "data": {
      "text/plain": [
       "<a href=\"/beiersdorf-live/karriere-blog/blog-uebersicht/2019/05/28-freedom-to-innovate-arbeiten-wie-in-einem-start-up\">\n",
       "<div class=\"media\">\n",
       "<img src=\"/~/media/Beiersdorf/career/beiersdorf-live/2019-05-28-freedom-to-innovate-working-in-a-start-up-atmosphere/Beiersdorf-nivea-massage-oil-teaser.jpg?bc=white&amp;w=380&amp;h=220\"/>\n",
       "<div class=\"icon-like like-btn icon-like-liked\">\n",
       "<span class=\"badge\">0</span>\n",
       "</div>\n",
       "</div>\n",
       "<div class=\"description\">\n",
       "<h3>„Freedom to innovate“: Arbeiten wie in einem Start-up</h3>\n",
       "<div class=\"paragraph\">\n",
       "<p>Die Initiative aus der Beiersdorf Forschung &amp; Entwicklung ermöglicht Mitarbeitern, ihre innovativen Ideen umzusetzen.</p>\n",
       "</div>\n",
       "<div class=\"button-wrapper\">\n",
       "<span class=\"teaser-button\">Mehr erfahren <span class=\"icon\"></span></span>\n",
       "</div>\n",
       "</div>\n",
       "</a>"
      ]
     },
     "execution_count": 7,
     "metadata": {},
     "output_type": "execute_result"
    }
   ],
   "source": [
    "article.find('a')"
   ]
  },
  {
   "cell_type": "code",
   "execution_count": 8,
   "metadata": {},
   "outputs": [
    {
     "data": {
      "text/plain": [
       "'https://www.beiersdorf.de//beiersdorf-live/karriere-blog/blog-uebersicht/2019/05/28-freedom-to-innovate-arbeiten-wie-in-einem-start-up'"
      ]
     },
     "execution_count": 8,
     "metadata": {},
     "output_type": "execute_result"
    }
   ],
   "source": [
    "hyper_link = article.find('a').get('href')\n",
    "base_url + hyper_link"
   ]
  },
  {
   "cell_type": "markdown",
   "metadata": {},
   "source": [
    "### Finden aller relevanten Links"
   ]
  },
  {
   "cell_type": "code",
   "execution_count": 9,
   "metadata": {},
   "outputs": [
    {
     "data": {
      "text/plain": [
       "16"
      ]
     },
     "execution_count": 9,
     "metadata": {},
     "output_type": "execute_result"
    }
   ],
   "source": [
    "articles = soup.find_all('article')\n",
    "len(articles)"
   ]
  },
  {
   "cell_type": "code",
   "execution_count": 10,
   "metadata": {},
   "outputs": [],
   "source": [
    "hyper_links = []\n",
    "for article in articles:\n",
    "    hyper_link = article.find('a').get('href')\n",
    "    hyper_links.append(base_url + hyper_link)"
   ]
  },
  {
   "cell_type": "code",
   "execution_count": 11,
   "metadata": {},
   "outputs": [
    {
     "data": {
      "text/plain": [
       "['https://www.beiersdorf.de//beiersdorf-live/karriere-blog/blog-uebersicht/2019/05/28-freedom-to-innovate-arbeiten-wie-in-einem-start-up',\n",
       " 'https://www.beiersdorf.de//beiersdorf-live/karriere-blog/blog-uebersicht/2019/05/22-101-tage-kwesi',\n",
       " 'https://www.beiersdorf.de//beiersdorf-live/karriere-blog/blog-uebersicht/2019/05/17-eine-aktive-rolle-im-recruiting-einnehmen',\n",
       " 'https://www.beiersdorf.de//beiersdorf-live/karriere-blog/blog-uebersicht/2019/05/28-freedom-to-innovate-arbeiten-wie-in-einem-start-up',\n",
       " 'https://www.beiersdorf.de//beiersdorf-live/karriere-blog/blog-uebersicht/2019/05/22-101-tage-kwesi',\n",
       " 'https://www.beiersdorf.de//beiersdorf-live/karriere-blog/blog-uebersicht/2019/05/17-eine-aktive-rolle-im-recruiting-einnehmen',\n",
       " 'https://www.beiersdorf.de//beiersdorf-live/karriere-blog/blog-uebersicht/2019/05/08-austausch-trifft-erfindergeist',\n",
       " 'https://www.beiersdorf.de//beiersdorf-live/karriere-blog/blog-uebersicht/2019/05/02-wir-muessen-wie-ein-startup-agieren',\n",
       " 'https://www.beiersdorf.de//beiersdorf-live/karriere-blog/blog-uebersicht/2019/04/04-augmented-reality-das-naechste-format-des-storytellings',\n",
       " 'https://www.beiersdorf.de//beiersdorf-live/karriere-blog/blog-uebersicht/2019/03/06-die-digitalisierung-fuer-kindergaerten-wertvoll-gestalten',\n",
       " 'https://www.beiersdorf.de//beiersdorf-live/karriere-blog/blog-uebersicht/2019/02/13-nivea-hebt-das-crowdsourcing-auf-ein-neues-level',\n",
       " 'https://www.beiersdorf.de//beiersdorf-live/karriere-blog/blog-uebersicht/2018/11/14-wir-erarbeiten-taeglich-einen-wettbewerbsvorteil',\n",
       " 'https://www.beiersdorf.de//beiersdorf-live/karriere-blog/blog-uebersicht/2018/10/22-faszinierend-spannend-divers-ein-halbes-jahr-in-suedafrika',\n",
       " 'https://www.beiersdorf.de//beiersdorf-live/karriere-blog/blog-uebersicht/2018/10/12-interview-mit-marielen-winter',\n",
       " 'https://www.beiersdorf.de//beiersdorf-live/karriere-blog/blog-uebersicht/2018/08/31-new-york-new-york-und-film-ab',\n",
       " 'https://www.beiersdorf.de//beiersdorf-live/karriere-blog/blog-uebersicht/2019/02/13-nivea-hebt-das-crowdsourcing-auf-ein-neues-level']"
      ]
     },
     "execution_count": 11,
     "metadata": {},
     "output_type": "execute_result"
    }
   ],
   "source": [
    "hyper_links"
   ]
  },
  {
   "cell_type": "markdown",
   "metadata": {},
   "source": [
    "> __Problem:__ \n",
    "* Was ist das Problem mit der Liste `hyper_links`?"
   ]
  },
  {
   "cell_type": "code",
   "execution_count": 12,
   "metadata": {},
   "outputs": [
    {
     "data": {
      "text/plain": [
       "{'https://www.beiersdorf.de//beiersdorf-live/karriere-blog/blog-uebersicht/2018/08/31-new-york-new-york-und-film-ab',\n",
       " 'https://www.beiersdorf.de//beiersdorf-live/karriere-blog/blog-uebersicht/2018/10/12-interview-mit-marielen-winter',\n",
       " 'https://www.beiersdorf.de//beiersdorf-live/karriere-blog/blog-uebersicht/2018/10/22-faszinierend-spannend-divers-ein-halbes-jahr-in-suedafrika',\n",
       " 'https://www.beiersdorf.de//beiersdorf-live/karriere-blog/blog-uebersicht/2018/11/14-wir-erarbeiten-taeglich-einen-wettbewerbsvorteil',\n",
       " 'https://www.beiersdorf.de//beiersdorf-live/karriere-blog/blog-uebersicht/2019/02/13-nivea-hebt-das-crowdsourcing-auf-ein-neues-level',\n",
       " 'https://www.beiersdorf.de//beiersdorf-live/karriere-blog/blog-uebersicht/2019/03/06-die-digitalisierung-fuer-kindergaerten-wertvoll-gestalten',\n",
       " 'https://www.beiersdorf.de//beiersdorf-live/karriere-blog/blog-uebersicht/2019/04/04-augmented-reality-das-naechste-format-des-storytellings',\n",
       " 'https://www.beiersdorf.de//beiersdorf-live/karriere-blog/blog-uebersicht/2019/05/02-wir-muessen-wie-ein-startup-agieren',\n",
       " 'https://www.beiersdorf.de//beiersdorf-live/karriere-blog/blog-uebersicht/2019/05/08-austausch-trifft-erfindergeist',\n",
       " 'https://www.beiersdorf.de//beiersdorf-live/karriere-blog/blog-uebersicht/2019/05/17-eine-aktive-rolle-im-recruiting-einnehmen',\n",
       " 'https://www.beiersdorf.de//beiersdorf-live/karriere-blog/blog-uebersicht/2019/05/22-101-tage-kwesi',\n",
       " 'https://www.beiersdorf.de//beiersdorf-live/karriere-blog/blog-uebersicht/2019/05/28-freedom-to-innovate-arbeiten-wie-in-einem-start-up'}"
      ]
     },
     "execution_count": 12,
     "metadata": {},
     "output_type": "execute_result"
    }
   ],
   "source": [
    "set(hyper_links)"
   ]
  },
  {
   "cell_type": "code",
   "execution_count": 13,
   "metadata": {},
   "outputs": [
    {
     "name": "stdout",
     "output_type": "stream",
     "text": [
      "12\n"
     ]
    }
   ],
   "source": [
    "print(len(set(hyper_links)))"
   ]
  },
  {
   "cell_type": "markdown",
   "metadata": {},
   "source": [
    "> __Problem:__ \n",
    "* Nur so wenige Blogs! Was haben wir übersehen?"
   ]
  },
  {
   "cell_type": "code",
   "execution_count": 14,
   "metadata": {},
   "outputs": [
    {
     "data": {
      "text/plain": [
       "array([ 0, 12, 24, 36, 48, 60, 72, 84, 96])"
      ]
     },
     "execution_count": 14,
     "metadata": {},
     "output_type": "execute_result"
    }
   ],
   "source": [
    "import numpy as np \n",
    "loadCounts = np.arange(0, 100, 12)\n",
    "loadCounts"
   ]
  },
  {
   "cell_type": "code",
   "execution_count": 15,
   "metadata": {},
   "outputs": [
    {
     "data": {
      "text/plain": [
       "['beiersdorf-live/karriere-blog/blog-uebersicht?loadCount=0',\n",
       " 'beiersdorf-live/karriere-blog/blog-uebersicht?loadCount=12',\n",
       " 'beiersdorf-live/karriere-blog/blog-uebersicht?loadCount=24',\n",
       " 'beiersdorf-live/karriere-blog/blog-uebersicht?loadCount=36',\n",
       " 'beiersdorf-live/karriere-blog/blog-uebersicht?loadCount=48',\n",
       " 'beiersdorf-live/karriere-blog/blog-uebersicht?loadCount=60',\n",
       " 'beiersdorf-live/karriere-blog/blog-uebersicht?loadCount=72',\n",
       " 'beiersdorf-live/karriere-blog/blog-uebersicht?loadCount=84',\n",
       " 'beiersdorf-live/karriere-blog/blog-uebersicht?loadCount=96']"
      ]
     },
     "execution_count": 15,
     "metadata": {},
     "output_type": "execute_result"
    }
   ],
   "source": [
    "blog_urls = [blog_url+f'?loadCount={i}' for i in loadCounts]\n",
    "blog_urls"
   ]
  },
  {
   "cell_type": "code",
   "execution_count": 16,
   "metadata": {},
   "outputs": [],
   "source": [
    "hyper_links = []\n",
    "for url in blog_urls:\n",
    "    page = requests.get(base_url + url)\n",
    "    soup = BeautifulSoup(page.content, 'html.parser')\n",
    "    articles = soup.find_all('article')\n",
    "    for article in articles:\n",
    "        hyper_link = article.find('a').get('href')\n",
    "        hyper_links.append(base_url + hyper_link)\n",
    "hyper_links = list(set(hyper_links))"
   ]
  },
  {
   "cell_type": "markdown",
   "metadata": {},
   "source": [
    "> Falls die vorherige Zelle nicht funktioniert, können Sie die folgende Zelle ausführen (von `Raw` auf `Code` ändern):"
   ]
  },
  {
   "cell_type": "raw",
   "metadata": {},
   "source": [
    "import pickle\n",
    "hyper_links = pickle.load(open ('../src/_solutions/hyper_links_02.p', 'rb'))"
   ]
  },
  {
   "cell_type": "code",
   "execution_count": 17,
   "metadata": {},
   "outputs": [
    {
     "data": {
      "text/plain": [
       "75"
      ]
     },
     "execution_count": 17,
     "metadata": {},
     "output_type": "execute_result"
    }
   ],
   "source": [
    "len(hyper_links)"
   ]
  },
  {
   "cell_type": "markdown",
   "metadata": {},
   "source": [
    "### Refactoring"
   ]
  },
  {
   "cell_type": "code",
   "execution_count": 18,
   "metadata": {},
   "outputs": [
    {
     "name": "stdout",
     "output_type": "stream",
     "text": [
      "Overwriting ../src/get_blog_urls.py\n"
     ]
    }
   ],
   "source": [
    "%%writefile ../src/get_blog_urls.py\n",
    "\n",
    "from bs4 import BeautifulSoup\n",
    "import requests\n",
    "\n",
    "def get_blog_urls(base_url, blog_urls):\n",
    "    '''\n",
    "    Function to extract links from the Beiersdorf Blog website\n",
    "    '''\n",
    "    # make sure the argument is of type list \n",
    "    if not isinstance(blog_urls, list):\n",
    "        blog_urls = [blog_urls]\n",
    "    hyper_links = []\n",
    "    # iterate over all urls\n",
    "    for url in blog_urls:\n",
    "        page = requests.get(base_url + url)\n",
    "        soup = BeautifulSoup(page.content, 'html.parser')\n",
    "        articles = soup.find_all('article')\n",
    "        for article in articles:\n",
    "            hyper_link = article.find('a').get('href')\n",
    "            hyper_links.append(base_url + hyper_link)\n",
    "    print(f'{len(set(hyper_links))} links to articles were found!\\n')\n",
    "    return list(set(hyper_links))"
   ]
  },
  {
   "cell_type": "markdown",
   "metadata": {},
   "source": [
    "***"
   ]
  }
 ],
 "metadata": {
  "kernelspec": {
   "display_name": "Python 3",
   "language": "python",
   "name": "python3"
  },
  "language_info": {
   "codemirror_mode": {
    "name": "ipython",
    "version": 3
   },
   "file_extension": ".py",
   "mimetype": "text/x-python",
   "name": "python",
   "nbconvert_exporter": "python",
   "pygments_lexer": "ipython3",
   "version": "3.6.7"
  }
 },
 "nbformat": 4,
 "nbformat_minor": 2
}
