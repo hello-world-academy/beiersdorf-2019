{
 "cells": [
  {
   "cell_type": "code",
   "execution_count": 1,
   "metadata": {},
   "outputs": [],
   "source": [
    "%load_ext autoreload\n",
    "%autoreload 2"
   ]
  },
  {
   "cell_type": "markdown",
   "metadata": {},
   "source": [
    "# Web Scraping mit [Python](https://www.python.org/) mit [`BeautifulSoup`](https://www.crummy.com/software/BeautifulSoup/bs4/doc/) und [`requests`](https://2.python-requests.org/en/master/)"
   ]
  },
  {
   "cell_type": "markdown",
   "metadata": {},
   "source": [
    "## Extrahieren der Texte der Blogeinträge"
   ]
  },
  {
   "cell_type": "markdown",
   "metadata": {},
   "source": [
    "__Importieren von Python Bibliotheken__"
   ]
  },
  {
   "cell_type": "code",
   "execution_count": 2,
   "metadata": {},
   "outputs": [],
   "source": [
    "from bs4 import BeautifulSoup\n",
    "import requests\n",
    "import sys"
   ]
  },
  {
   "cell_type": "markdown",
   "metadata": {},
   "source": [
    "**Add path to look for modules**"
   ]
  },
  {
   "cell_type": "code",
   "execution_count": 3,
   "metadata": {},
   "outputs": [],
   "source": [
    "import sys\n",
    "sys.path.append(\"../src\")"
   ]
  },
  {
   "cell_type": "code",
   "execution_count": 4,
   "metadata": {},
   "outputs": [],
   "source": [
    "import get_blog_urls"
   ]
  },
  {
   "cell_type": "markdown",
   "metadata": {},
   "source": [
    "### Festlegen der URL"
   ]
  },
  {
   "cell_type": "code",
   "execution_count": 5,
   "metadata": {},
   "outputs": [],
   "source": [
    "base_url = \"https://www.beiersdorf.de/\"\n",
    "blog_url = \"beiersdorf-live/karriere-blog/blog-uebersicht\""
   ]
  },
  {
   "cell_type": "code",
   "execution_count": 6,
   "metadata": {},
   "outputs": [
    {
     "data": {
      "text/plain": [
       "array([ 0, 12, 24, 36, 48, 60, 72, 84, 96])"
      ]
     },
     "execution_count": 6,
     "metadata": {},
     "output_type": "execute_result"
    }
   ],
   "source": [
    "import numpy as np \n",
    "loadCounts = np.arange(0, 100, 12)\n",
    "loadCounts"
   ]
  },
  {
   "cell_type": "code",
   "execution_count": 7,
   "metadata": {},
   "outputs": [
    {
     "data": {
      "text/plain": [
       "['beiersdorf-live/karriere-blog/blog-uebersicht?loadCount=0',\n",
       " 'beiersdorf-live/karriere-blog/blog-uebersicht?loadCount=12',\n",
       " 'beiersdorf-live/karriere-blog/blog-uebersicht?loadCount=24',\n",
       " 'beiersdorf-live/karriere-blog/blog-uebersicht?loadCount=36',\n",
       " 'beiersdorf-live/karriere-blog/blog-uebersicht?loadCount=48',\n",
       " 'beiersdorf-live/karriere-blog/blog-uebersicht?loadCount=60',\n",
       " 'beiersdorf-live/karriere-blog/blog-uebersicht?loadCount=72',\n",
       " 'beiersdorf-live/karriere-blog/blog-uebersicht?loadCount=84',\n",
       " 'beiersdorf-live/karriere-blog/blog-uebersicht?loadCount=96']"
      ]
     },
     "execution_count": 7,
     "metadata": {},
     "output_type": "execute_result"
    }
   ],
   "source": [
    "blog_urls = [blog_url+f'?loadCount={i}' for i in loadCounts]\n",
    "blog_urls"
   ]
  },
  {
   "cell_type": "code",
   "execution_count": 8,
   "metadata": {},
   "outputs": [
    {
     "name": "stdout",
     "output_type": "stream",
     "text": [
      "75 links to articles were found!\n",
      "\n"
     ]
    }
   ],
   "source": [
    "hyper_links = get_blog_urls.get_blog_urls(base_url, blog_urls)"
   ]
  },
  {
   "cell_type": "markdown",
   "metadata": {},
   "source": [
    "> Falls die vorherige Zelle nicht funktioniert, können Sie die folgende Zelle ausführen (von `Raw` auf `Code` ändern):"
   ]
  },
  {
   "cell_type": "raw",
   "metadata": {},
   "source": [
    "import pickle\n",
    "hyper_links = pickle.load(open ('../src/_solutions/hyper_links_02.p', 'rb'))"
   ]
  },
  {
   "cell_type": "code",
   "execution_count": 9,
   "metadata": {},
   "outputs": [
    {
     "data": {
      "text/plain": [
       "['https://www.beiersdorf.de//beiersdorf-live/karriere-blog/blog-uebersicht/2019/05/02-wir-muessen-wie-ein-startup-agieren',\n",
       " 'https://www.beiersdorf.de//beiersdorf-live/karriere-blog/blog-uebersicht/2016/04/2016-04-06-welcome-to-hamburg',\n",
       " 'https://www.beiersdorf.de//beiersdorf-live/karriere-blog/blog-uebersicht/2017/05/17-beiersdorf-international-internship-challenge-2017',\n",
       " 'https://www.beiersdorf.de//beiersdorf-live/karriere-blog/blog-uebersicht/2017/05/31-kuenstliche-intelligenz-in-der-hautpflege']"
      ]
     },
     "execution_count": 9,
     "metadata": {},
     "output_type": "execute_result"
    }
   ],
   "source": [
    "hyper_links[:4]"
   ]
  },
  {
   "cell_type": "markdown",
   "metadata": {},
   "source": [
    "***"
   ]
  },
  {
   "cell_type": "markdown",
   "metadata": {},
   "source": [
    "### Extrahieren der Textelemente eines Blogartikels\n",
    "\n",
    "* Besuchen Sie die Webseite eines Blogs und machen Sie sich mit deren Struktur vertraut.\n",
    "* Nutzen Sie Web- oder Developer Toolkits und versuchen Sie zu ergründen, wie wir auf die Blogtexte zugreifen können.  "
   ]
  },
  {
   "cell_type": "code",
   "execution_count": 10,
   "metadata": {},
   "outputs": [
    {
     "name": "stdout",
     "output_type": "stream",
     "text": [
      "https://www.beiersdorf.de//beiersdorf-live/karriere-blog/blog-uebersicht/2019/05/02-wir-muessen-wie-ein-startup-agieren\n"
     ]
    }
   ],
   "source": [
    "print(hyper_links[0])\n",
    "page = requests.get(hyper_links[0])\n",
    "blog = BeautifulSoup(page.content, 'html.parser')"
   ]
  },
  {
   "cell_type": "markdown",
   "metadata": {},
   "source": [
    "> Falls die vorherige Zelle nicht funktioniert, können Sie die folgende Zelle ausführen (von `Raw` auf `Code` ändern):"
   ]
  },
  {
   "cell_type": "raw",
   "metadata": {},
   "source": [
    "import pickle\n",
    "page = pickle.load(open ('../src/_solutions/page_02.p', 'rb'))\n",
    "blog = BeautifulSoup(page.content, 'html.parser')"
   ]
  },
  {
   "cell_type": "code",
   "execution_count": 11,
   "metadata": {},
   "outputs": [],
   "source": [
    "#blog"
   ]
  },
  {
   "cell_type": "code",
   "execution_count": 12,
   "metadata": {},
   "outputs": [
    {
     "data": {
      "text/plain": [
       "[<div class=\"text-module-content rte all-col\"><div><figure class=\"right-image vertical-image\"><div class=\"image-wrapper\"><img alt=\"\" height=\"1124\" src=\"/~/media/Beiersdorf/career/beiersdorf-live/2019-05-02-we-need-to-act-like-a-startup/Beiersdorf-jacek-portrait.png?la=de-DE&amp;mw=940&amp;highRes=1\" width=\"826\"/></div></figure><div class=\"rte\"><p>Hallo zusammen,\n",
       "  \n",
       " </p>\n",
       " <p>\n",
       " Ich\n",
       " bin Jacek Brozda, Manager Ventures und New Business bei Beiersdorf in Seoul, Südkorea. Meine\n",
       " Karriere innerhalb des Unternehmens begann bereits 2015, als ich dem <a href=\"/karriere/studenten-und-absolventen/trainee-programme\">BEYOND\n",
       " BORDERS Trainee-Programm</a>\n",
       " in <a href=\"/karriere/studenten-und-absolventen/trainee-programme/beyond-borders-digital-marketing-and-ecommerce\">Digital Marketing und eCommerce</a> beitrat. Da es sich\n",
       " hierbei um das erste Programm handelte, das sich vollständig auf das\n",
       " aufkommende Thema „Digital“ ausrichtete, war es für mich sehr spannend, daran teilzunehmen.\n",
       " Innerhalb von 18 Monaten hatte ich die Möglichkeit, buchstäblich Grenzen zu\n",
       " überschreiten: in Bezug auf Länder, aber auch hinsichtlich Funktionen und Marken.\n",
       " Besonders dankbar bin ich für die Möglichkeit, in internationale Teams in China\n",
       " und Südkorea einsteigen zu können, beides führende Märkte im Bereich\n",
       " Digitalisierung. Kurz nach Abschluss des Trainee-Programms kam ich für ein internes Startup-Projekt nach Berlin.\n",
       " Hier arbeiteten wir an einer Innovativen Hautpflegelösung und der Entwicklung\n",
       " neuer Geschäftsmodelle. Während dieser Zeit wurden wir mit Arbeitstechniken wie\n",
       " Lean Startup, MVP und Design Thinking vertraut gemacht. Aus diesen\n",
       " Erkenntnissen zu schöpfen und sie in eine große Organisation wie Beiersdorf\n",
       " einzubringen, trägt heute dazu bei, agiler und unternehmerischer zu handeln.</p></div></div></div>,\n",
       " <div class=\"rte\"><p>Hallo zusammen,\n",
       "  \n",
       " </p>\n",
       " <p>\n",
       " Ich\n",
       " bin Jacek Brozda, Manager Ventures und New Business bei Beiersdorf in Seoul, Südkorea. Meine\n",
       " Karriere innerhalb des Unternehmens begann bereits 2015, als ich dem <a href=\"/karriere/studenten-und-absolventen/trainee-programme\">BEYOND\n",
       " BORDERS Trainee-Programm</a>\n",
       " in <a href=\"/karriere/studenten-und-absolventen/trainee-programme/beyond-borders-digital-marketing-and-ecommerce\">Digital Marketing und eCommerce</a> beitrat. Da es sich\n",
       " hierbei um das erste Programm handelte, das sich vollständig auf das\n",
       " aufkommende Thema „Digital“ ausrichtete, war es für mich sehr spannend, daran teilzunehmen.\n",
       " Innerhalb von 18 Monaten hatte ich die Möglichkeit, buchstäblich Grenzen zu\n",
       " überschreiten: in Bezug auf Länder, aber auch hinsichtlich Funktionen und Marken.\n",
       " Besonders dankbar bin ich für die Möglichkeit, in internationale Teams in China\n",
       " und Südkorea einsteigen zu können, beides führende Märkte im Bereich\n",
       " Digitalisierung. Kurz nach Abschluss des Trainee-Programms kam ich für ein internes Startup-Projekt nach Berlin.\n",
       " Hier arbeiteten wir an einer Innovativen Hautpflegelösung und der Entwicklung\n",
       " neuer Geschäftsmodelle. Während dieser Zeit wurden wir mit Arbeitstechniken wie\n",
       " Lean Startup, MVP und Design Thinking vertraut gemacht. Aus diesen\n",
       " Erkenntnissen zu schöpfen und sie in eine große Organisation wie Beiersdorf\n",
       " einzubringen, trägt heute dazu bei, agiler und unternehmerischer zu handeln.</p></div>,\n",
       " <div class=\"text-module-content rte all-col\"><div><figure class=\"left-image vertical-image\"><div class=\"image-wrapper\"><img alt=\"\" height=\"1339\" src=\"/~/media/Beiersdorf/career/beiersdorf-live/2019-05-02-we-need-to-act-like-a-startup/Beiersdorf-familie1.png?la=de-DE&amp;mw=940&amp;highRes=1\" width=\"940\"/></div></figure><div class=\"rte\"><p>Bei Beiersdorf werden unsere Kernwerte CARE und TRUST\n",
       " unternehmensweit gelebt. Für mich drückt sich dies auch in meiner Beziehung zu\n",
       " meinen Mentoren aus, die ihre Erfahrungen mit mir teilen und mir helfen, meine\n",
       " Karriere in die für mich richtige Richtung zu lenken. Dazu zähle ich Thomas\n",
       " Grunzke, den Direktor für Nordostasien, der während meiner Auslandszeit mein\n",
       " Vorgesetzter war. Er erkannte meine Leidenschaft für neue Initiativen und\n",
       " glaubte daran, dass ich gut zu unserer südkoreanischen Geschäftseinheit passen\n",
       " würde, die für ihren Unternehmergeist bekannt ist. Meine Frau und ich waren\n",
       " sehr begeistert von dieser neuen Chance, denn wir haben schon immer davon\n",
       " geträumt, in Asien zu leben. Nach einigen Interviews mit dem koreanischen Team\n",
       " wurde die Entscheidung rasch getroffen und wir zogen bereits 2017 nach Korea. </p>\n",
       " <p>Korea ist in vielerlei Hinsicht ein sehr faszinierendes\n",
       " Land. Es ist kulturell und historisch ungemein spannend und gleichzeitig ein\n",
       " modernes, schnelllebiges und gen Zukunft gerichtetes Land. Aus Business-Perspektive\n",
       " ist Korea eine der führenden Trend-, Dreh- und Angelpunkte im Bereich der\n",
       " Hautpflege. Jeder in der Branche kennt K-Beauty und weiß, wie schnell es sich\n",
       " weltweit entwickelt hat. Dieser Erfolg kommt aus einem sehr\n",
       " wettbewerbsintensiven Markt, in dem Hunderte von Hautpflegemarken um das\n",
       " Vertrauen der Verbraucher kämpfen. Und mit ihrem berühmten 10-stufigen\n",
       " Hautpflegekonzept gehören die Verbraucher in Korea zu den anspruchsvollsten. </p>\n",
       " <p>Umso herausfordernder und spannender ist meine Position als\n",
       " Manager Ventures und New Business, da ich für die Einführung neuer\n",
       " Hautpflegemarken im Markt verantwortlich bin. Dies erfordert einen völlig\n",
       " anderen Ansatz als in Europa. Wir müssen uns wie ein Startup verhalten und dabei\n",
       " die Erkenntnisse erfolgreicher Indie Brands nutzen. Besonders stolz auf mein\n",
       " Team bin ich, wenn ich mir zum Beispiel die Einführung von Hidrofugal in Korea\n",
       " anschaue. Denn hier war es das erste Mal, dass Beiersdorf eine Deodorantmarke\n",
       " mit maximalem Fokus auf digitale Kanäle einführte. Dabei haben wir neue\n",
       " Fähigkeiten in der Designentwicklung erworben und alle digitalen Medienkanäle\n",
       " im eigenen Haus verwaltet. Das Ergebnis: Wir konnten agiler handeln und\n",
       " Verbraucherdaten nutzen, um eine bessere Kampagnenleistung zu erzielen.  </p></div></div></div>,\n",
       " <div class=\"rte\"><p>Bei Beiersdorf werden unsere Kernwerte CARE und TRUST\n",
       " unternehmensweit gelebt. Für mich drückt sich dies auch in meiner Beziehung zu\n",
       " meinen Mentoren aus, die ihre Erfahrungen mit mir teilen und mir helfen, meine\n",
       " Karriere in die für mich richtige Richtung zu lenken. Dazu zähle ich Thomas\n",
       " Grunzke, den Direktor für Nordostasien, der während meiner Auslandszeit mein\n",
       " Vorgesetzter war. Er erkannte meine Leidenschaft für neue Initiativen und\n",
       " glaubte daran, dass ich gut zu unserer südkoreanischen Geschäftseinheit passen\n",
       " würde, die für ihren Unternehmergeist bekannt ist. Meine Frau und ich waren\n",
       " sehr begeistert von dieser neuen Chance, denn wir haben schon immer davon\n",
       " geträumt, in Asien zu leben. Nach einigen Interviews mit dem koreanischen Team\n",
       " wurde die Entscheidung rasch getroffen und wir zogen bereits 2017 nach Korea. </p>\n",
       " <p>Korea ist in vielerlei Hinsicht ein sehr faszinierendes\n",
       " Land. Es ist kulturell und historisch ungemein spannend und gleichzeitig ein\n",
       " modernes, schnelllebiges und gen Zukunft gerichtetes Land. Aus Business-Perspektive\n",
       " ist Korea eine der führenden Trend-, Dreh- und Angelpunkte im Bereich der\n",
       " Hautpflege. Jeder in der Branche kennt K-Beauty und weiß, wie schnell es sich\n",
       " weltweit entwickelt hat. Dieser Erfolg kommt aus einem sehr\n",
       " wettbewerbsintensiven Markt, in dem Hunderte von Hautpflegemarken um das\n",
       " Vertrauen der Verbraucher kämpfen. Und mit ihrem berühmten 10-stufigen\n",
       " Hautpflegekonzept gehören die Verbraucher in Korea zu den anspruchsvollsten. </p>\n",
       " <p>Umso herausfordernder und spannender ist meine Position als\n",
       " Manager Ventures und New Business, da ich für die Einführung neuer\n",
       " Hautpflegemarken im Markt verantwortlich bin. Dies erfordert einen völlig\n",
       " anderen Ansatz als in Europa. Wir müssen uns wie ein Startup verhalten und dabei\n",
       " die Erkenntnisse erfolgreicher Indie Brands nutzen. Besonders stolz auf mein\n",
       " Team bin ich, wenn ich mir zum Beispiel die Einführung von Hidrofugal in Korea\n",
       " anschaue. Denn hier war es das erste Mal, dass Beiersdorf eine Deodorantmarke\n",
       " mit maximalem Fokus auf digitale Kanäle einführte. Dabei haben wir neue\n",
       " Fähigkeiten in der Designentwicklung erworben und alle digitalen Medienkanäle\n",
       " im eigenen Haus verwaltet. Das Ergebnis: Wir konnten agiler handeln und\n",
       " Verbraucherdaten nutzen, um eine bessere Kampagnenleistung zu erzielen.  </p></div>,\n",
       " <div class=\"text-module-content rte all-col\"><div><figure class=\"right-image horizontal-image\"><div class=\"image-wrapper\"><img alt=\"WeWork Büro\" height=\"529\" src=\"/~/media/Beiersdorf/career/beiersdorf-live/2019-05-02-we-need-to-act-like-a-startup/Beiersdorf-WeWork-Seoul.png?la=de-DE&amp;mw=940&amp;highRes=1\" width=\"940\"/></div><figcaption>WeWork Büro in Seoul </figcaption></figure><div class=\"rte\"><p>Ich\n",
       " bin außerdem für unsere Venture Development Aktivitäten verantwortlich. Dabei\n",
       " handelt es sich um eine spannende neue Division, die den ersten <a href=\"/presse/pressemitteilungen/alle-pressemitteilungen/2018/12/03-nivea-startet-accelerator-programm-in-suedkorea\">Startup\n",
       " Accelerator</a> hier in Korea baut. Zu diesem Zweck haben wir eine strategische\n",
       " Partnerschaft mit WeWork Korea geschlossen, um unseren Zugang zum\n",
       " Startup-Ökosystem zu verbessern. Unsere beiden Unternehmen teilen die Vision,\n",
       " die nächste Generation von koreanischen Beauty Startups zu fördern.</p>\n",
       " <p>Der Prozess der Erstellung dieses Programms selbst war sehr hands-on\n",
       " und im Spirit der Startup-Kultur. Anstatt eine Agentur zu beauftragen, nahmen\n",
       " wir es einfach selbst in die Hand: Es war an uns, das Büro zu verlassen, um zu\n",
       " networken, an Veranstaltungen teilnehmen und Treffen mit Startups anzuschieben.\n",
       " Eine der interessantesten Erfahrungen war für mich, dass mit jeder neuen\n",
       " Partnerschaft unser Know-how um ein Vielfaches wuchs. So gewannen wir schnell\n",
       " mehrere Erkenntnisse, von denen wir unmittelbar profitieren konnten und die\n",
       " unsere Arbeitsweise verbesserten und uns halfen, die nächsten Branchentrends\n",
       " vorherzusehen. Indem wir Inhouse aktiv wurden, konnten wir unsere eigene\n",
       " Startup-Plattform entwickeln, die, wie ich vermute, jetzt die aktuellste\n",
       " Datenbank für Skin Care-Startups in Korea ist. Aber was noch viel wichtiger\n",
       " ist: Wir pflegen enge Beziehungen zu innovativen Unternehmern, Business Angels\n",
       " und anderen Ökosystem-Playern – ohne eine weitere Instanz, die zwischen uns\n",
       " vermittelt.</p></div></div></div>,\n",
       " <div class=\"rte\"><p>Ich\n",
       " bin außerdem für unsere Venture Development Aktivitäten verantwortlich. Dabei\n",
       " handelt es sich um eine spannende neue Division, die den ersten <a href=\"/presse/pressemitteilungen/alle-pressemitteilungen/2018/12/03-nivea-startet-accelerator-programm-in-suedkorea\">Startup\n",
       " Accelerator</a> hier in Korea baut. Zu diesem Zweck haben wir eine strategische\n",
       " Partnerschaft mit WeWork Korea geschlossen, um unseren Zugang zum\n",
       " Startup-Ökosystem zu verbessern. Unsere beiden Unternehmen teilen die Vision,\n",
       " die nächste Generation von koreanischen Beauty Startups zu fördern.</p>\n",
       " <p>Der Prozess der Erstellung dieses Programms selbst war sehr hands-on\n",
       " und im Spirit der Startup-Kultur. Anstatt eine Agentur zu beauftragen, nahmen\n",
       " wir es einfach selbst in die Hand: Es war an uns, das Büro zu verlassen, um zu\n",
       " networken, an Veranstaltungen teilnehmen und Treffen mit Startups anzuschieben.\n",
       " Eine der interessantesten Erfahrungen war für mich, dass mit jeder neuen\n",
       " Partnerschaft unser Know-how um ein Vielfaches wuchs. So gewannen wir schnell\n",
       " mehrere Erkenntnisse, von denen wir unmittelbar profitieren konnten und die\n",
       " unsere Arbeitsweise verbesserten und uns halfen, die nächsten Branchentrends\n",
       " vorherzusehen. Indem wir Inhouse aktiv wurden, konnten wir unsere eigene\n",
       " Startup-Plattform entwickeln, die, wie ich vermute, jetzt die aktuellste\n",
       " Datenbank für Skin Care-Startups in Korea ist. Aber was noch viel wichtiger\n",
       " ist: Wir pflegen enge Beziehungen zu innovativen Unternehmern, Business Angels\n",
       " und anderen Ökosystem-Playern – ohne eine weitere Instanz, die zwischen uns\n",
       " vermittelt.</p></div>,\n",
       " <div class=\"text-module-content rte all-col\"><div><figure class=\"left-image horizontal-image\"><div class=\"image-wrapper\"><img alt=\"Die Gewinner der Top-5-Startups\" height=\"529\" src=\"/~/media/Beiersdorf/newsroom/press-releases/2019/2019-04-18-NIVEA-accelerator/Beiersdorf-NIVEA-Accelerator-teaser.png?la=de-DE&amp;mw=940&amp;highRes=1\" width=\"940\"/></div><figcaption>Beiersdorf Korea wählt die fünf besten Beauty-Startups für seinen NIVEA Accelerator „NX“</figcaption></figure><div class=\"rte\"><p>Solche Ansätze und Initiativen werden immer wichtiger, denn ich bin fest davon überzeugt, dass große Unternehmen heute eine neue Denkweise in Puncto Wachstum brauchen. Wie wir aus anderen Branchen gelernt haben, kann es sehr schnell zu Veränderungen oder gar Störungen kommen. Im Moment gibt es kein aufstrebendes \"Beauty Einhorn\", doch irgendwann wird es eine Revolution in unserer Branche geben, und diese wollen wir gezielt vorantreiben. Deshalb sind unsere Bemühungen in Korea voll und ganz mit der Strategie des Teams im Hamburger Headquarter abgestimmt. Das gemeinsame Ziel: innovative Partner finden, die gemeinsam mit uns die Zukunft der Hautpflege gestalten werden.</p></div></div></div>,\n",
       " <div class=\"rte\"><p>Solche Ansätze und Initiativen werden immer wichtiger, denn ich bin fest davon überzeugt, dass große Unternehmen heute eine neue Denkweise in Puncto Wachstum brauchen. Wie wir aus anderen Branchen gelernt haben, kann es sehr schnell zu Veränderungen oder gar Störungen kommen. Im Moment gibt es kein aufstrebendes \"Beauty Einhorn\", doch irgendwann wird es eine Revolution in unserer Branche geben, und diese wollen wir gezielt vorantreiben. Deshalb sind unsere Bemühungen in Korea voll und ganz mit der Strategie des Teams im Hamburger Headquarter abgestimmt. Das gemeinsame Ziel: innovative Partner finden, die gemeinsam mit uns die Zukunft der Hautpflege gestalten werden.</p></div>,\n",
       " <div class=\"text-module-content rte all-col\"><div><figure class=\"right-image horizontal-image\"><div class=\"image-wrapper\"><img alt=\"Autoren weltweit\" height=\"529\" src=\"/~/media/Beiersdorf/career/beiersdorf-live/authors/editors-worldwide.jpg?la=de-DE&amp;mw=940&amp;highRes=1\" width=\"940\"/></div></figure><h2 class=\"title\">Unsere Gast-Autoren weltweit</h2><div class=\"rte\"><p>Neben unserem redaktionellen Team schreiben auch viele internationale Kollegen regelmäßig Gast-Beiträge für unseren Corporate Blog. Von Europa bis Asien, von Durban bis Buenos Aires, Dubai oder Sydney berichten sie über spannende Projekte aus unseren über 160 Tochtergesellschaften weltweit und geben Einblicke in die dortige Arbeitswelt von Beiersdorf.</p></div></div></div>,\n",
       " <div class=\"rte\"><p>Neben unserem redaktionellen Team schreiben auch viele internationale Kollegen regelmäßig Gast-Beiträge für unseren Corporate Blog. Von Europa bis Asien, von Durban bis Buenos Aires, Dubai oder Sydney berichten sie über spannende Projekte aus unseren über 160 Tochtergesellschaften weltweit und geben Einblicke in die dortige Arbeitswelt von Beiersdorf.</p></div>]"
      ]
     },
     "execution_count": 12,
     "metadata": {},
     "output_type": "execute_result"
    }
   ],
   "source": [
    "text_segments = blog.find_all('div', {\"class\" : 'rte'})\n",
    "text_segments"
   ]
  },
  {
   "cell_type": "markdown",
   "metadata": {},
   "source": [
    "> __Problem:__ \n",
    "* Was ist das Problem mit der Liste `text_segments`?"
   ]
  },
  {
   "cell_type": "code",
   "execution_count": 13,
   "metadata": {},
   "outputs": [],
   "source": [
    "text_segments = []\n",
    "for elem in blog.find_all('div', {\"class\" : 'rte'}):\n",
    "    if elem.attrs['class'][0] == 'rte':\n",
    "        text_segments.append(elem)"
   ]
  },
  {
   "cell_type": "code",
   "execution_count": 14,
   "metadata": {},
   "outputs": [
    {
     "data": {
      "text/plain": [
       "[<div class=\"rte\"><p>Hallo zusammen,\n",
       "  \n",
       " </p>\n",
       " <p>\n",
       " Ich\n",
       " bin Jacek Brozda, Manager Ventures und New Business bei Beiersdorf in Seoul, Südkorea. Meine\n",
       " Karriere innerhalb des Unternehmens begann bereits 2015, als ich dem <a href=\"/karriere/studenten-und-absolventen/trainee-programme\">BEYOND\n",
       " BORDERS Trainee-Programm</a>\n",
       " in <a href=\"/karriere/studenten-und-absolventen/trainee-programme/beyond-borders-digital-marketing-and-ecommerce\">Digital Marketing und eCommerce</a> beitrat. Da es sich\n",
       " hierbei um das erste Programm handelte, das sich vollständig auf das\n",
       " aufkommende Thema „Digital“ ausrichtete, war es für mich sehr spannend, daran teilzunehmen.\n",
       " Innerhalb von 18 Monaten hatte ich die Möglichkeit, buchstäblich Grenzen zu\n",
       " überschreiten: in Bezug auf Länder, aber auch hinsichtlich Funktionen und Marken.\n",
       " Besonders dankbar bin ich für die Möglichkeit, in internationale Teams in China\n",
       " und Südkorea einsteigen zu können, beides führende Märkte im Bereich\n",
       " Digitalisierung. Kurz nach Abschluss des Trainee-Programms kam ich für ein internes Startup-Projekt nach Berlin.\n",
       " Hier arbeiteten wir an einer Innovativen Hautpflegelösung und der Entwicklung\n",
       " neuer Geschäftsmodelle. Während dieser Zeit wurden wir mit Arbeitstechniken wie\n",
       " Lean Startup, MVP und Design Thinking vertraut gemacht. Aus diesen\n",
       " Erkenntnissen zu schöpfen und sie in eine große Organisation wie Beiersdorf\n",
       " einzubringen, trägt heute dazu bei, agiler und unternehmerischer zu handeln.</p></div>,\n",
       " <div class=\"rte\"><p>Bei Beiersdorf werden unsere Kernwerte CARE und TRUST\n",
       " unternehmensweit gelebt. Für mich drückt sich dies auch in meiner Beziehung zu\n",
       " meinen Mentoren aus, die ihre Erfahrungen mit mir teilen und mir helfen, meine\n",
       " Karriere in die für mich richtige Richtung zu lenken. Dazu zähle ich Thomas\n",
       " Grunzke, den Direktor für Nordostasien, der während meiner Auslandszeit mein\n",
       " Vorgesetzter war. Er erkannte meine Leidenschaft für neue Initiativen und\n",
       " glaubte daran, dass ich gut zu unserer südkoreanischen Geschäftseinheit passen\n",
       " würde, die für ihren Unternehmergeist bekannt ist. Meine Frau und ich waren\n",
       " sehr begeistert von dieser neuen Chance, denn wir haben schon immer davon\n",
       " geträumt, in Asien zu leben. Nach einigen Interviews mit dem koreanischen Team\n",
       " wurde die Entscheidung rasch getroffen und wir zogen bereits 2017 nach Korea. </p>\n",
       " <p>Korea ist in vielerlei Hinsicht ein sehr faszinierendes\n",
       " Land. Es ist kulturell und historisch ungemein spannend und gleichzeitig ein\n",
       " modernes, schnelllebiges und gen Zukunft gerichtetes Land. Aus Business-Perspektive\n",
       " ist Korea eine der führenden Trend-, Dreh- und Angelpunkte im Bereich der\n",
       " Hautpflege. Jeder in der Branche kennt K-Beauty und weiß, wie schnell es sich\n",
       " weltweit entwickelt hat. Dieser Erfolg kommt aus einem sehr\n",
       " wettbewerbsintensiven Markt, in dem Hunderte von Hautpflegemarken um das\n",
       " Vertrauen der Verbraucher kämpfen. Und mit ihrem berühmten 10-stufigen\n",
       " Hautpflegekonzept gehören die Verbraucher in Korea zu den anspruchsvollsten. </p>\n",
       " <p>Umso herausfordernder und spannender ist meine Position als\n",
       " Manager Ventures und New Business, da ich für die Einführung neuer\n",
       " Hautpflegemarken im Markt verantwortlich bin. Dies erfordert einen völlig\n",
       " anderen Ansatz als in Europa. Wir müssen uns wie ein Startup verhalten und dabei\n",
       " die Erkenntnisse erfolgreicher Indie Brands nutzen. Besonders stolz auf mein\n",
       " Team bin ich, wenn ich mir zum Beispiel die Einführung von Hidrofugal in Korea\n",
       " anschaue. Denn hier war es das erste Mal, dass Beiersdorf eine Deodorantmarke\n",
       " mit maximalem Fokus auf digitale Kanäle einführte. Dabei haben wir neue\n",
       " Fähigkeiten in der Designentwicklung erworben und alle digitalen Medienkanäle\n",
       " im eigenen Haus verwaltet. Das Ergebnis: Wir konnten agiler handeln und\n",
       " Verbraucherdaten nutzen, um eine bessere Kampagnenleistung zu erzielen.  </p></div>,\n",
       " <div class=\"rte\"><p>Ich\n",
       " bin außerdem für unsere Venture Development Aktivitäten verantwortlich. Dabei\n",
       " handelt es sich um eine spannende neue Division, die den ersten <a href=\"/presse/pressemitteilungen/alle-pressemitteilungen/2018/12/03-nivea-startet-accelerator-programm-in-suedkorea\">Startup\n",
       " Accelerator</a> hier in Korea baut. Zu diesem Zweck haben wir eine strategische\n",
       " Partnerschaft mit WeWork Korea geschlossen, um unseren Zugang zum\n",
       " Startup-Ökosystem zu verbessern. Unsere beiden Unternehmen teilen die Vision,\n",
       " die nächste Generation von koreanischen Beauty Startups zu fördern.</p>\n",
       " <p>Der Prozess der Erstellung dieses Programms selbst war sehr hands-on\n",
       " und im Spirit der Startup-Kultur. Anstatt eine Agentur zu beauftragen, nahmen\n",
       " wir es einfach selbst in die Hand: Es war an uns, das Büro zu verlassen, um zu\n",
       " networken, an Veranstaltungen teilnehmen und Treffen mit Startups anzuschieben.\n",
       " Eine der interessantesten Erfahrungen war für mich, dass mit jeder neuen\n",
       " Partnerschaft unser Know-how um ein Vielfaches wuchs. So gewannen wir schnell\n",
       " mehrere Erkenntnisse, von denen wir unmittelbar profitieren konnten und die\n",
       " unsere Arbeitsweise verbesserten und uns halfen, die nächsten Branchentrends\n",
       " vorherzusehen. Indem wir Inhouse aktiv wurden, konnten wir unsere eigene\n",
       " Startup-Plattform entwickeln, die, wie ich vermute, jetzt die aktuellste\n",
       " Datenbank für Skin Care-Startups in Korea ist. Aber was noch viel wichtiger\n",
       " ist: Wir pflegen enge Beziehungen zu innovativen Unternehmern, Business Angels\n",
       " und anderen Ökosystem-Playern – ohne eine weitere Instanz, die zwischen uns\n",
       " vermittelt.</p></div>,\n",
       " <div class=\"rte\"><p>Solche Ansätze und Initiativen werden immer wichtiger, denn ich bin fest davon überzeugt, dass große Unternehmen heute eine neue Denkweise in Puncto Wachstum brauchen. Wie wir aus anderen Branchen gelernt haben, kann es sehr schnell zu Veränderungen oder gar Störungen kommen. Im Moment gibt es kein aufstrebendes \"Beauty Einhorn\", doch irgendwann wird es eine Revolution in unserer Branche geben, und diese wollen wir gezielt vorantreiben. Deshalb sind unsere Bemühungen in Korea voll und ganz mit der Strategie des Teams im Hamburger Headquarter abgestimmt. Das gemeinsame Ziel: innovative Partner finden, die gemeinsam mit uns die Zukunft der Hautpflege gestalten werden.</p></div>,\n",
       " <div class=\"rte\"><p>Neben unserem redaktionellen Team schreiben auch viele internationale Kollegen regelmäßig Gast-Beiträge für unseren Corporate Blog. Von Europa bis Asien, von Durban bis Buenos Aires, Dubai oder Sydney berichten sie über spannende Projekte aus unseren über 160 Tochtergesellschaften weltweit und geben Einblicke in die dortige Arbeitswelt von Beiersdorf.</p></div>]"
      ]
     },
     "execution_count": 14,
     "metadata": {},
     "output_type": "execute_result"
    }
   ],
   "source": [
    "text_segments"
   ]
  },
  {
   "cell_type": "markdown",
   "metadata": {},
   "source": [
    "#### Zusammenfügen aller Texte eines Blogartikels"
   ]
  },
  {
   "cell_type": "code",
   "execution_count": 15,
   "metadata": {},
   "outputs": [
    {
     "data": {
      "text/plain": [
       "<div class=\"rte\"><p>Hallo zusammen,\n",
       " \n",
       "</p>\n",
       "<p>\n",
       "Ich\n",
       "bin Jacek Brozda, Manager Ventures und New Business bei Beiersdorf in Seoul, Südkorea. Meine\n",
       "Karriere innerhalb des Unternehmens begann bereits 2015, als ich dem <a href=\"/karriere/studenten-und-absolventen/trainee-programme\">BEYOND\n",
       "BORDERS Trainee-Programm</a>\n",
       "in <a href=\"/karriere/studenten-und-absolventen/trainee-programme/beyond-borders-digital-marketing-and-ecommerce\">Digital Marketing und eCommerce</a> beitrat. Da es sich\n",
       "hierbei um das erste Programm handelte, das sich vollständig auf das\n",
       "aufkommende Thema „Digital“ ausrichtete, war es für mich sehr spannend, daran teilzunehmen.\n",
       "Innerhalb von 18 Monaten hatte ich die Möglichkeit, buchstäblich Grenzen zu\n",
       "überschreiten: in Bezug auf Länder, aber auch hinsichtlich Funktionen und Marken.\n",
       "Besonders dankbar bin ich für die Möglichkeit, in internationale Teams in China\n",
       "und Südkorea einsteigen zu können, beides führende Märkte im Bereich\n",
       "Digitalisierung. Kurz nach Abschluss des Trainee-Programms kam ich für ein internes Startup-Projekt nach Berlin.\n",
       "Hier arbeiteten wir an einer Innovativen Hautpflegelösung und der Entwicklung\n",
       "neuer Geschäftsmodelle. Während dieser Zeit wurden wir mit Arbeitstechniken wie\n",
       "Lean Startup, MVP und Design Thinking vertraut gemacht. Aus diesen\n",
       "Erkenntnissen zu schöpfen und sie in eine große Organisation wie Beiersdorf\n",
       "einzubringen, trägt heute dazu bei, agiler und unternehmerischer zu handeln.</p></div>"
      ]
     },
     "execution_count": 15,
     "metadata": {},
     "output_type": "execute_result"
    }
   ],
   "source": [
    "text_segments[0]"
   ]
  },
  {
   "cell_type": "code",
   "execution_count": 16,
   "metadata": {},
   "outputs": [
    {
     "data": {
      "text/plain": [
       "'Hallo zusammen,\\r\\n\\xa0\\r\\n\\n\\r\\nIch\\r\\nbin Jacek Brozda, Manager Ventures und New Business bei Beiersdorf in Seoul, Südkorea. Meine\\r\\nKarriere innerhalb des Unternehmens begann bereits 2015, als ich dem BEYOND\\r\\nBORDERS Trainee-Programm\\r\\nin Digital Marketing und eCommerce beitrat. Da es sich\\r\\nhierbei um das erste Programm handelte, das sich vollständig auf das\\r\\naufkommende Thema „Digital“ ausrichtete, war es für mich sehr spannend, daran teilzunehmen.\\r\\nInnerhalb von 18 Monaten hatte ich die Möglichkeit, buchstäblich Grenzen zu\\r\\nüberschreiten: in Bezug auf Länder, aber auch hinsichtlich Funktionen und Marken.\\r\\nBesonders dankbar bin ich für die Möglichkeit, in internationale Teams in China\\r\\nund Südkorea einsteigen zu können, beides führende Märkte im Bereich\\r\\nDigitalisierung. Kurz nach Abschluss des Trainee-Programms kam ich für ein internes Startup-Projekt nach Berlin.\\r\\nHier arbeiteten wir an einer Innovativen Hautpflegelösung und der Entwicklung\\r\\nneuer Geschäftsmodelle. Während dieser Zeit wurden wir mit Arbeitstechniken wie\\r\\nLean Startup, MVP und Design Thinking vertraut gemacht. Aus diesen\\r\\nErkenntnissen zu schöpfen und sie in eine große Organisation wie Beiersdorf\\r\\neinzubringen, trägt heute dazu bei, agiler und unternehmerischer zu handeln.'"
      ]
     },
     "execution_count": 16,
     "metadata": {},
     "output_type": "execute_result"
    }
   ],
   "source": [
    "text_segments[0].get_text()"
   ]
  },
  {
   "cell_type": "code",
   "execution_count": 17,
   "metadata": {},
   "outputs": [
    {
     "data": {
      "text/plain": [
       "'Hallo zusammen,\\r\\n\\xa0\\r\\n\\n\\r\\nIch\\r\\nbin Jacek Brozda, Manager Ventures und New Business bei Beiersdorf in Seoul, Südkorea. Meine\\r\\nKarriere innerhalb des Unternehmens begann bereits 2015, als ich dem BEYOND\\r\\nBORDERS Trainee-Programm\\r\\nin Digital Marketing und eCommerce beitrat. Da es sich\\r\\nhierbei um das erste Programm handelte, das sich vollständig auf das\\r\\naufkommende Thema „Digital“ ausrichtete, war es für mich sehr spannend, daran teilzunehmen.\\r\\nInnerhalb von 18 Monaten hatte ich die Möglichkeit, buchstäblich Grenzen zu\\r\\nüberschreiten: in Bezug auf Länder, aber auch hinsichtlich Funktionen und Marken.\\r\\nBesonders dankbar bin ich für die Möglichkeit, in internationale Teams in China\\r\\nund Südkorea einsteigen zu können, beides führende Märkte im Bereich\\r\\nDigitalisierung. Kurz nach Abschluss des Trainee-Programms kam ich für ein internes Startup-Projekt nach Berlin.\\r\\nHier arbeiteten wir an einer Innovativen Hautpflegelösung und der Entwicklung\\r\\nneuer Geschäftsmodelle. Während dieser Zeit wurden wir mit Arbeitstechniken wie\\r\\nLean Startup, MVP und Design Thinking vertraut gemacht. Aus diesen\\r\\nErkenntnissen zu schöpfen und sie in eine große Organisation wie Beiersdorf\\r\\neinzubringen, trägt heute dazu bei, agiler und unternehmerischer zu handeln. Bei Beiersdorf werden unsere Kernwerte CARE und TRUST\\r\\nunternehmensweit gelebt. Für mich drückt sich dies auch in meiner Beziehung zu\\r\\nmeinen Mentoren aus, die ihre Erfahrungen mit mir teilen und mir helfen, meine\\r\\nKarriere in die für mich richtige Richtung zu lenken. Dazu zähle ich Thomas\\r\\nGrunzke, den Direktor für Nordostasien, der während meiner Auslandszeit mein\\r\\nVorgesetzter war. Er erkannte meine Leidenschaft für neue Initiativen und\\r\\nglaubte daran, dass ich gut zu unserer südkoreanischen Geschäftseinheit passen\\r\\nwürde, die für ihren Unternehmergeist bekannt ist. Meine Frau und ich waren\\r\\nsehr begeistert von dieser neuen Chance, denn wir haben schon immer davon\\r\\ngeträumt, in Asien zu leben. Nach einigen Interviews mit dem koreanischen Team\\r\\nwurde die Entscheidung rasch getroffen und wir zogen bereits 2017 nach Korea. \\nKorea ist in vielerlei Hinsicht ein sehr faszinierendes\\r\\nLand. Es ist kulturell und historisch ungemein spannend und gleichzeitig ein\\r\\nmodernes, schnelllebiges und gen Zukunft gerichtetes Land. Aus Business-Perspektive\\r\\nist Korea eine der führenden Trend-, Dreh- und Angelpunkte im Bereich der\\r\\nHautpflege. Jeder in der Branche kennt K-Beauty und weiß, wie schnell es sich\\r\\nweltweit entwickelt hat. Dieser Erfolg kommt aus einem sehr\\r\\nwettbewerbsintensiven Markt, in dem Hunderte von Hautpflegemarken um das\\r\\nVertrauen der Verbraucher kämpfen. Und mit ihrem berühmten 10-stufigen\\r\\nHautpflegekonzept gehören die Verbraucher in Korea zu den anspruchsvollsten. \\nUmso herausfordernder und spannender ist meine Position als\\r\\nManager Ventures und New Business, da ich für die Einführung neuer\\r\\nHautpflegemarken im Markt verantwortlich bin. Dies erfordert einen völlig\\r\\nanderen Ansatz als in Europa. Wir müssen uns wie ein Startup verhalten und dabei\\r\\ndie Erkenntnisse erfolgreicher Indie Brands nutzen. Besonders stolz auf mein\\r\\nTeam bin ich, wenn ich mir zum Beispiel die Einführung von Hidrofugal in Korea\\r\\nanschaue. Denn hier war es das erste Mal, dass Beiersdorf eine Deodorantmarke\\r\\nmit maximalem Fokus auf digitale Kanäle einführte. Dabei haben wir neue\\r\\nFähigkeiten in der Designentwicklung erworben und alle digitalen Medienkanäle\\r\\nim eigenen Haus verwaltet. Das Ergebnis: Wir konnten agiler handeln und\\r\\nVerbraucherdaten nutzen, um eine bessere Kampagnenleistung zu erzielen.   Ich\\r\\nbin außerdem für unsere Venture Development Aktivitäten verantwortlich. Dabei\\r\\nhandelt es sich um eine spannende neue Division, die den ersten Startup\\r\\nAccelerator hier in Korea baut. Zu diesem Zweck haben wir eine strategische\\r\\nPartnerschaft mit WeWork Korea geschlossen, um unseren Zugang zum\\r\\nStartup-Ökosystem zu verbessern. Unsere beiden Unternehmen teilen die Vision,\\r\\ndie nächste Generation von koreanischen Beauty Startups zu fördern.\\nDer Prozess der Erstellung dieses Programms selbst war sehr hands-on\\r\\nund im Spirit der Startup-Kultur. Anstatt eine Agentur zu beauftragen, nahmen\\r\\nwir es einfach selbst in die Hand: Es war an uns, das Büro zu verlassen, um zu\\r\\nnetworken, an Veranstaltungen teilnehmen und Treffen mit Startups anzuschieben.\\r\\nEine der interessantesten Erfahrungen war für mich, dass mit jeder neuen\\r\\nPartnerschaft unser Know-how um ein Vielfaches wuchs. So gewannen wir schnell\\r\\nmehrere Erkenntnisse, von denen wir unmittelbar profitieren konnten und die\\r\\nunsere Arbeitsweise verbesserten und uns halfen, die nächsten Branchentrends\\r\\nvorherzusehen. Indem wir Inhouse aktiv wurden, konnten wir unsere eigene\\r\\nStartup-Plattform entwickeln, die, wie ich vermute, jetzt die aktuellste\\r\\nDatenbank für Skin Care-Startups in Korea ist. Aber was noch viel wichtiger\\r\\nist: Wir pflegen enge Beziehungen zu innovativen Unternehmern, Business Angels\\r\\nund anderen Ökosystem-Playern – ohne eine weitere Instanz, die zwischen uns\\r\\nvermittelt. Solche Ansätze und Initiativen werden immer wichtiger, denn ich bin fest davon überzeugt, dass große Unternehmen heute eine neue Denkweise in Puncto Wachstum brauchen. Wie wir aus anderen Branchen gelernt haben, kann es sehr schnell zu Veränderungen oder gar Störungen kommen. Im Moment gibt es kein aufstrebendes \"Beauty Einhorn\", doch irgendwann wird es eine Revolution in unserer Branche geben, und diese wollen wir gezielt vorantreiben. Deshalb sind unsere Bemühungen in Korea voll und ganz mit der Strategie des Teams im Hamburger Headquarter abgestimmt. Das gemeinsame Ziel: innovative Partner finden, die gemeinsam mit uns die Zukunft der Hautpflege gestalten werden. Neben unserem redaktionellen Team schreiben auch viele internationale Kollegen regelmäßig Gast-Beiträge für unseren Corporate Blog. Von Europa bis Asien, von Durban bis Buenos Aires, Dubai oder Sydney berichten sie über spannende Projekte aus unseren über 160 Tochtergesellschaften weltweit und geben Einblicke in die dortige Arbeitswelt von Beiersdorf.'"
      ]
     },
     "execution_count": 17,
     "metadata": {},
     "output_type": "execute_result"
    }
   ],
   "source": [
    "full_text = ' '.join([s.get_text() for s in text_segments])\n",
    "full_text"
   ]
  },
  {
   "cell_type": "markdown",
   "metadata": {},
   "source": [
    "### Extrahieren der Textelemente aller Blogartikel"
   ]
  },
  {
   "cell_type": "code",
   "execution_count": 18,
   "metadata": {},
   "outputs": [
    {
     "name": "stdout",
     "output_type": "stream",
     "text": [
      "https://www.beiersdorf.de//beiersdorf-live/karriere-blog/blog-uebersicht/2019/05/02-wir-muessen-wie-ein-startup-agieren\n",
      "Exracting https://www.beiersdorf.de//beiersdorf-live/karriere-blog/blog-uebersicht/2019/05/02-wir-muessen-wie-ein-startup-agieren\n",
      "https://www.beiersdorf.de//beiersdorf-live/karriere-blog/blog-uebersicht/2016/04/2016-04-06-welcome-to-hamburg\n",
      "Exracting https://www.beiersdorf.de//beiersdorf-live/karriere-blog/blog-uebersicht/2016/04/2016-04-06-welcome-to-hamburg\n",
      "https://www.beiersdorf.de//beiersdorf-live/karriere-blog/blog-uebersicht/2017/05/17-beiersdorf-international-internship-challenge-2017\n",
      "Exracting https://www.beiersdorf.de//beiersdorf-live/karriere-blog/blog-uebersicht/2017/05/17-beiersdorf-international-internship-challenge-2017\n"
     ]
    }
   ],
   "source": [
    "full_texts = []\n",
    "for url in hyper_links[0:3]:\n",
    "    print(url)\n",
    "    page = requests.get(url)\n",
    "    blog = BeautifulSoup(page.content, 'html.parser')\n",
    "    print(f'Exracting {url}')\n",
    "    text_segments = []\n",
    "    for elem in blog.find_all('div', {\"class\" : 'rte'}):\n",
    "        if elem.attrs['class'][0] == 'rte':\n",
    "            text_segments.append(elem)\n",
    "    full_text = ' '.join([s.get_text().replace('\\r\\n', ' ').strip() for s in text_segments])\n",
    "    full_texts.append(full_text)"
   ]
  },
  {
   "cell_type": "markdown",
   "metadata": {},
   "source": [
    "> Falls die vorherige Zelle nicht funktioniert, können Sie die folgende Zelle ausführen (von `Raw` auf `Code` ändern):"
   ]
  },
  {
   "cell_type": "raw",
   "metadata": {},
   "source": [
    "import pickle\n",
    "full_texts = pickle.load(open ('../src/_solutions/full_texts_02.p', 'rb'))"
   ]
  },
  {
   "cell_type": "code",
   "execution_count": 19,
   "metadata": {},
   "outputs": [
    {
     "data": {
      "text/plain": [
       "'Auf der Suche nach einem Auslandspraktikum in 2018? Wir hätten da etwas: Unsere International Internship Challenge (IIC)\\xa0richtet sich weltweit an junge Talente wie Dich. 2017 geht unser jährliches Event in die vierte Runde. Wir laden jeweils 8 Studenten für die Fachbereiche Finance & Controlling, Marketing & Sales sowie Supply Chain Management ein. Erstmals wird auch der Bereich Digital Marketing/E-Commerce an den Start gehen. Bis zum 15. Juli 2017 kannst du dich hier\\xa0für die Teilnahme bewerben und gemeinsam mit 32 IIC-Finalisten die Welt innovativer Hautpflege in unserem Hamburger Headquarter am 18.-19. September 2017 entdecken. Zwei Tage lang lernst Du nicht nur unser Unternehmen und Marken wie NIVEA, Eucerin oder Labello kennen, sondern mit Hamburg auch noch eine der schönsten Städte der Welt. Du erfährst, warum das Zusammenspiel aller Funktionen so wichtig für uns ist, bekommst einen Einblick in unsere Hamburger NIVEA-Dosen-Produktion und wirst verschiedene Herausforderungen wie z.B. eine Case Study meistern. Die vier Gewinner unserer International Internship Challenge 2017 dürfen sich auf ein vollfinanziertes dreimonatiges Auslandspraktika in einer unserer Tochtergesellschaften freuen. Also, mach mit und nutz diese einmalige Chance! Welche Erfahrungen haben die drei Vorjahresgewinner gemacht? Und welche Tipps können sie geben? Ricarda Schäfer (21) aus Deutschland, die aktuell als Praktikantin im Materials Management im spanischen Werk in Argentona im Einsatz ist, sagt: „Was mir an der IIC wirklich gut gefallen hat, war die Möglichkeit Beiersdorf und viele der Menschen, die dort arbeiten, anhand von interessanten Aktivitäten, Gesprächen und Aufgaben kennenzulernen. Außerdem war es toll, 30 junge Menschen zu treffen, die vergleichbare Interessen und Ziele verfolgen.“ \\n Das bestätigt auch Anvar Babaev (22) aus Russland, Gewinner des Bereiches Marketing & Sales, der Ende Mai sein Praktikum im internationalen Marketing in Hamburg beginnen wird: „Ich bin noch immer ganz baff darüber, wie offen und bereit alle Mitarbeiter waren, ihre Erfahrungen und wertvolle Ratschläge mit uns zu teilen.“ Mert Ünal (23) aus der Türkei, der Gewinner Finance & Controlling, der gegenwärtig in Hamburg hinter die Kulissen des Controllings unserer Forschung & Entwicklung blickt, rät: „Versucht, die Zeit während dieses Wettbewerbs zu genießen und lernt so möglichst viele Menschen kennen. Eine positive Einstellung hilft Euch, einen guten Eindruck zu hinterlassen.“'"
      ]
     },
     "execution_count": 19,
     "metadata": {},
     "output_type": "execute_result"
    }
   ],
   "source": [
    "full_texts[2]"
   ]
  },
  {
   "cell_type": "markdown",
   "metadata": {},
   "source": [
    "### Refactoring"
   ]
  },
  {
   "cell_type": "code",
   "execution_count": 20,
   "metadata": {},
   "outputs": [
    {
     "name": "stdout",
     "output_type": "stream",
     "text": [
      "Overwriting ../src/get_text.py\n"
     ]
    }
   ],
   "source": [
    "%%writefile ../src/get_text.py\n",
    "\n",
    "from bs4 import BeautifulSoup\n",
    "import requests\n",
    "\n",
    "def get_text(urls):\n",
    "    if not isinstance(urls, list):\n",
    "        urls= [urls]\n",
    "    full_texts = []\n",
    "    for url in urls:\n",
    "        page = requests.get(url)\n",
    "        blog = BeautifulSoup(page.content, 'html.parser')\n",
    "        print(f'Extracting {url}')\n",
    "        text_segments = []\n",
    "        for elem in blog.find_all('div', {\"class\" : 'rte'}):\n",
    "            if elem.attrs['class'][0] == 'rte':\n",
    "                text_segments.append(elem)\n",
    "        full_text = ' '.join([s.get_text().replace('\\r\\n', ' ').strip() for s in text_segments])\n",
    "        full_texts.append(full_text)\n",
    "    print('\\nDowload complete!')\n",
    "    return full_texts"
   ]
  },
  {
   "cell_type": "markdown",
   "metadata": {},
   "source": [
    "***"
   ]
  }
 ],
 "metadata": {
  "kernelspec": {
   "display_name": "Python 3",
   "language": "python",
   "name": "python3"
  },
  "language_info": {
   "codemirror_mode": {
    "name": "ipython",
    "version": 3
   },
   "file_extension": ".py",
   "mimetype": "text/x-python",
   "name": "python",
   "nbconvert_exporter": "python",
   "pygments_lexer": "ipython3",
   "version": "3.6.7"
  }
 },
 "nbformat": 4,
 "nbformat_minor": 2
}
