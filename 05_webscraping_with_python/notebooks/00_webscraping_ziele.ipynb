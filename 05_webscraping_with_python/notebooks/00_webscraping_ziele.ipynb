{
 "cells": [
  {
   "cell_type": "markdown",
   "metadata": {},
   "source": [
    "# Web Scraping of Beiersdorf Blogs"
   ]
  },
  {
   "cell_type": "markdown",
   "metadata": {},
   "source": [
    "Der Begriff __Web Scraping__ umfasst Verfahren zur Gewinnung von Informationen durch gezieltes Extrahieren der benötigten Daten von Internetquellen ([Wikipedia](https://de.wikipedia.org/wiki/Screen_Scraping))."
   ]
  },
  {
   "cell_type": "markdown",
   "metadata": {},
   "source": [
    "> ## Ziel: Das Extrahieren von Textdaten vom [_Beiersdorf Blog_](https://www.beiersdorf.de/beiersdorf-live/karriere-blog/blog-uebersicht) und deren Visualisierung in Form einer [Schlagwortwolke](https://de.wikipedia.org/wiki/Schlagwortwolke)"
   ]
  },
  {
   "cell_type": "markdown",
   "metadata": {},
   "source": [
    "> __Aufgabe:__ \n",
    "* Besuchen Sie die Webseite des [Beiersdorf Blogs](https://www.beiersdorf.de/beiersdorf-live/karriere-blog/blog-uebersicht) und machen Sie sich mit der Struktur vertraut.\n",
    "* Nutzen Sie Web- oder Developer Toolkits und versuchen Sie zu ergründen, wie wir auf die Blogtexte zugreifen können.  \n",
    "\n",
    "`chrome` : `Einstellungen` $\\to$ `Weitere Tools` $\\to$ `Entwickertools`    \n",
    "`firefox` : `Einstellungen` $\\to$ `Weitere Tools` $\\to$ `Entwickertools`    \n",
    "`internet explorer` : `Einstellungen` $\\to$ `Weitere Tools` $\\to$ `Entwickertools`    \n",
    "\n"
   ]
  },
  {
   "cell_type": "markdown",
   "metadata": {},
   "source": [
    "## Vorgehensweise\n",
    "__1. Extrahieren aller Links zu den Blogeinträgen__  \n",
    "__2. Extrahieren der Texte der Blogeinträge__  \n",
    "__3. Visualisierung__\n"
   ]
  },
  {
   "cell_type": "markdown",
   "metadata": {},
   "source": [
    "***"
   ]
  }
 ],
 "metadata": {
  "kernelspec": {
   "display_name": "Python 3",
   "language": "python",
   "name": "python3"
  },
  "language_info": {
   "codemirror_mode": {
    "name": "ipython",
    "version": 3
   },
   "file_extension": ".py",
   "mimetype": "text/x-python",
   "name": "python",
   "nbconvert_exporter": "python",
   "pygments_lexer": "ipython3",
   "version": "3.6.7"
  }
 },
 "nbformat": 4,
 "nbformat_minor": 2
}
