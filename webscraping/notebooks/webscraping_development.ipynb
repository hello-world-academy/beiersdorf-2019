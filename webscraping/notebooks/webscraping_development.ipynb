{
 "cells": [
  {
   "cell_type": "code",
   "execution_count": 1,
   "metadata": {},
   "outputs": [],
   "source": [
    "%load_ext autoreload\n",
    "%autoreload 2"
   ]
  },
  {
   "cell_type": "markdown",
   "metadata": {},
   "source": [
    "# Web Scraping of Beiersdorf Blogs"
   ]
  },
  {
   "cell_type": "markdown",
   "metadata": {},
   "source": [
    "Der Begriff __Web Scraping__ umfasst Verfahren zur Gewinnung von Informationen durch gezieltes Extrahieren der benötigten Daten von Internetquellen ([Wikipedia](https://de.wikipedia.org/wiki/Screen_Scraping))."
   ]
  },
  {
   "cell_type": "markdown",
   "metadata": {},
   "source": [
    "> ## Ziel: Das Extrahieren von Textdaten vom [_Beiersdorf Blog_](https://www.beiersdorf.de/beiersdorf-live/karriere-blog/blog-uebersicht) und deren Visualisierung in Form einer [Schlagwortwolke](https://de.wikipedia.org/wiki/Schlagwortwolke)"
   ]
  },
  {
   "cell_type": "markdown",
   "metadata": {},
   "source": [
    "> __Aufgabe:__ \n",
    "* Besuchen Sie die Webseite des [Beiersdorf Blogs]() und machen Sie sich mit deren Struktur vertraut.\n",
    "* Nutzen Sie Web- oder Developer Toolkits und versuchen Sie zu ergründen, wie wir auf die Blogtexte zugreifen können.  "
   ]
  },
  {
   "cell_type": "markdown",
   "metadata": {},
   "source": [
    "## Web Scraping mit [Python](https://www.python.org/) mit [`BeautifulSoup`](https://www.crummy.com/software/BeautifulSoup/bs4/doc/) und [`requests`](https://2.python-requests.org/en/master/)"
   ]
  },
  {
   "cell_type": "markdown",
   "metadata": {},
   "source": [
    "__Importieren von Python Bibliotheken__"
   ]
  },
  {
   "cell_type": "code",
   "execution_count": 2,
   "metadata": {},
   "outputs": [],
   "source": [
    "from bs4 import BeautifulSoup\n",
    "import requests"
   ]
  },
  {
   "cell_type": "markdown",
   "metadata": {},
   "source": [
    "### Festlegen der URL"
   ]
  },
  {
   "cell_type": "code",
   "execution_count": 3,
   "metadata": {},
   "outputs": [
    {
     "data": {
      "text/plain": [
       "'https://www.beiersdorf.de/beiersdorf-live/karriere-blog/blog-uebersicht'"
      ]
     },
     "execution_count": 3,
     "metadata": {},
     "output_type": "execute_result"
    }
   ],
   "source": [
    "base_url = \"https://www.beiersdorf.de/\"\n",
    "blog_url = \"beiersdorf-live/karriere-blog/blog-uebersicht\"\n",
    "#url = 'https://www.beiersdorf.de/beiersdorf-live/karriere-blog/blog-uebersicht/2019/02/13-nivea-hebt-das-crowdsourcing-auf-ein-neues-level'\n",
    "base_url +  blog_url"
   ]
  },
  {
   "cell_type": "markdown",
   "metadata": {},
   "source": [
    "### Laden der Webseiteninhalte"
   ]
  },
  {
   "cell_type": "code",
   "execution_count": 4,
   "metadata": {},
   "outputs": [],
   "source": [
    "page = requests.get(base_url +  blog_url)\n",
    "soup = BeautifulSoup(page.content, 'html.parser')"
   ]
  },
  {
   "cell_type": "code",
   "execution_count": 5,
   "metadata": {},
   "outputs": [],
   "source": [
    "#soup"
   ]
  },
  {
   "cell_type": "markdown",
   "metadata": {},
   "source": [
    "### Finden des entsprechenden Links"
   ]
  },
  {
   "cell_type": "code",
   "execution_count": 6,
   "metadata": {},
   "outputs": [
    {
     "data": {
      "text/plain": [
       "<article class=\"navigation teaser blog-post\" data-module=\"BlogModule\" data-status-handler-url=\"/HttpHandler/Beiersdorf/LikeHandler.ashx?id=0da165f9-d020-43e7-b710-85cc43d0aacc&amp;method=getStatus\" id=\"blog-post-0da165f9d02043e7b71085cc43d0aacc\">\n",
       "<a href=\"/beiersdorf-live/karriere-blog/blog-uebersicht/2019/05/22-101-tage-kwesi\">\n",
       "<div class=\"media\">\n",
       "<img src=\"/~/media/Beiersdorf/career/beiersdorf-live/2019-05-22-101-days-of-kwesi/Beiersdorf-kwesi-ofosu-teaser.jpg?bc=white&amp;w=380&amp;h=220\"/>\n",
       "<div class=\"icon-like like-btn icon-like-liked\">\n",
       "<span class=\"badge\">0</span>\n",
       "</div>\n",
       "</div>\n",
       "<div class=\"description\">\n",
       "<h3>101 Tage Kwesi</h3>\n",
       "<div class=\"paragraph\">\n",
       "<p>Kwesi Ofosu über seine ersten 101 Tage als Marketing Director Pharmacy Business Unit Deutschland.</p>\n",
       "</div>\n",
       "<div class=\"button-wrapper\">\n",
       "<span class=\"teaser-button\">Mehr erfahren <span class=\"icon\"></span></span>\n",
       "</div>\n",
       "</div>\n",
       "</a>\n",
       "</article>"
      ]
     },
     "execution_count": 6,
     "metadata": {},
     "output_type": "execute_result"
    }
   ],
   "source": [
    "article = soup.find('article')\n",
    "article"
   ]
  },
  {
   "cell_type": "code",
   "execution_count": 7,
   "metadata": {},
   "outputs": [
    {
     "data": {
      "text/plain": [
       "<a href=\"/beiersdorf-live/karriere-blog/blog-uebersicht/2019/05/22-101-tage-kwesi\">\n",
       "<div class=\"media\">\n",
       "<img src=\"/~/media/Beiersdorf/career/beiersdorf-live/2019-05-22-101-days-of-kwesi/Beiersdorf-kwesi-ofosu-teaser.jpg?bc=white&amp;w=380&amp;h=220\"/>\n",
       "<div class=\"icon-like like-btn icon-like-liked\">\n",
       "<span class=\"badge\">0</span>\n",
       "</div>\n",
       "</div>\n",
       "<div class=\"description\">\n",
       "<h3>101 Tage Kwesi</h3>\n",
       "<div class=\"paragraph\">\n",
       "<p>Kwesi Ofosu über seine ersten 101 Tage als Marketing Director Pharmacy Business Unit Deutschland.</p>\n",
       "</div>\n",
       "<div class=\"button-wrapper\">\n",
       "<span class=\"teaser-button\">Mehr erfahren <span class=\"icon\"></span></span>\n",
       "</div>\n",
       "</div>\n",
       "</a>"
      ]
     },
     "execution_count": 7,
     "metadata": {},
     "output_type": "execute_result"
    }
   ],
   "source": [
    "article.find('a')"
   ]
  },
  {
   "cell_type": "code",
   "execution_count": 8,
   "metadata": {},
   "outputs": [
    {
     "data": {
      "text/plain": [
       "'https://www.beiersdorf.de//beiersdorf-live/karriere-blog/blog-uebersicht/2019/05/22-101-tage-kwesi'"
      ]
     },
     "execution_count": 8,
     "metadata": {},
     "output_type": "execute_result"
    }
   ],
   "source": [
    "hyper_link = article.find('a').get('href')\n",
    "base_url + hyper_link"
   ]
  },
  {
   "cell_type": "markdown",
   "metadata": {},
   "source": [
    "### Finden aller relevaten Links"
   ]
  },
  {
   "cell_type": "code",
   "execution_count": 9,
   "metadata": {},
   "outputs": [
    {
     "data": {
      "text/plain": [
       "16"
      ]
     },
     "execution_count": 9,
     "metadata": {},
     "output_type": "execute_result"
    }
   ],
   "source": [
    "articles = soup.find_all('article')\n",
    "len(articles)"
   ]
  },
  {
   "cell_type": "code",
   "execution_count": 10,
   "metadata": {},
   "outputs": [],
   "source": [
    "hyper_links = []\n",
    "for article in articles:\n",
    "    hyper_link = article.find('a').get('href')\n",
    "    hyper_links.append(base_url + hyper_link)"
   ]
  },
  {
   "cell_type": "code",
   "execution_count": 11,
   "metadata": {},
   "outputs": [
    {
     "data": {
      "text/plain": [
       "['https://www.beiersdorf.de//beiersdorf-live/karriere-blog/blog-uebersicht/2019/05/22-101-tage-kwesi',\n",
       " 'https://www.beiersdorf.de//beiersdorf-live/karriere-blog/blog-uebersicht/2019/05/17-eine-aktive-rolle-im-recruiting-einnehmen',\n",
       " 'https://www.beiersdorf.de//beiersdorf-live/karriere-blog/blog-uebersicht/2019/05/08-austausch-trifft-erfindergeist',\n",
       " 'https://www.beiersdorf.de//beiersdorf-live/karriere-blog/blog-uebersicht/2019/05/22-101-tage-kwesi',\n",
       " 'https://www.beiersdorf.de//beiersdorf-live/karriere-blog/blog-uebersicht/2019/05/17-eine-aktive-rolle-im-recruiting-einnehmen',\n",
       " 'https://www.beiersdorf.de//beiersdorf-live/karriere-blog/blog-uebersicht/2019/05/08-austausch-trifft-erfindergeist',\n",
       " 'https://www.beiersdorf.de//beiersdorf-live/karriere-blog/blog-uebersicht/2019/05/02-wir-muessen-wie-ein-startup-agieren',\n",
       " 'https://www.beiersdorf.de//beiersdorf-live/karriere-blog/blog-uebersicht/2019/04/04-augmented-reality-das-naechste-format-des-storytellings',\n",
       " 'https://www.beiersdorf.de//beiersdorf-live/karriere-blog/blog-uebersicht/2019/03/06-die-digitalisierung-fuer-kindergaerten-wertvoll-gestalten',\n",
       " 'https://www.beiersdorf.de//beiersdorf-live/karriere-blog/blog-uebersicht/2019/02/13-nivea-hebt-das-crowdsourcing-auf-ein-neues-level',\n",
       " 'https://www.beiersdorf.de//beiersdorf-live/karriere-blog/blog-uebersicht/2018/11/14-wir-erarbeiten-taeglich-einen-wettbewerbsvorteil',\n",
       " 'https://www.beiersdorf.de//beiersdorf-live/karriere-blog/blog-uebersicht/2018/10/22-faszinierend-spannend-divers-ein-halbes-jahr-in-suedafrika',\n",
       " 'https://www.beiersdorf.de//beiersdorf-live/karriere-blog/blog-uebersicht/2018/10/12-interview-mit-marielen-winter',\n",
       " 'https://www.beiersdorf.de//beiersdorf-live/karriere-blog/blog-uebersicht/2018/08/31-new-york-new-york-und-film-ab',\n",
       " 'https://www.beiersdorf.de//beiersdorf-live/karriere-blog/blog-uebersicht/2018/08/30-beiersdorf-gruendet-tochtergesellschaft-in-kairo',\n",
       " 'https://www.beiersdorf.de//beiersdorf-live/karriere-blog/blog-uebersicht/2019/02/13-nivea-hebt-das-crowdsourcing-auf-ein-neues-level']"
      ]
     },
     "execution_count": 11,
     "metadata": {},
     "output_type": "execute_result"
    }
   ],
   "source": [
    "hyper_links"
   ]
  },
  {
   "cell_type": "markdown",
   "metadata": {},
   "source": [
    "> __Problem:__ \n",
    "* Was ist das Problem mit der Liste `hyper_links`?"
   ]
  },
  {
   "cell_type": "code",
   "execution_count": 12,
   "metadata": {},
   "outputs": [
    {
     "data": {
      "text/plain": [
       "{'https://www.beiersdorf.de//beiersdorf-live/karriere-blog/blog-uebersicht/2018/08/30-beiersdorf-gruendet-tochtergesellschaft-in-kairo',\n",
       " 'https://www.beiersdorf.de//beiersdorf-live/karriere-blog/blog-uebersicht/2018/08/31-new-york-new-york-und-film-ab',\n",
       " 'https://www.beiersdorf.de//beiersdorf-live/karriere-blog/blog-uebersicht/2018/10/12-interview-mit-marielen-winter',\n",
       " 'https://www.beiersdorf.de//beiersdorf-live/karriere-blog/blog-uebersicht/2018/10/22-faszinierend-spannend-divers-ein-halbes-jahr-in-suedafrika',\n",
       " 'https://www.beiersdorf.de//beiersdorf-live/karriere-blog/blog-uebersicht/2018/11/14-wir-erarbeiten-taeglich-einen-wettbewerbsvorteil',\n",
       " 'https://www.beiersdorf.de//beiersdorf-live/karriere-blog/blog-uebersicht/2019/02/13-nivea-hebt-das-crowdsourcing-auf-ein-neues-level',\n",
       " 'https://www.beiersdorf.de//beiersdorf-live/karriere-blog/blog-uebersicht/2019/03/06-die-digitalisierung-fuer-kindergaerten-wertvoll-gestalten',\n",
       " 'https://www.beiersdorf.de//beiersdorf-live/karriere-blog/blog-uebersicht/2019/04/04-augmented-reality-das-naechste-format-des-storytellings',\n",
       " 'https://www.beiersdorf.de//beiersdorf-live/karriere-blog/blog-uebersicht/2019/05/02-wir-muessen-wie-ein-startup-agieren',\n",
       " 'https://www.beiersdorf.de//beiersdorf-live/karriere-blog/blog-uebersicht/2019/05/08-austausch-trifft-erfindergeist',\n",
       " 'https://www.beiersdorf.de//beiersdorf-live/karriere-blog/blog-uebersicht/2019/05/17-eine-aktive-rolle-im-recruiting-einnehmen',\n",
       " 'https://www.beiersdorf.de//beiersdorf-live/karriere-blog/blog-uebersicht/2019/05/22-101-tage-kwesi'}"
      ]
     },
     "execution_count": 12,
     "metadata": {},
     "output_type": "execute_result"
    }
   ],
   "source": [
    "set(hyper_links)"
   ]
  },
  {
   "cell_type": "code",
   "execution_count": 13,
   "metadata": {},
   "outputs": [
    {
     "name": "stdout",
     "output_type": "stream",
     "text": [
      "12\n"
     ]
    }
   ],
   "source": [
    "print(len(set(hyper_links)))"
   ]
  },
  {
   "cell_type": "markdown",
   "metadata": {},
   "source": [
    "> __Problem:__ \n",
    "* Nur so wenige Blogs! Was haben wir übersehen?"
   ]
  },
  {
   "cell_type": "code",
   "execution_count": 14,
   "metadata": {},
   "outputs": [
    {
     "data": {
      "text/plain": [
       "array([ 0, 12, 24, 36, 48, 60, 72])"
      ]
     },
     "execution_count": 14,
     "metadata": {},
     "output_type": "execute_result"
    }
   ],
   "source": [
    "import numpy as np \n",
    "loadCounts = np.arange(0, 76, 12)\n",
    "loadCounts"
   ]
  },
  {
   "cell_type": "code",
   "execution_count": 15,
   "metadata": {},
   "outputs": [
    {
     "data": {
      "text/plain": [
       "['beiersdorf-live/karriere-blog/blog-uebersicht?loadCount=0',\n",
       " 'beiersdorf-live/karriere-blog/blog-uebersicht?loadCount=12',\n",
       " 'beiersdorf-live/karriere-blog/blog-uebersicht?loadCount=24',\n",
       " 'beiersdorf-live/karriere-blog/blog-uebersicht?loadCount=36',\n",
       " 'beiersdorf-live/karriere-blog/blog-uebersicht?loadCount=48',\n",
       " 'beiersdorf-live/karriere-blog/blog-uebersicht?loadCount=60',\n",
       " 'beiersdorf-live/karriere-blog/blog-uebersicht?loadCount=72']"
      ]
     },
     "execution_count": 15,
     "metadata": {},
     "output_type": "execute_result"
    }
   ],
   "source": [
    "blog_urls = [blog_url+f'?loadCount={i}' for i in loadCounts]\n",
    "blog_urls"
   ]
  },
  {
   "cell_type": "code",
   "execution_count": 16,
   "metadata": {},
   "outputs": [],
   "source": [
    "hyper_links = []\n",
    "for url in blog_urls:\n",
    "    page = requests.get(base_url + url)\n",
    "    soup = BeautifulSoup(page.content, 'html.parser')\n",
    "    articles = soup.find_all('article')\n",
    "    for article in articles:\n",
    "        hyper_link = article.find('a').get('href')\n",
    "        hyper_links.append(base_url + hyper_link)\n",
    "hyper_links = list(set(hyper_links))"
   ]
  },
  {
   "cell_type": "code",
   "execution_count": 17,
   "metadata": {},
   "outputs": [
    {
     "data": {
      "text/plain": [
       "71"
      ]
     },
     "execution_count": 17,
     "metadata": {},
     "output_type": "execute_result"
    }
   ],
   "source": [
    "len(hyper_links)"
   ]
  },
  {
   "cell_type": "markdown",
   "metadata": {},
   "source": [
    "### Extrahieren der Textelemente eines Blog Artikels"
   ]
  },
  {
   "cell_type": "code",
   "execution_count": 18,
   "metadata": {},
   "outputs": [
    {
     "name": "stdout",
     "output_type": "stream",
     "text": [
      "https://www.beiersdorf.de//beiersdorf-live/karriere-blog/blog-uebersicht/2018/03/13-sag-mir-wo-du-wohnst-und-ich-entwickele-dir-was-du-brauchst\n"
     ]
    }
   ],
   "source": [
    "print(hyper_links[0])\n",
    "page = requests.get(hyper_links[0])\n",
    "blog = BeautifulSoup(page.content, 'html.parser')"
   ]
  },
  {
   "cell_type": "code",
   "execution_count": 19,
   "metadata": {},
   "outputs": [],
   "source": [
    "#blog"
   ]
  },
  {
   "cell_type": "code",
   "execution_count": 20,
   "metadata": {},
   "outputs": [
    {
     "data": {
      "text/plain": [
       "[<div class=\"text-module-content rte all-col\"><div><figure class=\"right-image horizontal-image\"><div class=\"image-wrapper\"><img alt=\"\" height=\"529\" src=\"/~/media/Beiersdorf/career/beiersdorf-live/2018-03-13-tell-me-where-you-live-and-i-ll-develop-what-you-need/dr-nills-hoffmann.JPG?la=de-DE&amp;mw=940&amp;highRes=1\" width=\"940\"/></div><figcaption>Dr. Nils Hoffmann (l.) bei einer Unterstützungsaktion von Beiersdorf für die NGO „Smile Foundation“.</figcaption></figure><div class=\"rte\"><p>Haut ist nicht gleich Haut, das ist vielen wohl bekannt.\n",
       " Doch es steckt mehr dahinter als man auf den ersten Blick vermutet: Was unsere\n",
       " Haut an Pflege braucht und welche Kosmetikbedürfnisse wir haben, ist stark von\n",
       " unserer Genetik, Umwelt und Kultur abhängig. Welche Produkte benutzen\n",
       " Konsumenten beispielsweise in Afrika oder Asien? Worin unterscheiden sich diese\n",
       " Bedürfnisse von denen, die Europäer haben? Mit diesen und ähnlichen\n",
       " Fragestellungen beschäftigen sich Geokosmetik-Forscher.</p>\n",
       " <p>Einer von ihnen ist Dr. Nils Hoffmann, R&amp;D Director Near\n",
       " East bei Beiersdorf. Seit drei Jahren lebt und arbeitet der gebürtige Hamburger\n",
       " in der indischen Tochtergesellschaft, 600km nördlich von Mumbai. Zu seinen\n",
       " Hauptaufgaben gehört die Erforschung der Konsumentenwünsche an Hautpflegeprodukte\n",
       " in Indien, Afrika, im Mittleren Osten, der Türkei und Russland um dann\n",
       " entsprechende Produkte auf den Markt zu bringen. </p></div></div></div>,\n",
       " <div class=\"rte\"><p>Haut ist nicht gleich Haut, das ist vielen wohl bekannt.\n",
       " Doch es steckt mehr dahinter als man auf den ersten Blick vermutet: Was unsere\n",
       " Haut an Pflege braucht und welche Kosmetikbedürfnisse wir haben, ist stark von\n",
       " unserer Genetik, Umwelt und Kultur abhängig. Welche Produkte benutzen\n",
       " Konsumenten beispielsweise in Afrika oder Asien? Worin unterscheiden sich diese\n",
       " Bedürfnisse von denen, die Europäer haben? Mit diesen und ähnlichen\n",
       " Fragestellungen beschäftigen sich Geokosmetik-Forscher.</p>\n",
       " <p>Einer von ihnen ist Dr. Nils Hoffmann, R&amp;D Director Near\n",
       " East bei Beiersdorf. Seit drei Jahren lebt und arbeitet der gebürtige Hamburger\n",
       " in der indischen Tochtergesellschaft, 600km nördlich von Mumbai. Zu seinen\n",
       " Hauptaufgaben gehört die Erforschung der Konsumentenwünsche an Hautpflegeprodukte\n",
       " in Indien, Afrika, im Mittleren Osten, der Türkei und Russland um dann\n",
       " entsprechende Produkte auf den Markt zu bringen. </p></div>,\n",
       " <div class=\"text-module-content rte all-col\"><div><h2 class=\"title\">Doch, was genau ist Geokosmetik?</h2><div class=\"rte\"><p>„Weit gefasst beschreibt Geokosmetik Produkte, die weltweit\n",
       " verschiedene Konsumenten ansprechen“, erklärt Hoffmann. So lieben Inder\n",
       " beispielsweise Haaröle und Araber intensive Düfte. Dunkle Haut neigt schnell\n",
       " zur Trockenheit, weshalb in Afrika zur Pflege gerne Lotionen verwendet werden,\n",
       " die sehr reichhaltig sind. Im asiatischen Raum hingegen, bedingt durch die\n",
       " feuchte und schwüle Luft, möchten die Menschen eine Lotion, die schnell\n",
       " einzieht. Daher ist von Vorteil, wenn Geokosmetik-Forscher auch vor Ort leben.\n",
       " So können sie, ähnlich der Arbeit eines Journalisten, hautnah erforschen,\n",
       " welche Bedürfnisse wer auf der Welt hat – und hierfür spezielle Produkte\n",
       " entwickeln. </p></div></div></div>,\n",
       " <div class=\"rte\"><p>„Weit gefasst beschreibt Geokosmetik Produkte, die weltweit\n",
       " verschiedene Konsumenten ansprechen“, erklärt Hoffmann. So lieben Inder\n",
       " beispielsweise Haaröle und Araber intensive Düfte. Dunkle Haut neigt schnell\n",
       " zur Trockenheit, weshalb in Afrika zur Pflege gerne Lotionen verwendet werden,\n",
       " die sehr reichhaltig sind. Im asiatischen Raum hingegen, bedingt durch die\n",
       " feuchte und schwüle Luft, möchten die Menschen eine Lotion, die schnell\n",
       " einzieht. Daher ist von Vorteil, wenn Geokosmetik-Forscher auch vor Ort leben.\n",
       " So können sie, ähnlich der Arbeit eines Journalisten, hautnah erforschen,\n",
       " welche Bedürfnisse wer auf der Welt hat – und hierfür spezielle Produkte\n",
       " entwickeln. </p></div>,\n",
       " <div class=\"text-module-content rte all-col\"><div><figure class=\"left-image horizontal-image\"><div class=\"image-wrapper\"><img alt=\"\" height=\"529\" src=\"/~/media/Beiersdorf/career/beiersdorf-live/2018-03-13-tell-me-where-you-live-and-i-ll-develop-what-you-need/Geokosmetik-Beiersdorf-India.JPG?la=de-DE&amp;mw=940&amp;highRes=1\" width=\"940\"/></div><figcaption>Die Beiersdorf-Tochtergesellschaft NIVEA India PVT. LTD. in Ahmedabad.</figcaption></figure><div class=\"rte\"><br>\n",
       " <p>„Ein Badezimmer in Indien sieht beispielsweise sehr viel anders aus als in Deutschland. Häufig duscht man mit einem Eimer und einer Schippe, um Wasser zu sparen. Dass man in Indien also ein anderes Duschprodukt haben möchte als in Deutschland, wo man gerne einfach nochmal fünf Minuten länger unter der Dusche steht, ist klar. Und sowas wird noch viel klarer, wenn man es vor Ort mitbekommt“, so der Beiersdorf-Forscher.</p></br></div></div></div>,\n",
       " <div class=\"rte\"><br>\n",
       " <p>„Ein Badezimmer in Indien sieht beispielsweise sehr viel anders aus als in Deutschland. Häufig duscht man mit einem Eimer und einer Schippe, um Wasser zu sparen. Dass man in Indien also ein anderes Duschprodukt haben möchte als in Deutschland, wo man gerne einfach nochmal fünf Minuten länger unter der Dusche steht, ist klar. Und sowas wird noch viel klarer, wenn man es vor Ort mitbekommt“, so der Beiersdorf-Forscher.</p></br></div>,\n",
       " <div class=\"text-module-content rte all-col\"><div><figure class=\"right-image horizontal-image\"><div class=\"image-wrapper\"><img alt=\"\" height=\"529\" src=\"/~/media/Beiersdorf/career/beiersdorf-live/2018-03-13-tell-me-where-you-live-and-i-ll-develop-what-you-need/Geokosmetik-NIVEA-Deo-India.JPG?la=de-DE&amp;mw=940&amp;highRes=1\" width=\"940\"/></div><figcaption>Das vom Beiersdorf-Labor Near East für Indien entwickelte Deodorant „NIVEA Body Deodorizer“.</figcaption></figure><h2 class=\"title\">Andere Länder, andere Märkte</h2><div class=\"rte\"><p>Zu seinem persönlich größten Erfolg in den letzten drei\n",
       " Jahren zählt für Hoffmann ein Deodorant, das von ihm und seinem Team speziell\n",
       " für den indischen Markt entwickelt wurde und das besondere Eigenschaften hat:\n",
       " Erhältlich nicht als Aerosol, sondern als Pumpzerstäuber, zeichnet es sich\n",
       " durch einen intensiven Duft aus, der beispielsweise in Deutschland keinen\n",
       " Absatz finden würde. Hintergrund: In Indien werden Deos eher als Parfüm auf die\n",
       " Kleidung gesprüht als auf die Haut. „Also mussten wir das Produkt komplett\n",
       " anders entwickeln als ein Deo, das wir in Europa haben. Zusätzlich zu einem\n",
       " viel stärkeren Dufteindruck und einer regional typischen Duftnote muss dieses\n",
       " Deo verträglich mit der Kleidung sein und darf darauf keine Flecken\n",
       " hinterlassen“, verrät Hoffmann. In Indien kann er „sein“ Deo nun in den\n",
       " Kaufregalen bewundern „Das macht schon stolz“, freut sich der Forscher.  </p>\n",
       " <p>Nach seinem Einsatz in Indien, das weiß Nils Hoffmann bereits jetzt, werden seine Familie und er eine veränderte Verhaltensweise mit nach Deutschland nehmen: „Wenn man aus einem Land zurückkommt, in dem Trinkwasser knapp ist, verändert sich der eigene Umgang mit Wasser. Man ist nicht mehr so verschwenderisch damit.“</p></div></div></div>,\n",
       " <div class=\"rte\"><p>Zu seinem persönlich größten Erfolg in den letzten drei\n",
       " Jahren zählt für Hoffmann ein Deodorant, das von ihm und seinem Team speziell\n",
       " für den indischen Markt entwickelt wurde und das besondere Eigenschaften hat:\n",
       " Erhältlich nicht als Aerosol, sondern als Pumpzerstäuber, zeichnet es sich\n",
       " durch einen intensiven Duft aus, der beispielsweise in Deutschland keinen\n",
       " Absatz finden würde. Hintergrund: In Indien werden Deos eher als Parfüm auf die\n",
       " Kleidung gesprüht als auf die Haut. „Also mussten wir das Produkt komplett\n",
       " anders entwickeln als ein Deo, das wir in Europa haben. Zusätzlich zu einem\n",
       " viel stärkeren Dufteindruck und einer regional typischen Duftnote muss dieses\n",
       " Deo verträglich mit der Kleidung sein und darf darauf keine Flecken\n",
       " hinterlassen“, verrät Hoffmann. In Indien kann er „sein“ Deo nun in den\n",
       " Kaufregalen bewundern „Das macht schon stolz“, freut sich der Forscher.  </p>\n",
       " <p>Nach seinem Einsatz in Indien, das weiß Nils Hoffmann bereits jetzt, werden seine Familie und er eine veränderte Verhaltensweise mit nach Deutschland nehmen: „Wenn man aus einem Land zurückkommt, in dem Trinkwasser knapp ist, verändert sich der eigene Umgang mit Wasser. Man ist nicht mehr so verschwenderisch damit.“</p></div>,\n",
       " <div class=\"text-module-content rte all-col\"><div><div class=\"rte\"><p><br>\n",
       " </br></p></div></div></div>,\n",
       " <div class=\"rte\"><p><br>\n",
       " </br></p></div>,\n",
       " <div class=\"text-module-content rte all-col\"><div><figure class=\"left-image horizontal-image\"><div class=\"image-wrapper\"><img alt=\"\" height=\"529\" src=\"/~/media/Beiersdorf/career/beiersdorf-live/authors/Beiersdorf-Diana-Luehmann.jpg?la=de-DE&amp;mw=940&amp;highRes=1\" width=\"940\"/></div></figure><h2 class=\"title\">Über die Autorin: Diana Lühmann</h2><div class=\"rte\"><p>Diana ist seit 2014 verantwortlich für die R&amp;D Communications\n",
       " bei Beiersdorf. Zuvor leitete sie die Redaktion des Beiersdorf Intranets und verantwortete\n",
       " Themen der HR-, Marken-, Digital- und Strategiekommunikation. Für unseren\n",
       " Blog taucht Diana in die spannende Welt der Forschung und Entwicklung ein und\n",
       " ermöglicht so einen Blick hinter die Kulissen unserer Hautforschung. </p></div></div></div>,\n",
       " <div class=\"rte\"><p>Diana ist seit 2014 verantwortlich für die R&amp;D Communications\n",
       " bei Beiersdorf. Zuvor leitete sie die Redaktion des Beiersdorf Intranets und verantwortete\n",
       " Themen der HR-, Marken-, Digital- und Strategiekommunikation. Für unseren\n",
       " Blog taucht Diana in die spannende Welt der Forschung und Entwicklung ein und\n",
       " ermöglicht so einen Blick hinter die Kulissen unserer Hautforschung. </p></div>]"
      ]
     },
     "execution_count": 20,
     "metadata": {},
     "output_type": "execute_result"
    }
   ],
   "source": [
    "text_segments = blog.find_all('div', {\"class\" : 'rte'})\n",
    "text_segments"
   ]
  },
  {
   "cell_type": "markdown",
   "metadata": {},
   "source": [
    "> __Problem:__ \n",
    "* Was ist das Problem mit der Liste `text_segments`?"
   ]
  },
  {
   "cell_type": "code",
   "execution_count": 21,
   "metadata": {},
   "outputs": [],
   "source": [
    "text_segments = []\n",
    "for elem in blog.find_all('div', {\"class\" : 'rte'}):\n",
    "    if elem.attrs['class'][0] == 'rte':\n",
    "        text_segments.append(elem)"
   ]
  },
  {
   "cell_type": "code",
   "execution_count": 22,
   "metadata": {},
   "outputs": [
    {
     "data": {
      "text/plain": [
       "[<div class=\"rte\"><p>Haut ist nicht gleich Haut, das ist vielen wohl bekannt.\n",
       " Doch es steckt mehr dahinter als man auf den ersten Blick vermutet: Was unsere\n",
       " Haut an Pflege braucht und welche Kosmetikbedürfnisse wir haben, ist stark von\n",
       " unserer Genetik, Umwelt und Kultur abhängig. Welche Produkte benutzen\n",
       " Konsumenten beispielsweise in Afrika oder Asien? Worin unterscheiden sich diese\n",
       " Bedürfnisse von denen, die Europäer haben? Mit diesen und ähnlichen\n",
       " Fragestellungen beschäftigen sich Geokosmetik-Forscher.</p>\n",
       " <p>Einer von ihnen ist Dr. Nils Hoffmann, R&amp;D Director Near\n",
       " East bei Beiersdorf. Seit drei Jahren lebt und arbeitet der gebürtige Hamburger\n",
       " in der indischen Tochtergesellschaft, 600km nördlich von Mumbai. Zu seinen\n",
       " Hauptaufgaben gehört die Erforschung der Konsumentenwünsche an Hautpflegeprodukte\n",
       " in Indien, Afrika, im Mittleren Osten, der Türkei und Russland um dann\n",
       " entsprechende Produkte auf den Markt zu bringen. </p></div>,\n",
       " <div class=\"rte\"><p>„Weit gefasst beschreibt Geokosmetik Produkte, die weltweit\n",
       " verschiedene Konsumenten ansprechen“, erklärt Hoffmann. So lieben Inder\n",
       " beispielsweise Haaröle und Araber intensive Düfte. Dunkle Haut neigt schnell\n",
       " zur Trockenheit, weshalb in Afrika zur Pflege gerne Lotionen verwendet werden,\n",
       " die sehr reichhaltig sind. Im asiatischen Raum hingegen, bedingt durch die\n",
       " feuchte und schwüle Luft, möchten die Menschen eine Lotion, die schnell\n",
       " einzieht. Daher ist von Vorteil, wenn Geokosmetik-Forscher auch vor Ort leben.\n",
       " So können sie, ähnlich der Arbeit eines Journalisten, hautnah erforschen,\n",
       " welche Bedürfnisse wer auf der Welt hat – und hierfür spezielle Produkte\n",
       " entwickeln. </p></div>,\n",
       " <div class=\"rte\"><br>\n",
       " <p>„Ein Badezimmer in Indien sieht beispielsweise sehr viel anders aus als in Deutschland. Häufig duscht man mit einem Eimer und einer Schippe, um Wasser zu sparen. Dass man in Indien also ein anderes Duschprodukt haben möchte als in Deutschland, wo man gerne einfach nochmal fünf Minuten länger unter der Dusche steht, ist klar. Und sowas wird noch viel klarer, wenn man es vor Ort mitbekommt“, so der Beiersdorf-Forscher.</p></br></div>,\n",
       " <div class=\"rte\"><p>Zu seinem persönlich größten Erfolg in den letzten drei\n",
       " Jahren zählt für Hoffmann ein Deodorant, das von ihm und seinem Team speziell\n",
       " für den indischen Markt entwickelt wurde und das besondere Eigenschaften hat:\n",
       " Erhältlich nicht als Aerosol, sondern als Pumpzerstäuber, zeichnet es sich\n",
       " durch einen intensiven Duft aus, der beispielsweise in Deutschland keinen\n",
       " Absatz finden würde. Hintergrund: In Indien werden Deos eher als Parfüm auf die\n",
       " Kleidung gesprüht als auf die Haut. „Also mussten wir das Produkt komplett\n",
       " anders entwickeln als ein Deo, das wir in Europa haben. Zusätzlich zu einem\n",
       " viel stärkeren Dufteindruck und einer regional typischen Duftnote muss dieses\n",
       " Deo verträglich mit der Kleidung sein und darf darauf keine Flecken\n",
       " hinterlassen“, verrät Hoffmann. In Indien kann er „sein“ Deo nun in den\n",
       " Kaufregalen bewundern „Das macht schon stolz“, freut sich der Forscher.  </p>\n",
       " <p>Nach seinem Einsatz in Indien, das weiß Nils Hoffmann bereits jetzt, werden seine Familie und er eine veränderte Verhaltensweise mit nach Deutschland nehmen: „Wenn man aus einem Land zurückkommt, in dem Trinkwasser knapp ist, verändert sich der eigene Umgang mit Wasser. Man ist nicht mehr so verschwenderisch damit.“</p></div>,\n",
       " <div class=\"rte\"><p><br>\n",
       " </br></p></div>,\n",
       " <div class=\"rte\"><p>Diana ist seit 2014 verantwortlich für die R&amp;D Communications\n",
       " bei Beiersdorf. Zuvor leitete sie die Redaktion des Beiersdorf Intranets und verantwortete\n",
       " Themen der HR-, Marken-, Digital- und Strategiekommunikation. Für unseren\n",
       " Blog taucht Diana in die spannende Welt der Forschung und Entwicklung ein und\n",
       " ermöglicht so einen Blick hinter die Kulissen unserer Hautforschung. </p></div>]"
      ]
     },
     "execution_count": 22,
     "metadata": {},
     "output_type": "execute_result"
    }
   ],
   "source": [
    "text_segments"
   ]
  },
  {
   "cell_type": "markdown",
   "metadata": {},
   "source": [
    "#### Zusammenfügen aller Texte eins Blog Artikels"
   ]
  },
  {
   "cell_type": "code",
   "execution_count": 23,
   "metadata": {},
   "outputs": [
    {
     "data": {
      "text/plain": [
       "<div class=\"rte\"><p>Haut ist nicht gleich Haut, das ist vielen wohl bekannt.\n",
       "Doch es steckt mehr dahinter als man auf den ersten Blick vermutet: Was unsere\n",
       "Haut an Pflege braucht und welche Kosmetikbedürfnisse wir haben, ist stark von\n",
       "unserer Genetik, Umwelt und Kultur abhängig. Welche Produkte benutzen\n",
       "Konsumenten beispielsweise in Afrika oder Asien? Worin unterscheiden sich diese\n",
       "Bedürfnisse von denen, die Europäer haben? Mit diesen und ähnlichen\n",
       "Fragestellungen beschäftigen sich Geokosmetik-Forscher.</p>\n",
       "<p>Einer von ihnen ist Dr. Nils Hoffmann, R&amp;D Director Near\n",
       "East bei Beiersdorf. Seit drei Jahren lebt und arbeitet der gebürtige Hamburger\n",
       "in der indischen Tochtergesellschaft, 600km nördlich von Mumbai. Zu seinen\n",
       "Hauptaufgaben gehört die Erforschung der Konsumentenwünsche an Hautpflegeprodukte\n",
       "in Indien, Afrika, im Mittleren Osten, der Türkei und Russland um dann\n",
       "entsprechende Produkte auf den Markt zu bringen. </p></div>"
      ]
     },
     "execution_count": 23,
     "metadata": {},
     "output_type": "execute_result"
    }
   ],
   "source": [
    "text_segments[0]"
   ]
  },
  {
   "cell_type": "code",
   "execution_count": 24,
   "metadata": {},
   "outputs": [
    {
     "data": {
      "text/plain": [
       "'Haut ist nicht gleich Haut, das ist vielen wohl bekannt.\\r\\nDoch es steckt mehr dahinter als man auf den ersten Blick vermutet: Was unsere\\r\\nHaut an Pflege braucht und welche Kosmetikbedürfnisse wir haben, ist stark von\\r\\nunserer Genetik, Umwelt und Kultur abhängig. Welche Produkte benutzen\\r\\nKonsumenten beispielsweise in Afrika oder Asien? Worin unterscheiden sich diese\\r\\nBedürfnisse von denen, die Europäer haben? Mit diesen und ähnlichen\\r\\nFragestellungen beschäftigen sich Geokosmetik-Forscher.\\nEiner von ihnen ist Dr. Nils Hoffmann, R&D Director Near\\r\\nEast bei Beiersdorf. Seit drei Jahren lebt und arbeitet der gebürtige Hamburger\\r\\nin der indischen Tochtergesellschaft, 600km nördlich von Mumbai. Zu seinen\\r\\nHauptaufgaben gehört die Erforschung der Konsumentenwünsche an Hautpflegeprodukte\\r\\nin Indien, Afrika, im Mittleren Osten, der Türkei und Russland um dann\\r\\nentsprechende Produkte auf den Markt zu bringen. '"
      ]
     },
     "execution_count": 24,
     "metadata": {},
     "output_type": "execute_result"
    }
   ],
   "source": [
    "text_segments[0].get_text()"
   ]
  },
  {
   "cell_type": "code",
   "execution_count": 25,
   "metadata": {},
   "outputs": [
    {
     "data": {
      "text/plain": [
       "'Haut ist nicht gleich Haut, das ist vielen wohl bekannt.\\r\\nDoch es steckt mehr dahinter als man auf den ersten Blick vermutet: Was unsere\\r\\nHaut an Pflege braucht und welche Kosmetikbedürfnisse wir haben, ist stark von\\r\\nunserer Genetik, Umwelt und Kultur abhängig. Welche Produkte benutzen\\r\\nKonsumenten beispielsweise in Afrika oder Asien? Worin unterscheiden sich diese\\r\\nBedürfnisse von denen, die Europäer haben? Mit diesen und ähnlichen\\r\\nFragestellungen beschäftigen sich Geokosmetik-Forscher.\\nEiner von ihnen ist Dr. Nils Hoffmann, R&D Director Near\\r\\nEast bei Beiersdorf. Seit drei Jahren lebt und arbeitet der gebürtige Hamburger\\r\\nin der indischen Tochtergesellschaft, 600km nördlich von Mumbai. Zu seinen\\r\\nHauptaufgaben gehört die Erforschung der Konsumentenwünsche an Hautpflegeprodukte\\r\\nin Indien, Afrika, im Mittleren Osten, der Türkei und Russland um dann\\r\\nentsprechende Produkte auf den Markt zu bringen.  „Weit gefasst beschreibt Geokosmetik Produkte, die weltweit\\r\\nverschiedene Konsumenten ansprechen“, erklärt Hoffmann. So lieben Inder\\r\\nbeispielsweise Haaröle und Araber intensive Düfte. Dunkle Haut neigt schnell\\r\\nzur Trockenheit, weshalb in Afrika zur Pflege gerne Lotionen verwendet werden,\\r\\ndie sehr reichhaltig sind. Im asiatischen Raum hingegen, bedingt durch die\\r\\nfeuchte und schwüle Luft, möchten die Menschen eine Lotion, die schnell\\r\\neinzieht. Daher ist von Vorteil, wenn Geokosmetik-Forscher auch vor Ort leben.\\r\\nSo können sie, ähnlich der Arbeit eines Journalisten, hautnah erforschen,\\r\\nwelche Bedürfnisse wer auf der Welt hat – und hierfür spezielle Produkte\\r\\nentwickeln.\\xa0 \\n„Ein Badezimmer in Indien sieht beispielsweise sehr viel anders aus als in Deutschland. Häufig duscht man mit einem Eimer und einer Schippe, um Wasser zu sparen. Dass man in Indien also ein anderes Duschprodukt haben möchte als in Deutschland, wo man gerne einfach nochmal fünf Minuten länger unter der Dusche steht, ist klar. Und sowas wird noch viel klarer, wenn man es vor Ort mitbekommt“, so der Beiersdorf-Forscher. Zu seinem persönlich größten Erfolg in den letzten drei\\r\\nJahren zählt für Hoffmann ein Deodorant, das von ihm und seinem Team speziell\\r\\nfür den indischen Markt entwickelt wurde und das besondere Eigenschaften hat:\\r\\nErhältlich nicht als Aerosol, sondern als Pumpzerstäuber, zeichnet es sich\\r\\ndurch einen intensiven Duft aus, der beispielsweise in Deutschland keinen\\r\\nAbsatz finden würde. Hintergrund: In Indien werden Deos eher als Parfüm auf die\\r\\nKleidung gesprüht als auf die Haut. „Also mussten wir das Produkt komplett\\r\\nanders entwickeln als ein Deo, das wir in Europa haben. Zusätzlich zu einem\\r\\nviel stärkeren Dufteindruck und einer regional typischen Duftnote muss dieses\\r\\nDeo verträglich mit der Kleidung sein und darf darauf keine Flecken\\r\\nhinterlassen“, verrät Hoffmann. In Indien kann er „sein“ Deo nun in den\\r\\nKaufregalen bewundern „Das macht schon stolz“, freut sich der Forscher. \\xa0\\nNach seinem Einsatz in Indien, das weiß Nils Hoffmann bereits jetzt, werden seine Familie und er eine veränderte Verhaltensweise mit nach Deutschland nehmen: „Wenn man aus einem Land zurückkommt, in dem Trinkwasser knapp ist, verändert sich der eigene Umgang mit Wasser. Man ist nicht mehr so verschwenderisch damit.“ \\n Diana ist seit 2014 verantwortlich für die R&D Communications\\r\\nbei Beiersdorf. Zuvor leitete sie die Redaktion des Beiersdorf Intranets und verantwortete\\r\\nThemen der HR-, Marken-, Digital- und Strategiekommunikation.\\xa0Für unseren\\r\\nBlog taucht Diana in die spannende Welt der Forschung und Entwicklung ein und\\r\\nermöglicht so einen Blick hinter die Kulissen unserer Hautforschung.\\xa0'"
      ]
     },
     "execution_count": 25,
     "metadata": {},
     "output_type": "execute_result"
    }
   ],
   "source": [
    "full_text = ' '.join([s.get_text() for s in text_segments])\n",
    "full_text"
   ]
  },
  {
   "cell_type": "markdown",
   "metadata": {},
   "source": [
    "### Extrahieren der Textelemente aller Blog Artikel"
   ]
  },
  {
   "cell_type": "code",
   "execution_count": 26,
   "metadata": {},
   "outputs": [
    {
     "name": "stdout",
     "output_type": "stream",
     "text": [
      "https://www.beiersdorf.de//beiersdorf-live/karriere-blog/blog-uebersicht/2018/03/13-sag-mir-wo-du-wohnst-und-ich-entwickele-dir-was-du-brauchst\n",
      "Exracting https://www.beiersdorf.de//beiersdorf-live/karriere-blog/blog-uebersicht/2018/03/13-sag-mir-wo-du-wohnst-und-ich-entwickele-dir-was-du-brauchst\n",
      "https://www.beiersdorf.de//beiersdorf-live/karriere-blog/blog-uebersicht/2017/04/06-die-menschen-hinter-unseren-produkten-anil-yumut\n",
      "Exracting https://www.beiersdorf.de//beiersdorf-live/karriere-blog/blog-uebersicht/2017/04/06-die-menschen-hinter-unseren-produkten-anil-yumut\n",
      "https://www.beiersdorf.de//beiersdorf-live/karriere-blog/blog-uebersicht/2017/03/06-die-menschen-hinter-unseren-produkten-annika-schuepfer\n",
      "Exracting https://www.beiersdorf.de//beiersdorf-live/karriere-blog/blog-uebersicht/2017/03/06-die-menschen-hinter-unseren-produkten-annika-schuepfer\n"
     ]
    }
   ],
   "source": [
    "full_texts = []\n",
    "for url in hyper_links[0:3]:\n",
    "    print(url)\n",
    "    page = requests.get(url)\n",
    "    blog = BeautifulSoup(page.content, 'html.parser')\n",
    "    print(f'Exracting {url}')\n",
    "    text_segments = []\n",
    "    for elem in blog.find_all('div', {\"class\" : 'rte'}):\n",
    "        if elem.attrs['class'][0] == 'rte':\n",
    "            text_segments.append(elem)\n",
    "    full_text = ' '.join([s.get_text().replace('\\r\\n', ' ').strip() for s in text_segments])\n",
    "    full_texts.append(full_text)"
   ]
  },
  {
   "cell_type": "code",
   "execution_count": 27,
   "metadata": {},
   "outputs": [
    {
     "data": {
      "text/plain": [
       "'In dieser Folge unsere Serie „Die Menschen hinter unseren Produkten\" lernt ihr Annika Schüpfer aus dem Global Sales Team kennen. Erfahrt, warum Annika es spannend findet, in einem internationalen Team zu arbeiten und welche Innovation sie gerne für Beiersdorf entwickeln würde. Film ab!'"
      ]
     },
     "execution_count": 27,
     "metadata": {},
     "output_type": "execute_result"
    }
   ],
   "source": [
    "full_texts[2]"
   ]
  },
  {
   "cell_type": "markdown",
   "metadata": {},
   "source": [
    "***"
   ]
  }
 ],
 "metadata": {
  "kernelspec": {
   "display_name": "Python 3",
   "language": "python",
   "name": "python3"
  },
  "language_info": {
   "codemirror_mode": {
    "name": "ipython",
    "version": 3
   },
   "file_extension": ".py",
   "mimetype": "text/x-python",
   "name": "python",
   "nbconvert_exporter": "python",
   "pygments_lexer": "ipython3",
   "version": "3.6.7"
  }
 },
 "nbformat": 4,
 "nbformat_minor": 2
}
