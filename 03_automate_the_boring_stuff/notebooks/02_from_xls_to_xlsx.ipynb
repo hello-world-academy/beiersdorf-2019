{
 "cells": [
  {
   "cell_type": "markdown",
   "metadata": {},
   "source": [
    "# Switch from `.xls` to `.xlsx`"
   ]
  },
  {
   "cell_type": "code",
   "execution_count": 3,
   "metadata": {},
   "outputs": [],
   "source": [
    "import pandas as pd"
   ]
  },
  {
   "cell_type": "markdown",
   "metadata": {},
   "source": [
    "## Load `.xls` file and save as  `.xlsx`"
   ]
  },
  {
   "cell_type": "markdown",
   "metadata": {},
   "source": [
    "### Load __one__ data file"
   ]
  },
  {
   "cell_type": "code",
   "execution_count": 2,
   "metadata": {},
   "outputs": [],
   "source": [
    "filename = '../data/xls_files/fake_xlsfile_0.xls'"
   ]
  },
  {
   "cell_type": "code",
   "execution_count": 7,
   "metadata": {},
   "outputs": [
    {
     "name": "stdout",
     "output_type": "stream",
     "text": [
      "(257, 3)\n"
     ]
    },
    {
     "data": {
      "text/html": [
       "<div>\n",
       "<style scoped>\n",
       "    .dataframe tbody tr th:only-of-type {\n",
       "        vertical-align: middle;\n",
       "    }\n",
       "\n",
       "    .dataframe tbody tr th {\n",
       "        vertical-align: top;\n",
       "    }\n",
       "\n",
       "    .dataframe thead th {\n",
       "        text-align: right;\n",
       "    }\n",
       "</style>\n",
       "<table border=\"1\" class=\"dataframe\">\n",
       "  <thead>\n",
       "    <tr style=\"text-align: right;\">\n",
       "      <th></th>\n",
       "      <th>Var1</th>\n",
       "      <th>Var2</th>\n",
       "      <th>Var3</th>\n",
       "    </tr>\n",
       "  </thead>\n",
       "  <tbody>\n",
       "    <tr>\n",
       "      <th>0</th>\n",
       "      <td>0.936466</td>\n",
       "      <td>in progress</td>\n",
       "      <td>False</td>\n",
       "    </tr>\n",
       "    <tr>\n",
       "      <th>1</th>\n",
       "      <td>0.930959</td>\n",
       "      <td>in progress</td>\n",
       "      <td>True</td>\n",
       "    </tr>\n",
       "    <tr>\n",
       "      <th>2</th>\n",
       "      <td>0.736242</td>\n",
       "      <td>in progress</td>\n",
       "      <td>True</td>\n",
       "    </tr>\n",
       "    <tr>\n",
       "      <th>3</th>\n",
       "      <td>0.655843</td>\n",
       "      <td>in progress</td>\n",
       "      <td>True</td>\n",
       "    </tr>\n",
       "    <tr>\n",
       "      <th>4</th>\n",
       "      <td>0.579438</td>\n",
       "      <td>completed</td>\n",
       "      <td>True</td>\n",
       "    </tr>\n",
       "  </tbody>\n",
       "</table>\n",
       "</div>"
      ],
      "text/plain": [
       "       Var1         Var2   Var3\n",
       "0  0.936466  in progress  False\n",
       "1  0.930959  in progress   True\n",
       "2  0.736242  in progress   True\n",
       "3  0.655843  in progress   True\n",
       "4  0.579438    completed   True"
      ]
     },
     "execution_count": 7,
     "metadata": {},
     "output_type": "execute_result"
    }
   ],
   "source": [
    "df = pd.read_excel(filename, index_col=0)\n",
    "print(df.shape)\n",
    "df.head()"
   ]
  },
  {
   "cell_type": "markdown",
   "metadata": {},
   "source": [
    "### Save __one__ data file to `xlsx` format"
   ]
  },
  {
   "cell_type": "code",
   "execution_count": 8,
   "metadata": {},
   "outputs": [],
   "source": [
    "df.to_excel('../data/xlsx_files/fake_xlsfile_0.xlsx')"
   ]
  },
  {
   "cell_type": "markdown",
   "metadata": {},
   "source": [
    "***"
   ]
  },
  {
   "cell_type": "markdown",
   "metadata": {},
   "source": [
    "## Process __all__ data files at once"
   ]
  },
  {
   "cell_type": "code",
   "execution_count": 9,
   "metadata": {},
   "outputs": [],
   "source": [
    "from pathlib import Path"
   ]
  },
  {
   "cell_type": "code",
   "execution_count": 12,
   "metadata": {},
   "outputs": [
    {
     "data": {
      "text/plain": [
       "PosixPath('../data/xls_files')"
      ]
     },
     "execution_count": 12,
     "metadata": {},
     "output_type": "execute_result"
    }
   ],
   "source": [
    "filedir = Path('../data/xls_files/')\n",
    "filedir"
   ]
  },
  {
   "cell_type": "code",
   "execution_count": 23,
   "metadata": {},
   "outputs": [
    {
     "data": {
      "text/plain": [
       "[PosixPath('../data/xls_files/fake_xlsfile_34.xls'),\n",
       " PosixPath('../data/xls_files/fake_xlsfile_20.xls'),\n",
       " PosixPath('../data/xls_files/fake_xlsfile_21.xls'),\n",
       " PosixPath('../data/xls_files/fake_xlsfile_35.xls'),\n",
       " PosixPath('../data/xls_files/fake_xlsfile_23.xls'),\n",
       " PosixPath('../data/xls_files/fake_xlsfile_37.xls'),\n",
       " PosixPath('../data/xls_files/fake_xlsfile_36.xls'),\n",
       " PosixPath('../data/xls_files/fake_xlsfile_22.xls'),\n",
       " PosixPath('../data/xls_files/fake_xlsfile_26.xls'),\n",
       " PosixPath('../data/xls_files/fake_xlsfile_32.xls'),\n",
       " PosixPath('../data/xls_files/fake_xlsfile_33.xls'),\n",
       " PosixPath('../data/xls_files/fake_xlsfile_27.xls'),\n",
       " PosixPath('../data/xls_files/fake_xlsfile_31.xls'),\n",
       " PosixPath('../data/xls_files/fake_xlsfile_25.xls'),\n",
       " PosixPath('../data/xls_files/fake_xlsfile_19.xls'),\n",
       " PosixPath('../data/xls_files/fake_xlsfile_18.xls'),\n",
       " PosixPath('../data/xls_files/fake_xlsfile_24.xls'),\n",
       " PosixPath('../data/xls_files/fake_xlsfile_30.xls'),\n",
       " PosixPath('../data/xls_files/fake_xlsfile_43.xls'),\n",
       " PosixPath('../data/xls_files/fake_xlsfile_42.xls'),\n",
       " PosixPath('../data/xls_files/fake_xlsfile_40.xls'),\n",
       " PosixPath('../data/xls_files/fake_xlsfile_41.xls'),\n",
       " PosixPath('../data/xls_files/fake_xlsfile_45.xls'),\n",
       " PosixPath('../data/xls_files/fake_xlsfile_8.xls'),\n",
       " PosixPath('../data/xls_files/fake_xlsfile_9.xls'),\n",
       " PosixPath('../data/xls_files/fake_xlsfile_44.xls'),\n",
       " PosixPath('../data/xls_files/fake_xlsfile_46.xls'),\n",
       " PosixPath('../data/xls_files/fake_xlsfile_47.xls'),\n",
       " PosixPath('../data/xls_files/fake_xlsfile_7.xls'),\n",
       " PosixPath('../data/xls_files/fake_xlsfile_6.xls'),\n",
       " PosixPath('../data/xls_files/fake_xlsfile_49.xls'),\n",
       " PosixPath('../data/xls_files/fake_xlsfile_4.xls'),\n",
       " PosixPath('../data/xls_files/fake_xlsfile_5.xls'),\n",
       " PosixPath('../data/xls_files/fake_xlsfile_48.xls'),\n",
       " PosixPath('../data/xls_files/fake_xlsfile_1.xls'),\n",
       " PosixPath('../data/xls_files/fake_xlsfile_0.xls'),\n",
       " PosixPath('../data/xls_files/fake_xlsfile_2.xls'),\n",
       " PosixPath('../data/xls_files/fake_xlsfile_3.xls'),\n",
       " PosixPath('../data/xls_files/fake_xlsfile_29.xls'),\n",
       " PosixPath('../data/xls_files/fake_xlsfile_15.xls'),\n",
       " PosixPath('../data/xls_files/fake_xlsfile_14.xls'),\n",
       " PosixPath('../data/xls_files/fake_xlsfile_28.xls'),\n",
       " PosixPath('../data/xls_files/fake_xlsfile_16.xls'),\n",
       " PosixPath('../data/xls_files/fake_xlsfile_17.xls'),\n",
       " PosixPath('../data/xls_files/fake_xlsfile_13.xls'),\n",
       " PosixPath('../data/xls_files/fake_xlsfile_12.xls'),\n",
       " PosixPath('../data/xls_files/fake_xlsfile_10.xls'),\n",
       " PosixPath('../data/xls_files/fake_xlsfile_38.xls'),\n",
       " PosixPath('../data/xls_files/fake_xlsfile_39.xls'),\n",
       " PosixPath('../data/xls_files/fake_xlsfile_11.xls')]"
      ]
     },
     "execution_count": 23,
     "metadata": {},
     "output_type": "execute_result"
    }
   ],
   "source": [
    "list(filedir.glob('*.xls'))"
   ]
  },
  {
   "cell_type": "code",
   "execution_count": 24,
   "metadata": {},
   "outputs": [],
   "source": [
    "for datafile in filedir.glob('*.xls'):\n",
    "    df = pd.read_excel(datafile, index_col=0)\n",
    "    df.to_excel(f'../data/xlsx_files/{datafile.stem}.xlsx')\n"
   ]
  },
  {
   "cell_type": "markdown",
   "metadata": {},
   "source": [
    "***"
   ]
  }
 ],
 "metadata": {
  "kernelspec": {
   "display_name": "Python 3",
   "language": "python",
   "name": "python3"
  },
  "language_info": {
   "codemirror_mode": {
    "name": "ipython",
    "version": 3
   },
   "file_extension": ".py",
   "mimetype": "text/x-python",
   "name": "python",
   "nbconvert_exporter": "python",
   "pygments_lexer": "ipython3",
   "version": "3.6.7"
  }
 },
 "nbformat": 4,
 "nbformat_minor": 2
}
