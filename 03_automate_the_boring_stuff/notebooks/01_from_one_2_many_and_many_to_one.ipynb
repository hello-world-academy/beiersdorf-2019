{
 "cells": [
  {
   "cell_type": "markdown",
   "metadata": {},
   "source": [
    "# From one dataset to many"
   ]
  },
  {
   "cell_type": "markdown",
   "metadata": {},
   "source": [
    "**Load the data**"
   ]
  },
  {
   "cell_type": "code",
   "execution_count": 59,
   "metadata": {},
   "outputs": [
    {
     "data": {
      "text/plain": [
       "(5000, 9)"
      ]
     },
     "execution_count": 59,
     "metadata": {},
     "output_type": "execute_result"
    }
   ],
   "source": [
    "import pandas as pd\n",
    "data = pd.read_csv('../data/fake_beiersdorf_data.csv')\n",
    "data.shape"
   ]
  },
  {
   "cell_type": "code",
   "execution_count": 60,
   "metadata": {},
   "outputs": [
    {
     "data": {
      "text/html": [
       "<div>\n",
       "<style scoped>\n",
       "    .dataframe tbody tr th:only-of-type {\n",
       "        vertical-align: middle;\n",
       "    }\n",
       "\n",
       "    .dataframe tbody tr th {\n",
       "        vertical-align: top;\n",
       "    }\n",
       "\n",
       "    .dataframe thead th {\n",
       "        text-align: right;\n",
       "    }\n",
       "</style>\n",
       "<table border=\"1\" class=\"dataframe\">\n",
       "  <thead>\n",
       "    <tr style=\"text-align: right;\">\n",
       "      <th></th>\n",
       "      <th>Date</th>\n",
       "      <th>Var1</th>\n",
       "      <th>Var2</th>\n",
       "      <th>Var3</th>\n",
       "      <th>Name</th>\n",
       "      <th>Address</th>\n",
       "      <th>Zip-code</th>\n",
       "      <th>City</th>\n",
       "      <th>Country</th>\n",
       "    </tr>\n",
       "  </thead>\n",
       "  <tbody>\n",
       "    <tr>\n",
       "      <th>0</th>\n",
       "      <td>2011-11-20</td>\n",
       "      <td>0.764554</td>\n",
       "      <td>completed</td>\n",
       "      <td>True</td>\n",
       "      <td>Beiersdorf Customer Supply GmbH</td>\n",
       "      <td>Unnastrasse 48</td>\n",
       "      <td>20253</td>\n",
       "      <td>Hamburg</td>\n",
       "      <td>Germany</td>\n",
       "    </tr>\n",
       "    <tr>\n",
       "      <th>1</th>\n",
       "      <td>2006-11-27</td>\n",
       "      <td>0.380247</td>\n",
       "      <td>in progress</td>\n",
       "      <td>False</td>\n",
       "      <td>Beiersdorf Shared Services GmbH</td>\n",
       "      <td>Quickbornstrasse 24</td>\n",
       "      <td>20253</td>\n",
       "      <td>Hamburg</td>\n",
       "      <td>Germany</td>\n",
       "    </tr>\n",
       "    <tr>\n",
       "      <th>2</th>\n",
       "      <td>2007-09-29</td>\n",
       "      <td>0.807108</td>\n",
       "      <td>completed</td>\n",
       "      <td>False</td>\n",
       "      <td>Beiersdorf Customer Supply GmbH</td>\n",
       "      <td>Unnastrasse 48</td>\n",
       "      <td>20253</td>\n",
       "      <td>Hamburg</td>\n",
       "      <td>Germany</td>\n",
       "    </tr>\n",
       "    <tr>\n",
       "      <th>3</th>\n",
       "      <td>2006-09-05</td>\n",
       "      <td>0.649908</td>\n",
       "      <td>in progress</td>\n",
       "      <td>True</td>\n",
       "      <td>Beiersdorf Manufacturing Hamburg GmbH</td>\n",
       "      <td>Troplowitzstrasse 10</td>\n",
       "      <td>22529</td>\n",
       "      <td>Hamburg</td>\n",
       "      <td>Germany</td>\n",
       "    </tr>\n",
       "    <tr>\n",
       "      <th>4</th>\n",
       "      <td>2014-12-12</td>\n",
       "      <td>0.951206</td>\n",
       "      <td>in progress</td>\n",
       "      <td>True</td>\n",
       "      <td>Beiersdorf Shared Services GmbH</td>\n",
       "      <td>Quickbornstrasse 24</td>\n",
       "      <td>20253</td>\n",
       "      <td>Hamburg</td>\n",
       "      <td>Germany</td>\n",
       "    </tr>\n",
       "  </tbody>\n",
       "</table>\n",
       "</div>"
      ],
      "text/plain": [
       "         Date      Var1         Var2   Var3  \\\n",
       "0  2011-11-20  0.764554    completed   True   \n",
       "1  2006-11-27  0.380247  in progress  False   \n",
       "2  2007-09-29  0.807108    completed  False   \n",
       "3  2006-09-05  0.649908  in progress   True   \n",
       "4  2014-12-12  0.951206  in progress   True   \n",
       "\n",
       "                                    Name               Address  Zip-code  \\\n",
       "0        Beiersdorf Customer Supply GmbH        Unnastrasse 48     20253   \n",
       "1        Beiersdorf Shared Services GmbH   Quickbornstrasse 24     20253   \n",
       "2        Beiersdorf Customer Supply GmbH        Unnastrasse 48     20253   \n",
       "3  Beiersdorf Manufacturing Hamburg GmbH  Troplowitzstrasse 10     22529   \n",
       "4        Beiersdorf Shared Services GmbH   Quickbornstrasse 24     20253   \n",
       "\n",
       "      City  Country  \n",
       "0  Hamburg  Germany  \n",
       "1  Hamburg  Germany  \n",
       "2  Hamburg  Germany  \n",
       "3  Hamburg  Germany  \n",
       "4  Hamburg  Germany  "
      ]
     },
     "execution_count": 60,
     "metadata": {},
     "output_type": "execute_result"
    }
   ],
   "source": [
    "data.head()"
   ]
  },
  {
   "cell_type": "markdown",
   "metadata": {},
   "source": [
    "## Split large dataset into many small ones based on the variable `Name`"
   ]
  },
  {
   "cell_type": "code",
   "execution_count": 61,
   "metadata": {},
   "outputs": [
    {
     "data": {
      "text/plain": [
       "0              Beiersdorf Customer Supply GmbH\n",
       "1              Beiersdorf Shared Services GmbH\n",
       "2              Beiersdorf Customer Supply GmbH\n",
       "3        Beiersdorf Manufacturing Hamburg GmbH\n",
       "4              Beiersdorf Shared Services GmbH\n",
       "5              Beiersdorf Customer Supply GmbH\n",
       "6              Beiersdorf Customer Supply GmbH\n",
       "7              Beiersdorf Shared Services GmbH\n",
       "8            La Prairie Group Deutschland GmbH\n",
       "9              Beiersdorf Shared Services GmbH\n",
       "10                               Beiersdorf AG\n",
       "11      Beiersdorf Manufacturing Waldheim GmbH\n",
       "12                               Beiersdorf AG\n",
       "13      Beiersdorf Manufacturing Waldheim GmbH\n",
       "14           La Prairie Group Deutschland GmbH\n",
       "15       Beiersdorf Manufacturing Hamburg GmbH\n",
       "16             Beiersdorf Customer Supply GmbH\n",
       "17      Beiersdorf Manufacturing Waldheim GmbH\n",
       "18        Beiersdorf Manufacturing Berlin GmbH\n",
       "19        Beiersdorf Manufacturing Berlin GmbH\n",
       "20             Beiersdorf Customer Supply GmbH\n",
       "21             Beiersdorf Shared Services GmbH\n",
       "22       Beiersdorf Manufacturing Hamburg GmbH\n",
       "23                               Beiersdorf AG\n",
       "24       Beiersdorf Manufacturing Hamburg GmbH\n",
       "25      Beiersdorf Manufacturing Waldheim GmbH\n",
       "26      Beiersdorf Manufacturing Waldheim GmbH\n",
       "27             Beiersdorf Customer Supply GmbH\n",
       "28      Beiersdorf Manufacturing Waldheim GmbH\n",
       "29             Beiersdorf Shared Services GmbH\n",
       "                         ...                  \n",
       "4970           Beiersdorf Shared Services GmbH\n",
       "4971           Beiersdorf Shared Services GmbH\n",
       "4972     Beiersdorf Manufacturing Hamburg GmbH\n",
       "4973     Beiersdorf Manufacturing Hamburg GmbH\n",
       "4974      Beiersdorf Manufacturing Berlin GmbH\n",
       "4975           Beiersdorf Customer Supply GmbH\n",
       "4976                             Beiersdorf AG\n",
       "4977         La Prairie Group Deutschland GmbH\n",
       "4978           Beiersdorf Shared Services GmbH\n",
       "4979           Beiersdorf Shared Services GmbH\n",
       "4980           Beiersdorf Customer Supply GmbH\n",
       "4981      Beiersdorf Manufacturing Berlin GmbH\n",
       "4982           Beiersdorf Shared Services GmbH\n",
       "4983         La Prairie Group Deutschland GmbH\n",
       "4984      Beiersdorf Manufacturing Berlin GmbH\n",
       "4985     Beiersdorf Manufacturing Hamburg GmbH\n",
       "4986           Beiersdorf Shared Services GmbH\n",
       "4987           Beiersdorf Shared Services GmbH\n",
       "4988    Beiersdorf Manufacturing Waldheim GmbH\n",
       "4989                             Beiersdorf AG\n",
       "4990    Beiersdorf Manufacturing Waldheim GmbH\n",
       "4991      Beiersdorf Manufacturing Berlin GmbH\n",
       "4992      Beiersdorf Manufacturing Berlin GmbH\n",
       "4993                             Beiersdorf AG\n",
       "4994      Beiersdorf Manufacturing Berlin GmbH\n",
       "4995      Beiersdorf Manufacturing Berlin GmbH\n",
       "4996           Beiersdorf Customer Supply GmbH\n",
       "4997         La Prairie Group Deutschland GmbH\n",
       "4998           Beiersdorf Customer Supply GmbH\n",
       "4999           Beiersdorf Customer Supply GmbH\n",
       "Name: Name, Length: 5000, dtype: object"
      ]
     },
     "execution_count": 61,
     "metadata": {},
     "output_type": "execute_result"
    }
   ],
   "source": [
    "data.Name"
   ]
  },
  {
   "cell_type": "code",
   "execution_count": 62,
   "metadata": {},
   "outputs": [
    {
     "data": {
      "text/plain": [
       "array(['Beiersdorf Customer Supply GmbH',\n",
       "       'Beiersdorf Shared Services GmbH',\n",
       "       'Beiersdorf Manufacturing Hamburg GmbH',\n",
       "       'La Prairie Group Deutschland GmbH', 'Beiersdorf AG',\n",
       "       'Beiersdorf Manufacturing Waldheim GmbH',\n",
       "       'Beiersdorf Manufacturing Berlin GmbH'], dtype=object)"
      ]
     },
     "execution_count": 62,
     "metadata": {},
     "output_type": "execute_result"
    }
   ],
   "source": [
    "data.Name.unique()"
   ]
  },
  {
   "cell_type": "code",
   "execution_count": 63,
   "metadata": {},
   "outputs": [
    {
     "data": {
      "text/plain": [
       "7"
      ]
     },
     "execution_count": 63,
     "metadata": {},
     "output_type": "execute_result"
    }
   ],
   "source": [
    "data.Name.nunique()"
   ]
  },
  {
   "cell_type": "code",
   "execution_count": 64,
   "metadata": {},
   "outputs": [
    {
     "name": "stdout",
     "output_type": "stream",
     "text": [
      "Computing Beiersdorf Customer Supply GmbH ...\n",
      "Computing Beiersdorf Shared Services GmbH ...\n",
      "Computing Beiersdorf Manufacturing Hamburg GmbH ...\n",
      "Computing La Prairie Group Deutschland GmbH ...\n",
      "Computing Beiersdorf AG ...\n",
      "Computing Beiersdorf Manufacturing Waldheim GmbH ...\n",
      "Computing Beiersdorf Manufacturing Berlin GmbH ...\n"
     ]
    }
   ],
   "source": [
    "for name in data.Name.unique():\n",
    "    print(f'Computing {name} ...')\n",
    "    subset = data.loc[data.Name == name]"
   ]
  },
  {
   "cell_type": "code",
   "execution_count": 65,
   "metadata": {},
   "outputs": [
    {
     "data": {
      "text/html": [
       "<div>\n",
       "<style scoped>\n",
       "    .dataframe tbody tr th:only-of-type {\n",
       "        vertical-align: middle;\n",
       "    }\n",
       "\n",
       "    .dataframe tbody tr th {\n",
       "        vertical-align: top;\n",
       "    }\n",
       "\n",
       "    .dataframe thead th {\n",
       "        text-align: right;\n",
       "    }\n",
       "</style>\n",
       "<table border=\"1\" class=\"dataframe\">\n",
       "  <thead>\n",
       "    <tr style=\"text-align: right;\">\n",
       "      <th></th>\n",
       "      <th>Date</th>\n",
       "      <th>Var1</th>\n",
       "      <th>Var2</th>\n",
       "      <th>Var3</th>\n",
       "      <th>Name</th>\n",
       "      <th>Address</th>\n",
       "      <th>Zip-code</th>\n",
       "      <th>City</th>\n",
       "      <th>Country</th>\n",
       "    </tr>\n",
       "  </thead>\n",
       "  <tbody>\n",
       "    <tr>\n",
       "      <th>392</th>\n",
       "      <td>2017-02-02</td>\n",
       "      <td>0.900758</td>\n",
       "      <td>completed</td>\n",
       "      <td>True</td>\n",
       "      <td>Beiersdorf Manufacturing Berlin GmbH</td>\n",
       "      <td>Franklinstrasse 1</td>\n",
       "      <td>10587</td>\n",
       "      <td>Berlin</td>\n",
       "      <td>Germany</td>\n",
       "    </tr>\n",
       "    <tr>\n",
       "      <th>2370</th>\n",
       "      <td>2016-04-25</td>\n",
       "      <td>0.777162</td>\n",
       "      <td>completed</td>\n",
       "      <td>False</td>\n",
       "      <td>Beiersdorf Manufacturing Berlin GmbH</td>\n",
       "      <td>Franklinstrasse 1</td>\n",
       "      <td>10587</td>\n",
       "      <td>Berlin</td>\n",
       "      <td>Germany</td>\n",
       "    </tr>\n",
       "    <tr>\n",
       "      <th>1344</th>\n",
       "      <td>2006-07-03</td>\n",
       "      <td>0.969716</td>\n",
       "      <td>completed</td>\n",
       "      <td>False</td>\n",
       "      <td>Beiersdorf Manufacturing Berlin GmbH</td>\n",
       "      <td>Franklinstrasse 1</td>\n",
       "      <td>10587</td>\n",
       "      <td>Berlin</td>\n",
       "      <td>Germany</td>\n",
       "    </tr>\n",
       "    <tr>\n",
       "      <th>4519</th>\n",
       "      <td>2014-08-14</td>\n",
       "      <td>0.529614</td>\n",
       "      <td>completed</td>\n",
       "      <td>True</td>\n",
       "      <td>Beiersdorf Manufacturing Berlin GmbH</td>\n",
       "      <td>Franklinstrasse 1</td>\n",
       "      <td>10587</td>\n",
       "      <td>Berlin</td>\n",
       "      <td>Germany</td>\n",
       "    </tr>\n",
       "    <tr>\n",
       "      <th>3932</th>\n",
       "      <td>2015-04-25</td>\n",
       "      <td>0.656680</td>\n",
       "      <td>completed</td>\n",
       "      <td>False</td>\n",
       "      <td>Beiersdorf Manufacturing Berlin GmbH</td>\n",
       "      <td>Franklinstrasse 1</td>\n",
       "      <td>10587</td>\n",
       "      <td>Berlin</td>\n",
       "      <td>Germany</td>\n",
       "    </tr>\n",
       "    <tr>\n",
       "      <th>3298</th>\n",
       "      <td>2015-10-01</td>\n",
       "      <td>0.749431</td>\n",
       "      <td>in progress</td>\n",
       "      <td>False</td>\n",
       "      <td>Beiersdorf Manufacturing Berlin GmbH</td>\n",
       "      <td>Franklinstrasse 1</td>\n",
       "      <td>10587</td>\n",
       "      <td>Berlin</td>\n",
       "      <td>Germany</td>\n",
       "    </tr>\n",
       "    <tr>\n",
       "      <th>1290</th>\n",
       "      <td>2018-03-31</td>\n",
       "      <td>0.564161</td>\n",
       "      <td>in progress</td>\n",
       "      <td>False</td>\n",
       "      <td>Beiersdorf Manufacturing Berlin GmbH</td>\n",
       "      <td>Franklinstrasse 1</td>\n",
       "      <td>10587</td>\n",
       "      <td>Berlin</td>\n",
       "      <td>Germany</td>\n",
       "    </tr>\n",
       "    <tr>\n",
       "      <th>4967</th>\n",
       "      <td>2009-02-18</td>\n",
       "      <td>0.095276</td>\n",
       "      <td>completed</td>\n",
       "      <td>True</td>\n",
       "      <td>Beiersdorf Manufacturing Berlin GmbH</td>\n",
       "      <td>Franklinstrasse 1</td>\n",
       "      <td>10587</td>\n",
       "      <td>Berlin</td>\n",
       "      <td>Germany</td>\n",
       "    </tr>\n",
       "    <tr>\n",
       "      <th>4131</th>\n",
       "      <td>2006-06-14</td>\n",
       "      <td>0.590672</td>\n",
       "      <td>in progress</td>\n",
       "      <td>False</td>\n",
       "      <td>Beiersdorf Manufacturing Berlin GmbH</td>\n",
       "      <td>Franklinstrasse 1</td>\n",
       "      <td>10587</td>\n",
       "      <td>Berlin</td>\n",
       "      <td>Germany</td>\n",
       "    </tr>\n",
       "    <tr>\n",
       "      <th>3843</th>\n",
       "      <td>2015-11-03</td>\n",
       "      <td>0.121099</td>\n",
       "      <td>in progress</td>\n",
       "      <td>False</td>\n",
       "      <td>Beiersdorf Manufacturing Berlin GmbH</td>\n",
       "      <td>Franklinstrasse 1</td>\n",
       "      <td>10587</td>\n",
       "      <td>Berlin</td>\n",
       "      <td>Germany</td>\n",
       "    </tr>\n",
       "  </tbody>\n",
       "</table>\n",
       "</div>"
      ],
      "text/plain": [
       "            Date      Var1         Var2   Var3  \\\n",
       "392   2017-02-02  0.900758    completed   True   \n",
       "2370  2016-04-25  0.777162    completed  False   \n",
       "1344  2006-07-03  0.969716    completed  False   \n",
       "4519  2014-08-14  0.529614    completed   True   \n",
       "3932  2015-04-25  0.656680    completed  False   \n",
       "3298  2015-10-01  0.749431  in progress  False   \n",
       "1290  2018-03-31  0.564161  in progress  False   \n",
       "4967  2009-02-18  0.095276    completed   True   \n",
       "4131  2006-06-14  0.590672  in progress  False   \n",
       "3843  2015-11-03  0.121099  in progress  False   \n",
       "\n",
       "                                      Name            Address  Zip-code  \\\n",
       "392   Beiersdorf Manufacturing Berlin GmbH  Franklinstrasse 1     10587   \n",
       "2370  Beiersdorf Manufacturing Berlin GmbH  Franklinstrasse 1     10587   \n",
       "1344  Beiersdorf Manufacturing Berlin GmbH  Franklinstrasse 1     10587   \n",
       "4519  Beiersdorf Manufacturing Berlin GmbH  Franklinstrasse 1     10587   \n",
       "3932  Beiersdorf Manufacturing Berlin GmbH  Franklinstrasse 1     10587   \n",
       "3298  Beiersdorf Manufacturing Berlin GmbH  Franklinstrasse 1     10587   \n",
       "1290  Beiersdorf Manufacturing Berlin GmbH  Franklinstrasse 1     10587   \n",
       "4967  Beiersdorf Manufacturing Berlin GmbH  Franklinstrasse 1     10587   \n",
       "4131  Beiersdorf Manufacturing Berlin GmbH  Franklinstrasse 1     10587   \n",
       "3843  Beiersdorf Manufacturing Berlin GmbH  Franklinstrasse 1     10587   \n",
       "\n",
       "        City  Country  \n",
       "392   Berlin  Germany  \n",
       "2370  Berlin  Germany  \n",
       "1344  Berlin  Germany  \n",
       "4519  Berlin  Germany  \n",
       "3932  Berlin  Germany  \n",
       "3298  Berlin  Germany  \n",
       "1290  Berlin  Germany  \n",
       "4967  Berlin  Germany  \n",
       "4131  Berlin  Germany  \n",
       "3843  Berlin  Germany  "
      ]
     },
     "execution_count": 65,
     "metadata": {},
     "output_type": "execute_result"
    }
   ],
   "source": [
    "subset.sample(10)"
   ]
  },
  {
   "cell_type": "code",
   "execution_count": 66,
   "metadata": {},
   "outputs": [
    {
     "name": "stdout",
     "output_type": "stream",
     "text": [
      "Computing Beiersdorf Customer Supply GmbH ...\n",
      "Computing Beiersdorf Shared Services GmbH ...\n",
      "Computing Beiersdorf Manufacturing Hamburg GmbH ...\n",
      "Computing La Prairie Group Deutschland GmbH ...\n",
      "Computing Beiersdorf AG ...\n",
      "Computing Beiersdorf Manufacturing Waldheim GmbH ...\n",
      "Computing Beiersdorf Manufacturing Berlin GmbH ...\n"
     ]
    }
   ],
   "source": [
    "import os\n",
    "for name in data.Name.unique():\n",
    "    print(f'Computing {name} ...')\n",
    "    subset = data.loc[data.Name == name]\n",
    "    fname = f'subset_{name.replace(\" \", \"_\")}.csv'\n",
    "    filepath = os.path.join('..', 'data', 'interim', fname)\n",
    "    subset.to_csv(filepath)"
   ]
  },
  {
   "cell_type": "markdown",
   "metadata": {},
   "source": [
    "***"
   ]
  },
  {
   "cell_type": "markdown",
   "metadata": {},
   "source": [
    "# From many to one"
   ]
  },
  {
   "cell_type": "code",
   "execution_count": 67,
   "metadata": {},
   "outputs": [
    {
     "name": "stdout",
     "output_type": "stream",
     "text": [
      "subset_Beiersdorf_AG.csv\n",
      "subset_Beiersdorf_Customer_Supply_GmbH.csv\n",
      "subset_Beiersdorf_Manufacturing_Berlin_GmbH.csv\n",
      "subset_Beiersdorf_Manufacturing_Hamburg_GmbH.csv\n",
      "subset_Beiersdorf_Manufacturing_Waldheim_GmbH.csv\n",
      "subset_Beiersdorf_Shared_Services_GmbH.csv\n",
      "subset_La_Prairie_Group_Deutschland_GmbH.csv\n"
     ]
    }
   ],
   "source": [
    "!ls ../data/interim/"
   ]
  },
  {
   "cell_type": "code",
   "execution_count": 68,
   "metadata": {},
   "outputs": [],
   "source": [
    "import glob"
   ]
  },
  {
   "cell_type": "code",
   "execution_count": 69,
   "metadata": {},
   "outputs": [
    {
     "data": {
      "text/plain": [
       "['../data/interim/subset_La_Prairie_Group_Deutschland_GmbH.csv',\n",
       " '../data/interim/subset_Beiersdorf_Manufacturing_Berlin_GmbH.csv',\n",
       " '../data/interim/subset_Beiersdorf_Customer_Supply_GmbH.csv',\n",
       " '../data/interim/subset_Beiersdorf_AG.csv',\n",
       " '../data/interim/subset_Beiersdorf_Manufacturing_Waldheim_GmbH.csv',\n",
       " '../data/interim/subset_Beiersdorf_Shared_Services_GmbH.csv',\n",
       " '../data/interim/subset_Beiersdorf_Manufacturing_Hamburg_GmbH.csv']"
      ]
     },
     "execution_count": 69,
     "metadata": {},
     "output_type": "execute_result"
    }
   ],
   "source": [
    "filelist = glob.glob(os.path.join('..', 'data', 'interim', '*.csv'))\n",
    "filelist"
   ]
  },
  {
   "cell_type": "code",
   "execution_count": 70,
   "metadata": {},
   "outputs": [
    {
     "data": {
      "text/plain": [
       "(5000, 9)"
      ]
     },
     "execution_count": 70,
     "metadata": {},
     "output_type": "execute_result"
    }
   ],
   "source": [
    "dfs = []\n",
    "for f in filelist:\n",
    "    data = pd.read_csv(f, index_col=0)\n",
    "    dfs.append(data)\n",
    "fulldata = pd.concat(dfs)\n",
    "fulldata.shape"
   ]
  },
  {
   "cell_type": "code",
   "execution_count": 71,
   "metadata": {},
   "outputs": [
    {
     "data": {
      "text/html": [
       "<div>\n",
       "<style scoped>\n",
       "    .dataframe tbody tr th:only-of-type {\n",
       "        vertical-align: middle;\n",
       "    }\n",
       "\n",
       "    .dataframe tbody tr th {\n",
       "        vertical-align: top;\n",
       "    }\n",
       "\n",
       "    .dataframe thead th {\n",
       "        text-align: right;\n",
       "    }\n",
       "</style>\n",
       "<table border=\"1\" class=\"dataframe\">\n",
       "  <thead>\n",
       "    <tr style=\"text-align: right;\">\n",
       "      <th></th>\n",
       "      <th>Date</th>\n",
       "      <th>Var1</th>\n",
       "      <th>Var2</th>\n",
       "      <th>Var3</th>\n",
       "      <th>Name</th>\n",
       "      <th>Address</th>\n",
       "      <th>Zip-code</th>\n",
       "      <th>City</th>\n",
       "      <th>Country</th>\n",
       "    </tr>\n",
       "  </thead>\n",
       "  <tbody>\n",
       "    <tr>\n",
       "      <th>2674</th>\n",
       "      <td>2012-03-17</td>\n",
       "      <td>0.263135</td>\n",
       "      <td>completed</td>\n",
       "      <td>False</td>\n",
       "      <td>La Prairie Group Deutschland GmbH</td>\n",
       "      <td>Lange Straße 65</td>\n",
       "      <td>76530</td>\n",
       "      <td>Baden-BadenHamburg</td>\n",
       "      <td>Germany</td>\n",
       "    </tr>\n",
       "    <tr>\n",
       "      <th>1628</th>\n",
       "      <td>2005-12-21</td>\n",
       "      <td>0.867838</td>\n",
       "      <td>completed</td>\n",
       "      <td>False</td>\n",
       "      <td>La Prairie Group Deutschland GmbH</td>\n",
       "      <td>Lange Straße 65</td>\n",
       "      <td>76530</td>\n",
       "      <td>Baden-BadenHamburg</td>\n",
       "      <td>Germany</td>\n",
       "    </tr>\n",
       "    <tr>\n",
       "      <th>4072</th>\n",
       "      <td>2011-06-25</td>\n",
       "      <td>0.520320</td>\n",
       "      <td>in progress</td>\n",
       "      <td>False</td>\n",
       "      <td>Beiersdorf Manufacturing Hamburg GmbH</td>\n",
       "      <td>Troplowitzstrasse 10</td>\n",
       "      <td>22529</td>\n",
       "      <td>Hamburg</td>\n",
       "      <td>Germany</td>\n",
       "    </tr>\n",
       "    <tr>\n",
       "      <th>973</th>\n",
       "      <td>2017-02-09</td>\n",
       "      <td>0.508332</td>\n",
       "      <td>completed</td>\n",
       "      <td>False</td>\n",
       "      <td>La Prairie Group Deutschland GmbH</td>\n",
       "      <td>Lange Straße 65</td>\n",
       "      <td>76530</td>\n",
       "      <td>Baden-BadenHamburg</td>\n",
       "      <td>Germany</td>\n",
       "    </tr>\n",
       "    <tr>\n",
       "      <th>4292</th>\n",
       "      <td>2007-12-03</td>\n",
       "      <td>0.968425</td>\n",
       "      <td>completed</td>\n",
       "      <td>True</td>\n",
       "      <td>Beiersdorf Manufacturing Berlin GmbH</td>\n",
       "      <td>Franklinstrasse 1</td>\n",
       "      <td>10587</td>\n",
       "      <td>Berlin</td>\n",
       "      <td>Germany</td>\n",
       "    </tr>\n",
       "    <tr>\n",
       "      <th>1136</th>\n",
       "      <td>2012-03-21</td>\n",
       "      <td>0.757894</td>\n",
       "      <td>completed</td>\n",
       "      <td>True</td>\n",
       "      <td>Beiersdorf Manufacturing Hamburg GmbH</td>\n",
       "      <td>Troplowitzstrasse 10</td>\n",
       "      <td>22529</td>\n",
       "      <td>Hamburg</td>\n",
       "      <td>Germany</td>\n",
       "    </tr>\n",
       "    <tr>\n",
       "      <th>3154</th>\n",
       "      <td>2009-01-12</td>\n",
       "      <td>0.505514</td>\n",
       "      <td>in progress</td>\n",
       "      <td>False</td>\n",
       "      <td>Beiersdorf Manufacturing Berlin GmbH</td>\n",
       "      <td>Franklinstrasse 1</td>\n",
       "      <td>10587</td>\n",
       "      <td>Berlin</td>\n",
       "      <td>Germany</td>\n",
       "    </tr>\n",
       "    <tr>\n",
       "      <th>4685</th>\n",
       "      <td>2005-02-22</td>\n",
       "      <td>0.453154</td>\n",
       "      <td>completed</td>\n",
       "      <td>False</td>\n",
       "      <td>Beiersdorf Customer Supply GmbH</td>\n",
       "      <td>Unnastrasse 48</td>\n",
       "      <td>20253</td>\n",
       "      <td>Hamburg</td>\n",
       "      <td>Germany</td>\n",
       "    </tr>\n",
       "    <tr>\n",
       "      <th>3519</th>\n",
       "      <td>2012-08-31</td>\n",
       "      <td>0.831553</td>\n",
       "      <td>completed</td>\n",
       "      <td>True</td>\n",
       "      <td>Beiersdorf AG</td>\n",
       "      <td>Unnastrasse 48</td>\n",
       "      <td>20253</td>\n",
       "      <td>Hamburg</td>\n",
       "      <td>Germany</td>\n",
       "    </tr>\n",
       "    <tr>\n",
       "      <th>229</th>\n",
       "      <td>2014-08-06</td>\n",
       "      <td>0.911588</td>\n",
       "      <td>in progress</td>\n",
       "      <td>True</td>\n",
       "      <td>Beiersdorf Manufacturing Waldheim GmbH</td>\n",
       "      <td>Am Eichberg</td>\n",
       "      <td>4736</td>\n",
       "      <td>Waldheim</td>\n",
       "      <td>Germany</td>\n",
       "    </tr>\n",
       "  </tbody>\n",
       "</table>\n",
       "</div>"
      ],
      "text/plain": [
       "            Date      Var1         Var2   Var3  \\\n",
       "2674  2012-03-17  0.263135    completed  False   \n",
       "1628  2005-12-21  0.867838    completed  False   \n",
       "4072  2011-06-25  0.520320  in progress  False   \n",
       "973   2017-02-09  0.508332    completed  False   \n",
       "4292  2007-12-03  0.968425    completed   True   \n",
       "1136  2012-03-21  0.757894    completed   True   \n",
       "3154  2009-01-12  0.505514  in progress  False   \n",
       "4685  2005-02-22  0.453154    completed  False   \n",
       "3519  2012-08-31  0.831553    completed   True   \n",
       "229   2014-08-06  0.911588  in progress   True   \n",
       "\n",
       "                                        Name               Address  Zip-code  \\\n",
       "2674       La Prairie Group Deutschland GmbH       Lange Straße 65     76530   \n",
       "1628       La Prairie Group Deutschland GmbH       Lange Straße 65     76530   \n",
       "4072   Beiersdorf Manufacturing Hamburg GmbH  Troplowitzstrasse 10     22529   \n",
       "973        La Prairie Group Deutschland GmbH       Lange Straße 65     76530   \n",
       "4292    Beiersdorf Manufacturing Berlin GmbH     Franklinstrasse 1     10587   \n",
       "1136   Beiersdorf Manufacturing Hamburg GmbH  Troplowitzstrasse 10     22529   \n",
       "3154    Beiersdorf Manufacturing Berlin GmbH     Franklinstrasse 1     10587   \n",
       "4685         Beiersdorf Customer Supply GmbH        Unnastrasse 48     20253   \n",
       "3519                           Beiersdorf AG        Unnastrasse 48     20253   \n",
       "229   Beiersdorf Manufacturing Waldheim GmbH           Am Eichberg      4736   \n",
       "\n",
       "                    City  Country  \n",
       "2674  Baden-BadenHamburg  Germany  \n",
       "1628  Baden-BadenHamburg  Germany  \n",
       "4072             Hamburg  Germany  \n",
       "973   Baden-BadenHamburg  Germany  \n",
       "4292              Berlin  Germany  \n",
       "1136             Hamburg  Germany  \n",
       "3154              Berlin  Germany  \n",
       "4685             Hamburg  Germany  \n",
       "3519             Hamburg  Germany  \n",
       "229             Waldheim  Germany  "
      ]
     },
     "execution_count": 71,
     "metadata": {},
     "output_type": "execute_result"
    }
   ],
   "source": [
    "fulldata.sample(10)"
   ]
  },
  {
   "cell_type": "markdown",
   "metadata": {},
   "source": [
    "***"
   ]
  }
 ],
 "metadata": {
  "kernelspec": {
   "display_name": "Python 3",
   "language": "python",
   "name": "python3"
  },
  "language_info": {
   "codemirror_mode": {
    "name": "ipython",
    "version": 3
   },
   "file_extension": ".py",
   "mimetype": "text/x-python",
   "name": "python",
   "nbconvert_exporter": "python",
   "pygments_lexer": "ipython3",
   "version": "3.6.7"
  }
 },
 "nbformat": 4,
 "nbformat_minor": 2
}
