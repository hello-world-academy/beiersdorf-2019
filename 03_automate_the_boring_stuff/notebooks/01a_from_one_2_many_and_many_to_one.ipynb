{
 "cells": [
  {
   "cell_type": "markdown",
   "metadata": {},
   "source": [
    "# From one dataset to many"
   ]
  },
  {
   "cell_type": "markdown",
   "metadata": {},
   "source": [
    "**Load the data**"
   ]
  },
  {
   "cell_type": "code",
   "execution_count": 1,
   "metadata": {},
   "outputs": [
    {
     "data": {
      "text/plain": [
       "(5000, 9)"
      ]
     },
     "execution_count": 1,
     "metadata": {},
     "output_type": "execute_result"
    }
   ],
   "source": [
    "import pandas as pd\n",
    "data = pd.read_csv('../data/fake_beiersdorf_data.csv')\n",
    "data.shape"
   ]
  },
  {
   "cell_type": "code",
   "execution_count": 2,
   "metadata": {},
   "outputs": [
    {
     "data": {
      "text/html": [
       "<div>\n",
       "<style scoped>\n",
       "    .dataframe tbody tr th:only-of-type {\n",
       "        vertical-align: middle;\n",
       "    }\n",
       "\n",
       "    .dataframe tbody tr th {\n",
       "        vertical-align: top;\n",
       "    }\n",
       "\n",
       "    .dataframe thead th {\n",
       "        text-align: right;\n",
       "    }\n",
       "</style>\n",
       "<table border=\"1\" class=\"dataframe\">\n",
       "  <thead>\n",
       "    <tr style=\"text-align: right;\">\n",
       "      <th></th>\n",
       "      <th>Date</th>\n",
       "      <th>Var1</th>\n",
       "      <th>Var2</th>\n",
       "      <th>Var3</th>\n",
       "      <th>Name</th>\n",
       "      <th>Address</th>\n",
       "      <th>Zip-code</th>\n",
       "      <th>City</th>\n",
       "      <th>Country</th>\n",
       "    </tr>\n",
       "  </thead>\n",
       "  <tbody>\n",
       "    <tr>\n",
       "      <th>0</th>\n",
       "      <td>2011-11-20</td>\n",
       "      <td>0.764554</td>\n",
       "      <td>completed</td>\n",
       "      <td>True</td>\n",
       "      <td>Beiersdorf Customer Supply GmbH</td>\n",
       "      <td>Unnastrasse 48</td>\n",
       "      <td>20253</td>\n",
       "      <td>Hamburg</td>\n",
       "      <td>Germany</td>\n",
       "    </tr>\n",
       "    <tr>\n",
       "      <th>1</th>\n",
       "      <td>2006-11-27</td>\n",
       "      <td>0.380247</td>\n",
       "      <td>in progress</td>\n",
       "      <td>False</td>\n",
       "      <td>Beiersdorf Shared Services GmbH</td>\n",
       "      <td>Quickbornstrasse 24</td>\n",
       "      <td>20253</td>\n",
       "      <td>Hamburg</td>\n",
       "      <td>Germany</td>\n",
       "    </tr>\n",
       "    <tr>\n",
       "      <th>2</th>\n",
       "      <td>2007-09-29</td>\n",
       "      <td>0.807108</td>\n",
       "      <td>completed</td>\n",
       "      <td>False</td>\n",
       "      <td>Beiersdorf Customer Supply GmbH</td>\n",
       "      <td>Unnastrasse 48</td>\n",
       "      <td>20253</td>\n",
       "      <td>Hamburg</td>\n",
       "      <td>Germany</td>\n",
       "    </tr>\n",
       "    <tr>\n",
       "      <th>3</th>\n",
       "      <td>2006-09-05</td>\n",
       "      <td>0.649908</td>\n",
       "      <td>in progress</td>\n",
       "      <td>True</td>\n",
       "      <td>Beiersdorf Manufacturing Hamburg GmbH</td>\n",
       "      <td>Troplowitzstrasse 10</td>\n",
       "      <td>22529</td>\n",
       "      <td>Hamburg</td>\n",
       "      <td>Germany</td>\n",
       "    </tr>\n",
       "    <tr>\n",
       "      <th>4</th>\n",
       "      <td>2014-12-12</td>\n",
       "      <td>0.951206</td>\n",
       "      <td>in progress</td>\n",
       "      <td>True</td>\n",
       "      <td>Beiersdorf Shared Services GmbH</td>\n",
       "      <td>Quickbornstrasse 24</td>\n",
       "      <td>20253</td>\n",
       "      <td>Hamburg</td>\n",
       "      <td>Germany</td>\n",
       "    </tr>\n",
       "  </tbody>\n",
       "</table>\n",
       "</div>"
      ],
      "text/plain": [
       "         Date      Var1         Var2   Var3  \\\n",
       "0  2011-11-20  0.764554    completed   True   \n",
       "1  2006-11-27  0.380247  in progress  False   \n",
       "2  2007-09-29  0.807108    completed  False   \n",
       "3  2006-09-05  0.649908  in progress   True   \n",
       "4  2014-12-12  0.951206  in progress   True   \n",
       "\n",
       "                                    Name               Address  Zip-code  \\\n",
       "0        Beiersdorf Customer Supply GmbH        Unnastrasse 48     20253   \n",
       "1        Beiersdorf Shared Services GmbH   Quickbornstrasse 24     20253   \n",
       "2        Beiersdorf Customer Supply GmbH        Unnastrasse 48     20253   \n",
       "3  Beiersdorf Manufacturing Hamburg GmbH  Troplowitzstrasse 10     22529   \n",
       "4        Beiersdorf Shared Services GmbH   Quickbornstrasse 24     20253   \n",
       "\n",
       "      City  Country  \n",
       "0  Hamburg  Germany  \n",
       "1  Hamburg  Germany  \n",
       "2  Hamburg  Germany  \n",
       "3  Hamburg  Germany  \n",
       "4  Hamburg  Germany  "
      ]
     },
     "execution_count": 2,
     "metadata": {},
     "output_type": "execute_result"
    }
   ],
   "source": [
    "data.head()"
   ]
  },
  {
   "cell_type": "markdown",
   "metadata": {},
   "source": [
    "## Split large dataset into many small ones based on the variable `Name`"
   ]
  },
  {
   "cell_type": "code",
   "execution_count": 3,
   "metadata": {},
   "outputs": [
    {
     "data": {
      "text/plain": [
       "0              Beiersdorf Customer Supply GmbH\n",
       "1              Beiersdorf Shared Services GmbH\n",
       "2              Beiersdorf Customer Supply GmbH\n",
       "3        Beiersdorf Manufacturing Hamburg GmbH\n",
       "4              Beiersdorf Shared Services GmbH\n",
       "5              Beiersdorf Customer Supply GmbH\n",
       "6              Beiersdorf Customer Supply GmbH\n",
       "7              Beiersdorf Shared Services GmbH\n",
       "8            La Prairie Group Deutschland GmbH\n",
       "9              Beiersdorf Shared Services GmbH\n",
       "10                               Beiersdorf AG\n",
       "11      Beiersdorf Manufacturing Waldheim GmbH\n",
       "12                               Beiersdorf AG\n",
       "13      Beiersdorf Manufacturing Waldheim GmbH\n",
       "14           La Prairie Group Deutschland GmbH\n",
       "15       Beiersdorf Manufacturing Hamburg GmbH\n",
       "16             Beiersdorf Customer Supply GmbH\n",
       "17      Beiersdorf Manufacturing Waldheim GmbH\n",
       "18        Beiersdorf Manufacturing Berlin GmbH\n",
       "19        Beiersdorf Manufacturing Berlin GmbH\n",
       "20             Beiersdorf Customer Supply GmbH\n",
       "21             Beiersdorf Shared Services GmbH\n",
       "22       Beiersdorf Manufacturing Hamburg GmbH\n",
       "23                               Beiersdorf AG\n",
       "24       Beiersdorf Manufacturing Hamburg GmbH\n",
       "25      Beiersdorf Manufacturing Waldheim GmbH\n",
       "26      Beiersdorf Manufacturing Waldheim GmbH\n",
       "27             Beiersdorf Customer Supply GmbH\n",
       "28      Beiersdorf Manufacturing Waldheim GmbH\n",
       "29             Beiersdorf Shared Services GmbH\n",
       "                         ...                  \n",
       "4970           Beiersdorf Shared Services GmbH\n",
       "4971           Beiersdorf Shared Services GmbH\n",
       "4972     Beiersdorf Manufacturing Hamburg GmbH\n",
       "4973     Beiersdorf Manufacturing Hamburg GmbH\n",
       "4974      Beiersdorf Manufacturing Berlin GmbH\n",
       "4975           Beiersdorf Customer Supply GmbH\n",
       "4976                             Beiersdorf AG\n",
       "4977         La Prairie Group Deutschland GmbH\n",
       "4978           Beiersdorf Shared Services GmbH\n",
       "4979           Beiersdorf Shared Services GmbH\n",
       "4980           Beiersdorf Customer Supply GmbH\n",
       "4981      Beiersdorf Manufacturing Berlin GmbH\n",
       "4982           Beiersdorf Shared Services GmbH\n",
       "4983         La Prairie Group Deutschland GmbH\n",
       "4984      Beiersdorf Manufacturing Berlin GmbH\n",
       "4985     Beiersdorf Manufacturing Hamburg GmbH\n",
       "4986           Beiersdorf Shared Services GmbH\n",
       "4987           Beiersdorf Shared Services GmbH\n",
       "4988    Beiersdorf Manufacturing Waldheim GmbH\n",
       "4989                             Beiersdorf AG\n",
       "4990    Beiersdorf Manufacturing Waldheim GmbH\n",
       "4991      Beiersdorf Manufacturing Berlin GmbH\n",
       "4992      Beiersdorf Manufacturing Berlin GmbH\n",
       "4993                             Beiersdorf AG\n",
       "4994      Beiersdorf Manufacturing Berlin GmbH\n",
       "4995      Beiersdorf Manufacturing Berlin GmbH\n",
       "4996           Beiersdorf Customer Supply GmbH\n",
       "4997         La Prairie Group Deutschland GmbH\n",
       "4998           Beiersdorf Customer Supply GmbH\n",
       "4999           Beiersdorf Customer Supply GmbH\n",
       "Name: Name, Length: 5000, dtype: object"
      ]
     },
     "execution_count": 3,
     "metadata": {},
     "output_type": "execute_result"
    }
   ],
   "source": [
    "data.Name"
   ]
  },
  {
   "cell_type": "code",
   "execution_count": 4,
   "metadata": {},
   "outputs": [
    {
     "data": {
      "text/plain": [
       "array(['Beiersdorf Customer Supply GmbH',\n",
       "       'Beiersdorf Shared Services GmbH',\n",
       "       'Beiersdorf Manufacturing Hamburg GmbH',\n",
       "       'La Prairie Group Deutschland GmbH', 'Beiersdorf AG',\n",
       "       'Beiersdorf Manufacturing Waldheim GmbH',\n",
       "       'Beiersdorf Manufacturing Berlin GmbH'], dtype=object)"
      ]
     },
     "execution_count": 4,
     "metadata": {},
     "output_type": "execute_result"
    }
   ],
   "source": [
    "data.Name.unique()"
   ]
  },
  {
   "cell_type": "code",
   "execution_count": 5,
   "metadata": {},
   "outputs": [
    {
     "data": {
      "text/plain": [
       "7"
      ]
     },
     "execution_count": 5,
     "metadata": {},
     "output_type": "execute_result"
    }
   ],
   "source": [
    "data.Name.nunique()"
   ]
  },
  {
   "cell_type": "code",
   "execution_count": 6,
   "metadata": {},
   "outputs": [
    {
     "name": "stdout",
     "output_type": "stream",
     "text": [
      "Computing Beiersdorf Customer Supply GmbH ...\n",
      "Computing Beiersdorf Shared Services GmbH ...\n",
      "Computing Beiersdorf Manufacturing Hamburg GmbH ...\n",
      "Computing La Prairie Group Deutschland GmbH ...\n",
      "Computing Beiersdorf AG ...\n",
      "Computing Beiersdorf Manufacturing Waldheim GmbH ...\n",
      "Computing Beiersdorf Manufacturing Berlin GmbH ...\n"
     ]
    }
   ],
   "source": [
    "for name in data.Name.unique():\n",
    "    print(f'Computing {name} ...')\n",
    "    subset = data.loc[data.Name == name]"
   ]
  },
  {
   "cell_type": "code",
   "execution_count": 7,
   "metadata": {},
   "outputs": [
    {
     "data": {
      "text/html": [
       "<div>\n",
       "<style scoped>\n",
       "    .dataframe tbody tr th:only-of-type {\n",
       "        vertical-align: middle;\n",
       "    }\n",
       "\n",
       "    .dataframe tbody tr th {\n",
       "        vertical-align: top;\n",
       "    }\n",
       "\n",
       "    .dataframe thead th {\n",
       "        text-align: right;\n",
       "    }\n",
       "</style>\n",
       "<table border=\"1\" class=\"dataframe\">\n",
       "  <thead>\n",
       "    <tr style=\"text-align: right;\">\n",
       "      <th></th>\n",
       "      <th>Date</th>\n",
       "      <th>Var1</th>\n",
       "      <th>Var2</th>\n",
       "      <th>Var3</th>\n",
       "      <th>Name</th>\n",
       "      <th>Address</th>\n",
       "      <th>Zip-code</th>\n",
       "      <th>City</th>\n",
       "      <th>Country</th>\n",
       "    </tr>\n",
       "  </thead>\n",
       "  <tbody>\n",
       "    <tr>\n",
       "      <th>2806</th>\n",
       "      <td>2010-05-28</td>\n",
       "      <td>0.843268</td>\n",
       "      <td>in progress</td>\n",
       "      <td>True</td>\n",
       "      <td>Beiersdorf Manufacturing Berlin GmbH</td>\n",
       "      <td>Franklinstrasse 1</td>\n",
       "      <td>10587</td>\n",
       "      <td>Berlin</td>\n",
       "      <td>Germany</td>\n",
       "    </tr>\n",
       "    <tr>\n",
       "      <th>3729</th>\n",
       "      <td>2010-03-19</td>\n",
       "      <td>0.319698</td>\n",
       "      <td>in progress</td>\n",
       "      <td>False</td>\n",
       "      <td>Beiersdorf Manufacturing Berlin GmbH</td>\n",
       "      <td>Franklinstrasse 1</td>\n",
       "      <td>10587</td>\n",
       "      <td>Berlin</td>\n",
       "      <td>Germany</td>\n",
       "    </tr>\n",
       "    <tr>\n",
       "      <th>1292</th>\n",
       "      <td>2010-10-06</td>\n",
       "      <td>0.065060</td>\n",
       "      <td>in progress</td>\n",
       "      <td>False</td>\n",
       "      <td>Beiersdorf Manufacturing Berlin GmbH</td>\n",
       "      <td>Franklinstrasse 1</td>\n",
       "      <td>10587</td>\n",
       "      <td>Berlin</td>\n",
       "      <td>Germany</td>\n",
       "    </tr>\n",
       "    <tr>\n",
       "      <th>113</th>\n",
       "      <td>2016-01-01</td>\n",
       "      <td>0.806292</td>\n",
       "      <td>in progress</td>\n",
       "      <td>False</td>\n",
       "      <td>Beiersdorf Manufacturing Berlin GmbH</td>\n",
       "      <td>Franklinstrasse 1</td>\n",
       "      <td>10587</td>\n",
       "      <td>Berlin</td>\n",
       "      <td>Germany</td>\n",
       "    </tr>\n",
       "    <tr>\n",
       "      <th>2991</th>\n",
       "      <td>2011-01-15</td>\n",
       "      <td>0.410043</td>\n",
       "      <td>in progress</td>\n",
       "      <td>False</td>\n",
       "      <td>Beiersdorf Manufacturing Berlin GmbH</td>\n",
       "      <td>Franklinstrasse 1</td>\n",
       "      <td>10587</td>\n",
       "      <td>Berlin</td>\n",
       "      <td>Germany</td>\n",
       "    </tr>\n",
       "    <tr>\n",
       "      <th>4466</th>\n",
       "      <td>2017-04-08</td>\n",
       "      <td>0.464796</td>\n",
       "      <td>completed</td>\n",
       "      <td>False</td>\n",
       "      <td>Beiersdorf Manufacturing Berlin GmbH</td>\n",
       "      <td>Franklinstrasse 1</td>\n",
       "      <td>10587</td>\n",
       "      <td>Berlin</td>\n",
       "      <td>Germany</td>\n",
       "    </tr>\n",
       "    <tr>\n",
       "      <th>3466</th>\n",
       "      <td>2011-12-18</td>\n",
       "      <td>0.655877</td>\n",
       "      <td>completed</td>\n",
       "      <td>False</td>\n",
       "      <td>Beiersdorf Manufacturing Berlin GmbH</td>\n",
       "      <td>Franklinstrasse 1</td>\n",
       "      <td>10587</td>\n",
       "      <td>Berlin</td>\n",
       "      <td>Germany</td>\n",
       "    </tr>\n",
       "    <tr>\n",
       "      <th>581</th>\n",
       "      <td>2018-08-26</td>\n",
       "      <td>0.473276</td>\n",
       "      <td>completed</td>\n",
       "      <td>False</td>\n",
       "      <td>Beiersdorf Manufacturing Berlin GmbH</td>\n",
       "      <td>Franklinstrasse 1</td>\n",
       "      <td>10587</td>\n",
       "      <td>Berlin</td>\n",
       "      <td>Germany</td>\n",
       "    </tr>\n",
       "    <tr>\n",
       "      <th>1239</th>\n",
       "      <td>2014-02-08</td>\n",
       "      <td>0.879735</td>\n",
       "      <td>completed</td>\n",
       "      <td>True</td>\n",
       "      <td>Beiersdorf Manufacturing Berlin GmbH</td>\n",
       "      <td>Franklinstrasse 1</td>\n",
       "      <td>10587</td>\n",
       "      <td>Berlin</td>\n",
       "      <td>Germany</td>\n",
       "    </tr>\n",
       "    <tr>\n",
       "      <th>4425</th>\n",
       "      <td>2009-08-11</td>\n",
       "      <td>0.135796</td>\n",
       "      <td>completed</td>\n",
       "      <td>False</td>\n",
       "      <td>Beiersdorf Manufacturing Berlin GmbH</td>\n",
       "      <td>Franklinstrasse 1</td>\n",
       "      <td>10587</td>\n",
       "      <td>Berlin</td>\n",
       "      <td>Germany</td>\n",
       "    </tr>\n",
       "  </tbody>\n",
       "</table>\n",
       "</div>"
      ],
      "text/plain": [
       "            Date      Var1         Var2   Var3  \\\n",
       "2806  2010-05-28  0.843268  in progress   True   \n",
       "3729  2010-03-19  0.319698  in progress  False   \n",
       "1292  2010-10-06  0.065060  in progress  False   \n",
       "113   2016-01-01  0.806292  in progress  False   \n",
       "2991  2011-01-15  0.410043  in progress  False   \n",
       "4466  2017-04-08  0.464796    completed  False   \n",
       "3466  2011-12-18  0.655877    completed  False   \n",
       "581   2018-08-26  0.473276    completed  False   \n",
       "1239  2014-02-08  0.879735    completed   True   \n",
       "4425  2009-08-11  0.135796    completed  False   \n",
       "\n",
       "                                      Name            Address  Zip-code  \\\n",
       "2806  Beiersdorf Manufacturing Berlin GmbH  Franklinstrasse 1     10587   \n",
       "3729  Beiersdorf Manufacturing Berlin GmbH  Franklinstrasse 1     10587   \n",
       "1292  Beiersdorf Manufacturing Berlin GmbH  Franklinstrasse 1     10587   \n",
       "113   Beiersdorf Manufacturing Berlin GmbH  Franklinstrasse 1     10587   \n",
       "2991  Beiersdorf Manufacturing Berlin GmbH  Franklinstrasse 1     10587   \n",
       "4466  Beiersdorf Manufacturing Berlin GmbH  Franklinstrasse 1     10587   \n",
       "3466  Beiersdorf Manufacturing Berlin GmbH  Franklinstrasse 1     10587   \n",
       "581   Beiersdorf Manufacturing Berlin GmbH  Franklinstrasse 1     10587   \n",
       "1239  Beiersdorf Manufacturing Berlin GmbH  Franklinstrasse 1     10587   \n",
       "4425  Beiersdorf Manufacturing Berlin GmbH  Franklinstrasse 1     10587   \n",
       "\n",
       "        City  Country  \n",
       "2806  Berlin  Germany  \n",
       "3729  Berlin  Germany  \n",
       "1292  Berlin  Germany  \n",
       "113   Berlin  Germany  \n",
       "2991  Berlin  Germany  \n",
       "4466  Berlin  Germany  \n",
       "3466  Berlin  Germany  \n",
       "581   Berlin  Germany  \n",
       "1239  Berlin  Germany  \n",
       "4425  Berlin  Germany  "
      ]
     },
     "execution_count": 7,
     "metadata": {},
     "output_type": "execute_result"
    }
   ],
   "source": [
    "subset.sample(10)"
   ]
  },
  {
   "cell_type": "code",
   "execution_count": 8,
   "metadata": {},
   "outputs": [
    {
     "name": "stdout",
     "output_type": "stream",
     "text": [
      "Computing Beiersdorf Customer Supply GmbH ...\n",
      "Computing Beiersdorf Shared Services GmbH ...\n",
      "Computing Beiersdorf Manufacturing Hamburg GmbH ...\n",
      "Computing La Prairie Group Deutschland GmbH ...\n",
      "Computing Beiersdorf AG ...\n",
      "Computing Beiersdorf Manufacturing Waldheim GmbH ...\n",
      "Computing Beiersdorf Manufacturing Berlin GmbH ...\n"
     ]
    }
   ],
   "source": [
    "import os\n",
    "for name in data.Name.unique():\n",
    "    print(f'Computing {name} ...')\n",
    "    subset = data.loc[data.Name == name]\n",
    "    fname = f'subset_{name.replace(\" \", \"_\")}.csv'\n",
    "    filepath = os.path.join('..', 'data', 'interim', fname)\n",
    "    subset.to_csv(filepath, index=False)"
   ]
  },
  {
   "cell_type": "markdown",
   "metadata": {},
   "source": [
    "***"
   ]
  },
  {
   "cell_type": "markdown",
   "metadata": {},
   "source": [
    "# From many to one"
   ]
  },
  {
   "cell_type": "code",
   "execution_count": 9,
   "metadata": {},
   "outputs": [
    {
     "name": "stdout",
     "output_type": "stream",
     "text": [
      "subset_Beiersdorf_AG.csv\n",
      "subset_Beiersdorf_Customer_Supply_GmbH.csv\n",
      "subset_Beiersdorf_Manufacturing_Berlin_GmbH.csv\n",
      "subset_Beiersdorf_Manufacturing_Hamburg_GmbH.csv\n",
      "subset_Beiersdorf_Manufacturing_Waldheim_GmbH.csv\n",
      "subset_Beiersdorf_Shared_Services_GmbH.csv\n",
      "subset_La_Prairie_Group_Deutschland_GmbH.csv\n"
     ]
    }
   ],
   "source": [
    "!ls ../data/interim/"
   ]
  },
  {
   "cell_type": "code",
   "execution_count": 10,
   "metadata": {},
   "outputs": [],
   "source": [
    "import glob"
   ]
  },
  {
   "cell_type": "code",
   "execution_count": 11,
   "metadata": {},
   "outputs": [
    {
     "data": {
      "text/plain": [
       "['../data/interim/subset_La_Prairie_Group_Deutschland_GmbH.csv',\n",
       " '../data/interim/subset_Beiersdorf_Manufacturing_Berlin_GmbH.csv',\n",
       " '../data/interim/subset_Beiersdorf_Customer_Supply_GmbH.csv',\n",
       " '../data/interim/subset_Beiersdorf_AG.csv',\n",
       " '../data/interim/subset_Beiersdorf_Manufacturing_Waldheim_GmbH.csv',\n",
       " '../data/interim/subset_Beiersdorf_Shared_Services_GmbH.csv',\n",
       " '../data/interim/subset_Beiersdorf_Manufacturing_Hamburg_GmbH.csv']"
      ]
     },
     "execution_count": 11,
     "metadata": {},
     "output_type": "execute_result"
    }
   ],
   "source": [
    "filelist = glob.glob(os.path.join('..', 'data', 'interim', '*.csv'))\n",
    "filelist"
   ]
  },
  {
   "cell_type": "code",
   "execution_count": 12,
   "metadata": {},
   "outputs": [
    {
     "data": {
      "text/plain": [
       "(5000, 9)"
      ]
     },
     "execution_count": 12,
     "metadata": {},
     "output_type": "execute_result"
    }
   ],
   "source": [
    "dfs = []\n",
    "for f in filelist:\n",
    "    data = pd.read_csv(f)\n",
    "    dfs.append(data)\n",
    "fulldata = pd.concat(dfs)\n",
    "fulldata.shape"
   ]
  },
  {
   "cell_type": "code",
   "execution_count": 13,
   "metadata": {},
   "outputs": [
    {
     "data": {
      "text/html": [
       "<div>\n",
       "<style scoped>\n",
       "    .dataframe tbody tr th:only-of-type {\n",
       "        vertical-align: middle;\n",
       "    }\n",
       "\n",
       "    .dataframe tbody tr th {\n",
       "        vertical-align: top;\n",
       "    }\n",
       "\n",
       "    .dataframe thead th {\n",
       "        text-align: right;\n",
       "    }\n",
       "</style>\n",
       "<table border=\"1\" class=\"dataframe\">\n",
       "  <thead>\n",
       "    <tr style=\"text-align: right;\">\n",
       "      <th></th>\n",
       "      <th>Date</th>\n",
       "      <th>Var1</th>\n",
       "      <th>Var2</th>\n",
       "      <th>Var3</th>\n",
       "      <th>Name</th>\n",
       "      <th>Address</th>\n",
       "      <th>Zip-code</th>\n",
       "      <th>City</th>\n",
       "      <th>Country</th>\n",
       "    </tr>\n",
       "  </thead>\n",
       "  <tbody>\n",
       "    <tr>\n",
       "      <th>57</th>\n",
       "      <td>2017-08-23</td>\n",
       "      <td>0.497905</td>\n",
       "      <td>completed</td>\n",
       "      <td>False</td>\n",
       "      <td>Beiersdorf Manufacturing Hamburg GmbH</td>\n",
       "      <td>Troplowitzstrasse 10</td>\n",
       "      <td>22529</td>\n",
       "      <td>Hamburg</td>\n",
       "      <td>Germany</td>\n",
       "    </tr>\n",
       "    <tr>\n",
       "      <th>95</th>\n",
       "      <td>2016-06-24</td>\n",
       "      <td>0.929574</td>\n",
       "      <td>in progress</td>\n",
       "      <td>True</td>\n",
       "      <td>Beiersdorf Shared Services GmbH</td>\n",
       "      <td>Quickbornstrasse 24</td>\n",
       "      <td>20253</td>\n",
       "      <td>Hamburg</td>\n",
       "      <td>Germany</td>\n",
       "    </tr>\n",
       "    <tr>\n",
       "      <th>268</th>\n",
       "      <td>2013-04-05</td>\n",
       "      <td>0.964490</td>\n",
       "      <td>completed</td>\n",
       "      <td>True</td>\n",
       "      <td>Beiersdorf AG</td>\n",
       "      <td>Unnastrasse 48</td>\n",
       "      <td>20253</td>\n",
       "      <td>Hamburg</td>\n",
       "      <td>Germany</td>\n",
       "    </tr>\n",
       "    <tr>\n",
       "      <th>436</th>\n",
       "      <td>2018-07-22</td>\n",
       "      <td>0.034841</td>\n",
       "      <td>in progress</td>\n",
       "      <td>False</td>\n",
       "      <td>Beiersdorf AG</td>\n",
       "      <td>Unnastrasse 48</td>\n",
       "      <td>20253</td>\n",
       "      <td>Hamburg</td>\n",
       "      <td>Germany</td>\n",
       "    </tr>\n",
       "    <tr>\n",
       "      <th>453</th>\n",
       "      <td>2016-01-22</td>\n",
       "      <td>0.600000</td>\n",
       "      <td>in progress</td>\n",
       "      <td>False</td>\n",
       "      <td>Beiersdorf Shared Services GmbH</td>\n",
       "      <td>Quickbornstrasse 24</td>\n",
       "      <td>20253</td>\n",
       "      <td>Hamburg</td>\n",
       "      <td>Germany</td>\n",
       "    </tr>\n",
       "    <tr>\n",
       "      <th>223</th>\n",
       "      <td>2016-12-25</td>\n",
       "      <td>0.128373</td>\n",
       "      <td>in progress</td>\n",
       "      <td>True</td>\n",
       "      <td>La Prairie Group Deutschland GmbH</td>\n",
       "      <td>Lange Straße 65</td>\n",
       "      <td>76530</td>\n",
       "      <td>Baden-BadenHamburg</td>\n",
       "      <td>Germany</td>\n",
       "    </tr>\n",
       "    <tr>\n",
       "      <th>52</th>\n",
       "      <td>2015-07-04</td>\n",
       "      <td>0.454127</td>\n",
       "      <td>completed</td>\n",
       "      <td>False</td>\n",
       "      <td>Beiersdorf Manufacturing Hamburg GmbH</td>\n",
       "      <td>Troplowitzstrasse 10</td>\n",
       "      <td>22529</td>\n",
       "      <td>Hamburg</td>\n",
       "      <td>Germany</td>\n",
       "    </tr>\n",
       "    <tr>\n",
       "      <th>3</th>\n",
       "      <td>2017-02-15</td>\n",
       "      <td>0.628261</td>\n",
       "      <td>completed</td>\n",
       "      <td>True</td>\n",
       "      <td>Beiersdorf Shared Services GmbH</td>\n",
       "      <td>Quickbornstrasse 24</td>\n",
       "      <td>20253</td>\n",
       "      <td>Hamburg</td>\n",
       "      <td>Germany</td>\n",
       "    </tr>\n",
       "    <tr>\n",
       "      <th>328</th>\n",
       "      <td>2018-06-06</td>\n",
       "      <td>0.488463</td>\n",
       "      <td>completed</td>\n",
       "      <td>False</td>\n",
       "      <td>Beiersdorf Shared Services GmbH</td>\n",
       "      <td>Quickbornstrasse 24</td>\n",
       "      <td>20253</td>\n",
       "      <td>Hamburg</td>\n",
       "      <td>Germany</td>\n",
       "    </tr>\n",
       "    <tr>\n",
       "      <th>532</th>\n",
       "      <td>2017-07-17</td>\n",
       "      <td>0.564967</td>\n",
       "      <td>in progress</td>\n",
       "      <td>False</td>\n",
       "      <td>Beiersdorf Manufacturing Hamburg GmbH</td>\n",
       "      <td>Troplowitzstrasse 10</td>\n",
       "      <td>22529</td>\n",
       "      <td>Hamburg</td>\n",
       "      <td>Germany</td>\n",
       "    </tr>\n",
       "  </tbody>\n",
       "</table>\n",
       "</div>"
      ],
      "text/plain": [
       "           Date      Var1         Var2   Var3  \\\n",
       "57   2017-08-23  0.497905    completed  False   \n",
       "95   2016-06-24  0.929574  in progress   True   \n",
       "268  2013-04-05  0.964490    completed   True   \n",
       "436  2018-07-22  0.034841  in progress  False   \n",
       "453  2016-01-22  0.600000  in progress  False   \n",
       "223  2016-12-25  0.128373  in progress   True   \n",
       "52   2015-07-04  0.454127    completed  False   \n",
       "3    2017-02-15  0.628261    completed   True   \n",
       "328  2018-06-06  0.488463    completed  False   \n",
       "532  2017-07-17  0.564967  in progress  False   \n",
       "\n",
       "                                      Name               Address  Zip-code  \\\n",
       "57   Beiersdorf Manufacturing Hamburg GmbH  Troplowitzstrasse 10     22529   \n",
       "95         Beiersdorf Shared Services GmbH   Quickbornstrasse 24     20253   \n",
       "268                          Beiersdorf AG        Unnastrasse 48     20253   \n",
       "436                          Beiersdorf AG        Unnastrasse 48     20253   \n",
       "453        Beiersdorf Shared Services GmbH   Quickbornstrasse 24     20253   \n",
       "223      La Prairie Group Deutschland GmbH       Lange Straße 65     76530   \n",
       "52   Beiersdorf Manufacturing Hamburg GmbH  Troplowitzstrasse 10     22529   \n",
       "3          Beiersdorf Shared Services GmbH   Quickbornstrasse 24     20253   \n",
       "328        Beiersdorf Shared Services GmbH   Quickbornstrasse 24     20253   \n",
       "532  Beiersdorf Manufacturing Hamburg GmbH  Troplowitzstrasse 10     22529   \n",
       "\n",
       "                   City  Country  \n",
       "57              Hamburg  Germany  \n",
       "95              Hamburg  Germany  \n",
       "268             Hamburg  Germany  \n",
       "436             Hamburg  Germany  \n",
       "453             Hamburg  Germany  \n",
       "223  Baden-BadenHamburg  Germany  \n",
       "52              Hamburg  Germany  \n",
       "3               Hamburg  Germany  \n",
       "328             Hamburg  Germany  \n",
       "532             Hamburg  Germany  "
      ]
     },
     "execution_count": 13,
     "metadata": {},
     "output_type": "execute_result"
    }
   ],
   "source": [
    "fulldata.sample(10)"
   ]
  },
  {
   "cell_type": "markdown",
   "metadata": {},
   "source": [
    "***"
   ]
  }
 ],
 "metadata": {
  "kernelspec": {
   "display_name": "Python 3",
   "language": "python",
   "name": "python3"
  },
  "language_info": {
   "codemirror_mode": {
    "name": "ipython",
    "version": 3
   },
   "file_extension": ".py",
   "mimetype": "text/x-python",
   "name": "python",
   "nbconvert_exporter": "python",
   "pygments_lexer": "ipython3",
   "version": "3.6.7"
  }
 },
 "nbformat": 4,
 "nbformat_minor": 2
}
