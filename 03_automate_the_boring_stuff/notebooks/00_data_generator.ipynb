{
 "cells": [
  {
   "cell_type": "markdown",
   "metadata": {},
   "source": [
    "# Tabular data examples"
   ]
  },
  {
   "cell_type": "code",
   "execution_count": 22,
   "metadata": {},
   "outputs": [],
   "source": [
    "import numpy as np\n",
    "import pandas as pd"
   ]
  },
  {
   "cell_type": "markdown",
   "metadata": {},
   "source": [
    "## Generate data"
   ]
  },
  {
   "cell_type": "code",
   "execution_count": 25,
   "metadata": {},
   "outputs": [],
   "source": [
    "N = 5000"
   ]
  },
  {
   "cell_type": "code",
   "execution_count": 26,
   "metadata": {},
   "outputs": [
    {
     "data": {
      "text/plain": [
       "DatetimeIndex(['2018-08-31', '2018-09-01', '2018-09-02', '2018-09-03',\n",
       "               '2018-09-04', '2018-09-05', '2018-09-06', '2018-09-07',\n",
       "               '2018-09-08', '2018-09-09'],\n",
       "              dtype='datetime64[ns]', freq='D')"
      ]
     },
     "execution_count": 26,
     "metadata": {},
     "output_type": "execute_result"
    }
   ],
   "source": [
    "dates_range = pd.date_range(start='1/1/2005', periods=N)\n",
    "dates_range[-10:]"
   ]
  },
  {
   "cell_type": "code",
   "execution_count": 97,
   "metadata": {},
   "outputs": [],
   "source": [
    "date = pd.to_datetime(np.random.choice(dates_range, N))\n",
    "region = None\n",
    "var1 = np.random.random(N)\n",
    "var2 = np.random.choice(['in progress', 'completed'], N)\n",
    "var3 = np.random.choice([True, False], N)\n",
    "rand_table = pd.DataFrame({'Date':date, 'Var1':var1, 'Var2':var2, 'Var3':var3})"
   ]
  },
  {
   "cell_type": "code",
   "execution_count": 98,
   "metadata": {},
   "outputs": [],
   "source": [
    "name = ['Beiersdorf AG', 'Beiersdorf Customer Supply GmbH', 'Beiersdorf Manufacturing Berlin GmbH', \n",
    "       'Beiersdorf Manufacturing Hamburg GmbH', 'Beiersdorf Manufacturing Waldheim GmbH',\"Beiersdorf Shared Services GmbH\",\n",
    "       \"La Prairie Group Deutschland GmbH\", \"WINGMAN-STUDIOS GmbH\"]\n",
    "address = ['Unnastrasse 48', 'Unnastrasse 48', 'Franklinstrasse 1', 'Troplowitzstrasse 10', 'Am Eichberg', \n",
    "          'Quickbornstrasse 24', 'Lange Straße 65', 'Troplowitzstrasse 10']\n",
    "zip_code = ['20253', '20253', '10587', '22529', '04736', '20253', '76530', '22529']\n",
    "city = ['Hamburg', 'Hamburg', 'Berlin', 'Hamburg','Waldheim', 'Hamburg', 'Baden-Baden' 'Hamburg']\n",
    "country = ['Germany'] * len(city)\n",
    "\n",
    "zipped = list(zip(name, address, zip_code, city, country))\n",
    "idx = np.random.choice(range(len(city)), N)\n",
    "headquaters = pd.DataFrame([zipped[i] for i in idx], columns=['Name', 'Address', 'Zip-code', 'City', 'Country'])"
   ]
  },
  {
   "cell_type": "code",
   "execution_count": 102,
   "metadata": {},
   "outputs": [],
   "source": [
    "data = pd.concat([rand_table, headquaters], sort=True, axis=1)"
   ]
  },
  {
   "cell_type": "code",
   "execution_count": 104,
   "metadata": {},
   "outputs": [
    {
     "data": {
      "text/html": [
       "<div>\n",
       "<style scoped>\n",
       "    .dataframe tbody tr th:only-of-type {\n",
       "        vertical-align: middle;\n",
       "    }\n",
       "\n",
       "    .dataframe tbody tr th {\n",
       "        vertical-align: top;\n",
       "    }\n",
       "\n",
       "    .dataframe thead th {\n",
       "        text-align: right;\n",
       "    }\n",
       "</style>\n",
       "<table border=\"1\" class=\"dataframe\">\n",
       "  <thead>\n",
       "    <tr style=\"text-align: right;\">\n",
       "      <th></th>\n",
       "      <th>Date</th>\n",
       "      <th>Var1</th>\n",
       "      <th>Var2</th>\n",
       "      <th>Var3</th>\n",
       "      <th>Name</th>\n",
       "      <th>Address</th>\n",
       "      <th>Zip-code</th>\n",
       "      <th>City</th>\n",
       "      <th>Country</th>\n",
       "    </tr>\n",
       "  </thead>\n",
       "  <tbody>\n",
       "    <tr>\n",
       "      <th>1908</th>\n",
       "      <td>2006-02-23</td>\n",
       "      <td>0.427379</td>\n",
       "      <td>in progress</td>\n",
       "      <td>True</td>\n",
       "      <td>Beiersdorf Manufacturing Berlin GmbH</td>\n",
       "      <td>Franklinstrasse 1</td>\n",
       "      <td>10587</td>\n",
       "      <td>Berlin</td>\n",
       "      <td>Germany</td>\n",
       "    </tr>\n",
       "    <tr>\n",
       "      <th>190</th>\n",
       "      <td>2014-04-13</td>\n",
       "      <td>0.854432</td>\n",
       "      <td>in progress</td>\n",
       "      <td>True</td>\n",
       "      <td>Beiersdorf AG</td>\n",
       "      <td>Unnastrasse 48</td>\n",
       "      <td>20253</td>\n",
       "      <td>Hamburg</td>\n",
       "      <td>Germany</td>\n",
       "    </tr>\n",
       "    <tr>\n",
       "      <th>2743</th>\n",
       "      <td>2009-06-24</td>\n",
       "      <td>0.994221</td>\n",
       "      <td>in progress</td>\n",
       "      <td>True</td>\n",
       "      <td>Beiersdorf AG</td>\n",
       "      <td>Unnastrasse 48</td>\n",
       "      <td>20253</td>\n",
       "      <td>Hamburg</td>\n",
       "      <td>Germany</td>\n",
       "    </tr>\n",
       "    <tr>\n",
       "      <th>2933</th>\n",
       "      <td>2007-03-02</td>\n",
       "      <td>0.623525</td>\n",
       "      <td>completed</td>\n",
       "      <td>True</td>\n",
       "      <td>Beiersdorf Manufacturing Berlin GmbH</td>\n",
       "      <td>Franklinstrasse 1</td>\n",
       "      <td>10587</td>\n",
       "      <td>Berlin</td>\n",
       "      <td>Germany</td>\n",
       "    </tr>\n",
       "    <tr>\n",
       "      <th>4970</th>\n",
       "      <td>2005-12-22</td>\n",
       "      <td>0.226473</td>\n",
       "      <td>completed</td>\n",
       "      <td>False</td>\n",
       "      <td>Beiersdorf Shared Services GmbH</td>\n",
       "      <td>Quickbornstrasse 24</td>\n",
       "      <td>20253</td>\n",
       "      <td>Hamburg</td>\n",
       "      <td>Germany</td>\n",
       "    </tr>\n",
       "    <tr>\n",
       "      <th>4904</th>\n",
       "      <td>2015-12-23</td>\n",
       "      <td>0.542095</td>\n",
       "      <td>in progress</td>\n",
       "      <td>False</td>\n",
       "      <td>Beiersdorf Manufacturing Waldheim GmbH</td>\n",
       "      <td>Am Eichberg</td>\n",
       "      <td>04736</td>\n",
       "      <td>Waldheim</td>\n",
       "      <td>Germany</td>\n",
       "    </tr>\n",
       "    <tr>\n",
       "      <th>2406</th>\n",
       "      <td>2015-04-09</td>\n",
       "      <td>0.796632</td>\n",
       "      <td>completed</td>\n",
       "      <td>False</td>\n",
       "      <td>Beiersdorf AG</td>\n",
       "      <td>Unnastrasse 48</td>\n",
       "      <td>20253</td>\n",
       "      <td>Hamburg</td>\n",
       "      <td>Germany</td>\n",
       "    </tr>\n",
       "    <tr>\n",
       "      <th>3552</th>\n",
       "      <td>2015-12-09</td>\n",
       "      <td>0.123518</td>\n",
       "      <td>in progress</td>\n",
       "      <td>False</td>\n",
       "      <td>Beiersdorf Customer Supply GmbH</td>\n",
       "      <td>Unnastrasse 48</td>\n",
       "      <td>20253</td>\n",
       "      <td>Hamburg</td>\n",
       "      <td>Germany</td>\n",
       "    </tr>\n",
       "    <tr>\n",
       "      <th>853</th>\n",
       "      <td>2016-10-09</td>\n",
       "      <td>0.078375</td>\n",
       "      <td>completed</td>\n",
       "      <td>False</td>\n",
       "      <td>Beiersdorf Customer Supply GmbH</td>\n",
       "      <td>Unnastrasse 48</td>\n",
       "      <td>20253</td>\n",
       "      <td>Hamburg</td>\n",
       "      <td>Germany</td>\n",
       "    </tr>\n",
       "    <tr>\n",
       "      <th>4959</th>\n",
       "      <td>2018-01-03</td>\n",
       "      <td>0.401356</td>\n",
       "      <td>in progress</td>\n",
       "      <td>False</td>\n",
       "      <td>Beiersdorf Shared Services GmbH</td>\n",
       "      <td>Quickbornstrasse 24</td>\n",
       "      <td>20253</td>\n",
       "      <td>Hamburg</td>\n",
       "      <td>Germany</td>\n",
       "    </tr>\n",
       "  </tbody>\n",
       "</table>\n",
       "</div>"
      ],
      "text/plain": [
       "           Date      Var1         Var2   Var3  \\\n",
       "1908 2006-02-23  0.427379  in progress   True   \n",
       "190  2014-04-13  0.854432  in progress   True   \n",
       "2743 2009-06-24  0.994221  in progress   True   \n",
       "2933 2007-03-02  0.623525    completed   True   \n",
       "4970 2005-12-22  0.226473    completed  False   \n",
       "4904 2015-12-23  0.542095  in progress  False   \n",
       "2406 2015-04-09  0.796632    completed  False   \n",
       "3552 2015-12-09  0.123518  in progress  False   \n",
       "853  2016-10-09  0.078375    completed  False   \n",
       "4959 2018-01-03  0.401356  in progress  False   \n",
       "\n",
       "                                        Name              Address Zip-code  \\\n",
       "1908    Beiersdorf Manufacturing Berlin GmbH    Franklinstrasse 1    10587   \n",
       "190                            Beiersdorf AG       Unnastrasse 48    20253   \n",
       "2743                           Beiersdorf AG       Unnastrasse 48    20253   \n",
       "2933    Beiersdorf Manufacturing Berlin GmbH    Franklinstrasse 1    10587   \n",
       "4970         Beiersdorf Shared Services GmbH  Quickbornstrasse 24    20253   \n",
       "4904  Beiersdorf Manufacturing Waldheim GmbH          Am Eichberg    04736   \n",
       "2406                           Beiersdorf AG       Unnastrasse 48    20253   \n",
       "3552         Beiersdorf Customer Supply GmbH       Unnastrasse 48    20253   \n",
       "853          Beiersdorf Customer Supply GmbH       Unnastrasse 48    20253   \n",
       "4959         Beiersdorf Shared Services GmbH  Quickbornstrasse 24    20253   \n",
       "\n",
       "          City  Country  \n",
       "1908    Berlin  Germany  \n",
       "190    Hamburg  Germany  \n",
       "2743   Hamburg  Germany  \n",
       "2933    Berlin  Germany  \n",
       "4970   Hamburg  Germany  \n",
       "4904  Waldheim  Germany  \n",
       "2406   Hamburg  Germany  \n",
       "3552   Hamburg  Germany  \n",
       "853    Hamburg  Germany  \n",
       "4959   Hamburg  Germany  "
      ]
     },
     "execution_count": 104,
     "metadata": {},
     "output_type": "execute_result"
    }
   ],
   "source": [
    "data.sample(10)"
   ]
  },
  {
   "cell_type": "code",
   "execution_count": 110,
   "metadata": {},
   "outputs": [],
   "source": [
    "data.to_csv('../data/fake_beiersdorf_data_german.csv', sep=';', index=False)\n",
    "data.to_csv('../data/fake_beiersdorf_data.csv', index=False)"
   ]
  },
  {
   "cell_type": "markdown",
   "metadata": {},
   "source": [
    "***"
   ]
  }
 ],
 "metadata": {
  "kernelspec": {
   "display_name": "Python 3",
   "language": "python",
   "name": "python3"
  },
  "language_info": {
   "codemirror_mode": {
    "name": "ipython",
    "version": 3
   },
   "file_extension": ".py",
   "mimetype": "text/x-python",
   "name": "python",
   "nbconvert_exporter": "python",
   "pygments_lexer": "ipython3",
   "version": "3.6.7"
  }
 },
 "nbformat": 4,
 "nbformat_minor": 2
}
