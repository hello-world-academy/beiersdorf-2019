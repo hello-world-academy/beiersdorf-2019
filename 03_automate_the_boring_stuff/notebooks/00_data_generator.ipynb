{
 "cells": [
  {
   "cell_type": "markdown",
   "metadata": {},
   "source": [
    "# Tabular data examples"
   ]
  },
  {
   "cell_type": "code",
   "execution_count": 1,
   "metadata": {},
   "outputs": [],
   "source": [
    "import numpy as np\n",
    "import pandas as pd"
   ]
  },
  {
   "cell_type": "markdown",
   "metadata": {},
   "source": [
    "## Generate data: `from one to many`"
   ]
  },
  {
   "cell_type": "code",
   "execution_count": 7,
   "metadata": {},
   "outputs": [],
   "source": [
    "N = 5000"
   ]
  },
  {
   "cell_type": "code",
   "execution_count": 8,
   "metadata": {},
   "outputs": [
    {
     "data": {
      "text/plain": [
       "DatetimeIndex(['2018-08-31', '2018-09-01', '2018-09-02', '2018-09-03',\n",
       "               '2018-09-04', '2018-09-05', '2018-09-06', '2018-09-07',\n",
       "               '2018-09-08', '2018-09-09'],\n",
       "              dtype='datetime64[ns]', freq='D')"
      ]
     },
     "execution_count": 8,
     "metadata": {},
     "output_type": "execute_result"
    }
   ],
   "source": [
    "dates_range = pd.date_range(start='1/1/2005', periods=N)\n",
    "dates_range[-10:]"
   ]
  },
  {
   "cell_type": "code",
   "execution_count": 9,
   "metadata": {},
   "outputs": [],
   "source": [
    "date = pd.to_datetime(np.random.choice(dates_range, N))\n",
    "region = None\n",
    "var1 = np.random.random(N)\n",
    "var2 = np.random.choice(['in progress', 'completed'], N)\n",
    "var3 = np.random.choice([True, False], N)\n",
    "rand_table = pd.DataFrame({'Date':date, 'Var1':var1, 'Var2':var2, 'Var3':var3})"
   ]
  },
  {
   "cell_type": "code",
   "execution_count": 10,
   "metadata": {},
   "outputs": [],
   "source": [
    "name = ['Beiersdorf AG', 'Beiersdorf Customer Supply GmbH', 'Beiersdorf Manufacturing Berlin GmbH', \n",
    "       'Beiersdorf Manufacturing Hamburg GmbH', 'Beiersdorf Manufacturing Waldheim GmbH',\"Beiersdorf Shared Services GmbH\",\n",
    "       \"La Prairie Group Deutschland GmbH\", \"WINGMAN-STUDIOS GmbH\"]\n",
    "address = ['Unnastrasse 48', 'Unnastrasse 48', 'Franklinstrasse 1', 'Troplowitzstrasse 10', 'Am Eichberg', \n",
    "          'Quickbornstrasse 24', 'Lange Straße 65', 'Troplowitzstrasse 10']\n",
    "zip_code = ['20253', '20253', '10587', '22529', '04736', '20253', '76530', '22529']\n",
    "city = ['Hamburg', 'Hamburg', 'Berlin', 'Hamburg','Waldheim', 'Hamburg', 'Baden-Baden' 'Hamburg']\n",
    "country = ['Germany'] * len(city)\n",
    "\n",
    "zipped = list(zip(name, address, zip_code, city, country))\n",
    "idx = np.random.choice(range(len(city)), N)\n",
    "headquaters = pd.DataFrame([zipped[i] for i in idx], columns=['Name', 'Address', 'Zip-code', 'City', 'Country'])"
   ]
  },
  {
   "cell_type": "code",
   "execution_count": 11,
   "metadata": {},
   "outputs": [],
   "source": [
    "data = pd.concat([rand_table, headquaters], sort=True, axis=1)"
   ]
  },
  {
   "cell_type": "code",
   "execution_count": 12,
   "metadata": {},
   "outputs": [
    {
     "data": {
      "text/html": [
       "<div>\n",
       "<style scoped>\n",
       "    .dataframe tbody tr th:only-of-type {\n",
       "        vertical-align: middle;\n",
       "    }\n",
       "\n",
       "    .dataframe tbody tr th {\n",
       "        vertical-align: top;\n",
       "    }\n",
       "\n",
       "    .dataframe thead th {\n",
       "        text-align: right;\n",
       "    }\n",
       "</style>\n",
       "<table border=\"1\" class=\"dataframe\">\n",
       "  <thead>\n",
       "    <tr style=\"text-align: right;\">\n",
       "      <th></th>\n",
       "      <th>Date</th>\n",
       "      <th>Var1</th>\n",
       "      <th>Var2</th>\n",
       "      <th>Var3</th>\n",
       "      <th>Name</th>\n",
       "      <th>Address</th>\n",
       "      <th>Zip-code</th>\n",
       "      <th>City</th>\n",
       "      <th>Country</th>\n",
       "    </tr>\n",
       "  </thead>\n",
       "  <tbody>\n",
       "    <tr>\n",
       "      <th>2446</th>\n",
       "      <td>2005-01-02</td>\n",
       "      <td>0.053435</td>\n",
       "      <td>in progress</td>\n",
       "      <td>False</td>\n",
       "      <td>Beiersdorf Manufacturing Hamburg GmbH</td>\n",
       "      <td>Troplowitzstrasse 10</td>\n",
       "      <td>22529</td>\n",
       "      <td>Hamburg</td>\n",
       "      <td>Germany</td>\n",
       "    </tr>\n",
       "    <tr>\n",
       "      <th>4413</th>\n",
       "      <td>2018-06-15</td>\n",
       "      <td>0.677470</td>\n",
       "      <td>in progress</td>\n",
       "      <td>False</td>\n",
       "      <td>Beiersdorf Manufacturing Hamburg GmbH</td>\n",
       "      <td>Troplowitzstrasse 10</td>\n",
       "      <td>22529</td>\n",
       "      <td>Hamburg</td>\n",
       "      <td>Germany</td>\n",
       "    </tr>\n",
       "    <tr>\n",
       "      <th>3950</th>\n",
       "      <td>2006-11-10</td>\n",
       "      <td>0.140370</td>\n",
       "      <td>completed</td>\n",
       "      <td>False</td>\n",
       "      <td>Beiersdorf AG</td>\n",
       "      <td>Unnastrasse 48</td>\n",
       "      <td>20253</td>\n",
       "      <td>Hamburg</td>\n",
       "      <td>Germany</td>\n",
       "    </tr>\n",
       "    <tr>\n",
       "      <th>3752</th>\n",
       "      <td>2015-12-22</td>\n",
       "      <td>0.040187</td>\n",
       "      <td>in progress</td>\n",
       "      <td>False</td>\n",
       "      <td>Beiersdorf Manufacturing Berlin GmbH</td>\n",
       "      <td>Franklinstrasse 1</td>\n",
       "      <td>10587</td>\n",
       "      <td>Berlin</td>\n",
       "      <td>Germany</td>\n",
       "    </tr>\n",
       "    <tr>\n",
       "      <th>897</th>\n",
       "      <td>2013-07-31</td>\n",
       "      <td>0.192083</td>\n",
       "      <td>in progress</td>\n",
       "      <td>True</td>\n",
       "      <td>Beiersdorf Manufacturing Hamburg GmbH</td>\n",
       "      <td>Troplowitzstrasse 10</td>\n",
       "      <td>22529</td>\n",
       "      <td>Hamburg</td>\n",
       "      <td>Germany</td>\n",
       "    </tr>\n",
       "    <tr>\n",
       "      <th>1909</th>\n",
       "      <td>2005-03-05</td>\n",
       "      <td>0.546640</td>\n",
       "      <td>in progress</td>\n",
       "      <td>True</td>\n",
       "      <td>Beiersdorf Manufacturing Waldheim GmbH</td>\n",
       "      <td>Am Eichberg</td>\n",
       "      <td>04736</td>\n",
       "      <td>Waldheim</td>\n",
       "      <td>Germany</td>\n",
       "    </tr>\n",
       "    <tr>\n",
       "      <th>4785</th>\n",
       "      <td>2005-02-25</td>\n",
       "      <td>0.779751</td>\n",
       "      <td>in progress</td>\n",
       "      <td>True</td>\n",
       "      <td>Beiersdorf Manufacturing Berlin GmbH</td>\n",
       "      <td>Franklinstrasse 1</td>\n",
       "      <td>10587</td>\n",
       "      <td>Berlin</td>\n",
       "      <td>Germany</td>\n",
       "    </tr>\n",
       "    <tr>\n",
       "      <th>1187</th>\n",
       "      <td>2009-09-29</td>\n",
       "      <td>0.197042</td>\n",
       "      <td>completed</td>\n",
       "      <td>False</td>\n",
       "      <td>Beiersdorf Manufacturing Berlin GmbH</td>\n",
       "      <td>Franklinstrasse 1</td>\n",
       "      <td>10587</td>\n",
       "      <td>Berlin</td>\n",
       "      <td>Germany</td>\n",
       "    </tr>\n",
       "    <tr>\n",
       "      <th>1334</th>\n",
       "      <td>2014-01-09</td>\n",
       "      <td>0.723680</td>\n",
       "      <td>completed</td>\n",
       "      <td>False</td>\n",
       "      <td>Beiersdorf Customer Supply GmbH</td>\n",
       "      <td>Unnastrasse 48</td>\n",
       "      <td>20253</td>\n",
       "      <td>Hamburg</td>\n",
       "      <td>Germany</td>\n",
       "    </tr>\n",
       "    <tr>\n",
       "      <th>380</th>\n",
       "      <td>2016-04-13</td>\n",
       "      <td>0.485513</td>\n",
       "      <td>in progress</td>\n",
       "      <td>False</td>\n",
       "      <td>Beiersdorf Manufacturing Hamburg GmbH</td>\n",
       "      <td>Troplowitzstrasse 10</td>\n",
       "      <td>22529</td>\n",
       "      <td>Hamburg</td>\n",
       "      <td>Germany</td>\n",
       "    </tr>\n",
       "  </tbody>\n",
       "</table>\n",
       "</div>"
      ],
      "text/plain": [
       "           Date      Var1         Var2   Var3  \\\n",
       "2446 2005-01-02  0.053435  in progress  False   \n",
       "4413 2018-06-15  0.677470  in progress  False   \n",
       "3950 2006-11-10  0.140370    completed  False   \n",
       "3752 2015-12-22  0.040187  in progress  False   \n",
       "897  2013-07-31  0.192083  in progress   True   \n",
       "1909 2005-03-05  0.546640  in progress   True   \n",
       "4785 2005-02-25  0.779751  in progress   True   \n",
       "1187 2009-09-29  0.197042    completed  False   \n",
       "1334 2014-01-09  0.723680    completed  False   \n",
       "380  2016-04-13  0.485513  in progress  False   \n",
       "\n",
       "                                        Name               Address Zip-code  \\\n",
       "2446   Beiersdorf Manufacturing Hamburg GmbH  Troplowitzstrasse 10    22529   \n",
       "4413   Beiersdorf Manufacturing Hamburg GmbH  Troplowitzstrasse 10    22529   \n",
       "3950                           Beiersdorf AG        Unnastrasse 48    20253   \n",
       "3752    Beiersdorf Manufacturing Berlin GmbH     Franklinstrasse 1    10587   \n",
       "897    Beiersdorf Manufacturing Hamburg GmbH  Troplowitzstrasse 10    22529   \n",
       "1909  Beiersdorf Manufacturing Waldheim GmbH           Am Eichberg    04736   \n",
       "4785    Beiersdorf Manufacturing Berlin GmbH     Franklinstrasse 1    10587   \n",
       "1187    Beiersdorf Manufacturing Berlin GmbH     Franklinstrasse 1    10587   \n",
       "1334         Beiersdorf Customer Supply GmbH        Unnastrasse 48    20253   \n",
       "380    Beiersdorf Manufacturing Hamburg GmbH  Troplowitzstrasse 10    22529   \n",
       "\n",
       "          City  Country  \n",
       "2446   Hamburg  Germany  \n",
       "4413   Hamburg  Germany  \n",
       "3950   Hamburg  Germany  \n",
       "3752    Berlin  Germany  \n",
       "897    Hamburg  Germany  \n",
       "1909  Waldheim  Germany  \n",
       "4785    Berlin  Germany  \n",
       "1187    Berlin  Germany  \n",
       "1334   Hamburg  Germany  \n",
       "380    Hamburg  Germany  "
      ]
     },
     "execution_count": 12,
     "metadata": {},
     "output_type": "execute_result"
    }
   ],
   "source": [
    "data.sample(10)"
   ]
  },
  {
   "cell_type": "code",
   "execution_count": 13,
   "metadata": {},
   "outputs": [],
   "source": [
    "data.to_csv('../data/fake_beiersdorf_data_german.csv', sep=';', index=False)\n",
    "data.to_csv('../data/fake_beiersdorf_data.csv', index=False)"
   ]
  },
  {
   "cell_type": "markdown",
   "metadata": {},
   "source": [
    "***"
   ]
  },
  {
   "cell_type": "markdown",
   "metadata": {},
   "source": [
    "## Generate data: `from xls to xlsx`"
   ]
  },
  {
   "cell_type": "markdown",
   "metadata": {},
   "source": [
    "__xls__"
   ]
  },
  {
   "cell_type": "code",
   "execution_count": 32,
   "metadata": {},
   "outputs": [],
   "source": [
    "number_of_files = 50\n",
    "\n",
    "for e in range(number_of_files):\n",
    "    filename = f'../data/xls_files/fake_xlsfile_{e}.xls'\n",
    "    N = np.random.randint(25, 1000) # random number of rows\n",
    "    var1 = np.random.random(N)\n",
    "    var2 = np.random.choice(['in progress', 'completed'], N)\n",
    "    var3 = np.random.choice([True, False], N)\n",
    "    rand_table = pd.DataFrame({'Var1':var1, 'Var2':var2, 'Var3':var3})\n",
    "    rand_table.to_excel(filename)\n"
   ]
  },
  {
   "cell_type": "markdown",
   "metadata": {},
   "source": [
    "__xlsx__"
   ]
  },
  {
   "cell_type": "raw",
   "metadata": {},
   "source": [
    "number_of_files = 50\n",
    "\n",
    "for e in range(number_of_files):\n",
    "    filename = f'../data/xlsx_files/fake_xlsfile_{e}.xlsx'\n",
    "    N = np.random.randint(25, 1000) # random number of rows\n",
    "    var1 = np.random.random(N)\n",
    "    var2 = np.random.choice(['in progress', 'completed'], N)\n",
    "    var3 = np.random.choice([True, False], N)\n",
    "    rand_table = pd.DataFrame({'Var1':var1, 'Var2':var2, 'Var3':var3})\n",
    "    rand_table.to_excel(filename)"
   ]
  },
  {
   "cell_type": "markdown",
   "metadata": {},
   "source": [
    "***"
   ]
  },
  {
   "cell_type": "markdown",
   "metadata": {},
   "source": [
    "# Image download from google\n",
    "\n",
    "https://github.com/hardikvasa/google-images-download"
   ]
  },
  {
   "cell_type": "code",
   "execution_count": 50,
   "metadata": {},
   "outputs": [],
   "source": [
    "arguments = {\n",
    "    \"keywords\": \"beiersdorf\",\n",
    "    \"limit\": 15,\n",
    "    \"size\" : '>800*600',\n",
    "    \"print_urls\": True,\n",
    "    \"output_directory\": '../data/images',\n",
    "    'format' : 'png'\n",
    "        }"
   ]
  },
  {
   "cell_type": "code",
   "execution_count": 51,
   "metadata": {},
   "outputs": [],
   "source": [
    "from google_images_download import google_images_download   #importing the library\n",
    "response = google_images_download.googleimagesdownload()   #class instantiation"
   ]
  },
  {
   "cell_type": "code",
   "execution_count": 53,
   "metadata": {},
   "outputs": [
    {
     "name": "stdout",
     "output_type": "stream",
     "text": [
      "\n",
      "Item no.: 1 --> Item name = beiersdorf\n",
      "Evaluating...\n",
      "Starting Download...\n",
      "Image URL: https://www.beiersdorf.de/~/media/Beiersdorf/brands/overview/Product-Range-Large-Stage-Teaser.png?w=1280&h=450&ch=c&crop=1\n",
      "Completed Image ====> 1.Product-Range-Large-Stage-Teaser.png\n",
      "Image URL: https://www.beiersdorf.de/~/media/Beiersdorf/home/teasers/Product-Range-Small-teaser-home-padding.png?mh=600&highRes=1\n",
      "Completed Image ====> 2.Product-Range-Small-teaser-home-padding.png\n",
      "Image URL: https://www.beiersdorf.de/~/media/Beiersdorf/newsroom/press-releases/2019/2019-09-09-beiersdorf-launches-skincare-brand-for-tattooed-skin/Beiersdorf-skin-stories-logo-teaser-2019.png\n",
      "Completed Image ====> 3.Beiersdorf-skin-stories-logo-teaser-2019.png\n",
      "Image URL: https://www.beiersdorf.de/~/media/Beiersdorf/local/de/about-us/Beiersdorf-Weltkarte-Beiersdorf.png\n",
      "Completed Image ====> 4.Beiersdorf-Weltkarte-Beiersdorf.png\n",
      "Image URL: https://www.beiersdorf.de/~/media/Beiersdorf/sustainability/stakeholder-engagement/Mitarbeiter/Beiersdorf-cent-initative-2019.png?la=de-DE&mw=940&highRes=1\n",
      "Completed Image ====> 5.Beiersdorf-cent-initative-2019.png\n",
      "Image URL: https://static.seekingalpha.com/uploads/2018/1/21/35325395-15165478940958765_origin.png\n",
      "Completed Image ====> 6.35325395-15165478940958765_origin.png\n",
      "Image URL: https://upload.wikimedia.org/wikipedia/commons/thumb/a/a2/Beiersdorf.svg/1280px-Beiersdorf.svg.png\n",
      "Completed Image ====> 7.1280px-Beiersdorf.svg.png\n",
      "Image URL: http://www.nawrocki-pr.de/wp-content/uploads/2016/05/beiersdorf.png\n",
      "Completed Image ====> 8.beiersdorf.png\n",
      "Image URL: https://www.beiersdorf.de/~/media/Beiersdorf/sustainability/people/employee-health-and-safety/workplace-health/Beiersdorf-good-logo.png?la=de-DE&mw=940&highRes=1\n",
      "Completed Image ====> 9.Beiersdorf-good-logo.png\n",
      "Image URL: https://upload.wikimedia.org/wikipedia/commons/thumb/0/0b/Beiersdorf_Logo.svg/2000px-Beiersdorf_Logo.svg.png\n",
      "Completed Image ====> 10.2000px-Beiersdorf_Logo.svg.png\n",
      "Image URL: https://www.beiersdorf.de/~/media/Beiersdorf/investors/shares/Factsheet/2019-agm/Beiersdorf-Factsheet-2018-de.png?la=de-DE&mw=940&highRes=1\n",
      "Completed Image ====> 11.Beiersdorf-Factsheet-2018-de.png\n",
      "Image URL: https://www.beiersdorf.at/~/media/Beiersdorf/local/at/sustainability/ueberblick/Sortiment-1880x1058-Beiersdorf.png?mw=940&highRes=1\n",
      "Completed Image ====> 12.Sortiment-1880x1058-Beiersdorf.png\n",
      "Image URL: https://www.beiersdorfusa.com/~/media/Beiersdorf/local/us/home/Strong-Brands-Homestage-Beiersdorf.png?mh=400&highRes=1\n",
      "Completed Image ====> 13.Strong-Brands-Homestage-Beiersdorf.png\n",
      "Image URL: https://www.beiersdorf.de/~/media/Beiersdorf/local/de/newsroom/press-releases/2018/2018-11-13-die-NIVEA-preise-fuer-lebensretter-2018/Beiersdorf-stefan-de-loecker-und-christian-dahl.png?la=de-DE&mw=940&highRes=1\n",
      "Completed Image ====> 14.Beiersdorf-stefan-de-loecker-und-christian-dahl.png\n",
      "Image URL: https://upload.wikimedia.org/wikipedia/de/thumb/f/f3/Beiersdorf_CI_%28white_on_blue%29.svg/2000px-Beiersdorf_CI_%28white_on_blue%29.svg.png\n",
      "Completed Image ====> 15.2000px-Beiersdorf_CI_%28white_on_blue%29.svg.png\n",
      "\n",
      "Errors: 0\n",
      "\n"
     ]
    }
   ],
   "source": [
    "paths = response.download(arguments)   #passing the arguments to the function"
   ]
  },
  {
   "cell_type": "code",
   "execution_count": null,
   "metadata": {},
   "outputs": [],
   "source": []
  }
 ],
 "metadata": {
  "kernelspec": {
   "display_name": "Python 3",
   "language": "python",
   "name": "python3"
  },
  "language_info": {
   "codemirror_mode": {
    "name": "ipython",
    "version": 3
   },
   "file_extension": ".py",
   "mimetype": "text/x-python",
   "name": "python",
   "nbconvert_exporter": "python",
   "pygments_lexer": "ipython3",
   "version": "3.6.7"
  }
 },
 "nbformat": 4,
 "nbformat_minor": 2
}
